{
 "cells": [
  {
   "cell_type": "markdown",
   "metadata": {},
   "source": [
    "# Imporing essentials"
   ]
  },
  {
   "cell_type": "code",
   "execution_count": 1,
   "metadata": {
    "execution": {
     "iopub.execute_input": "2021-10-13T14:16:33.853438Z",
     "iopub.status.busy": "2021-10-13T14:16:33.852426Z",
     "iopub.status.idle": "2021-10-13T14:16:35.119542Z",
     "shell.execute_reply": "2021-10-13T14:16:35.118736Z",
     "shell.execute_reply.started": "2021-10-13T14:16:33.853388Z"
    }
   },
   "outputs": [],
   "source": [
    "import numpy as np\n",
    "import pandas as pd\n",
    "import matplotlib.pyplot as plt\n",
    "import seaborn as sns\n",
    "from sklearn.model_selection import train_test_split\n",
    "from sklearn.ensemble import RandomForestRegressor\n",
    "from sklearn import metrics"
   ]
  },
  {
   "cell_type": "markdown",
   "metadata": {},
   "source": [
    "# Loading the Data"
   ]
  },
  {
   "cell_type": "code",
   "execution_count": 2,
   "metadata": {
    "execution": {
     "iopub.execute_input": "2021-10-13T14:16:35.121411Z",
     "iopub.status.busy": "2021-10-13T14:16:35.120737Z",
     "iopub.status.idle": "2021-10-13T14:16:35.157477Z",
     "shell.execute_reply": "2021-10-13T14:16:35.156589Z",
     "shell.execute_reply.started": "2021-10-13T14:16:35.121378Z"
    }
   },
   "outputs": [],
   "source": [
    "df = pd.read_csv('gld_price_data.csv')"
   ]
  },
  {
   "cell_type": "markdown",
   "metadata": {},
   "source": [
    "# Data Analysis"
   ]
  },
  {
   "cell_type": "code",
   "execution_count": 3,
   "metadata": {
    "execution": {
     "iopub.execute_input": "2021-10-13T14:16:35.159117Z",
     "iopub.status.busy": "2021-10-13T14:16:35.15887Z",
     "iopub.status.idle": "2021-10-13T14:16:35.181097Z",
     "shell.execute_reply": "2021-10-13T14:16:35.180201Z",
     "shell.execute_reply.started": "2021-10-13T14:16:35.15909Z"
    }
   },
   "outputs": [
    {
     "data": {
      "text/html": [
       "<div>\n",
       "<style scoped>\n",
       "    .dataframe tbody tr th:only-of-type {\n",
       "        vertical-align: middle;\n",
       "    }\n",
       "\n",
       "    .dataframe tbody tr th {\n",
       "        vertical-align: top;\n",
       "    }\n",
       "\n",
       "    .dataframe thead th {\n",
       "        text-align: right;\n",
       "    }\n",
       "</style>\n",
       "<table border=\"1\" class=\"dataframe\">\n",
       "  <thead>\n",
       "    <tr style=\"text-align: right;\">\n",
       "      <th></th>\n",
       "      <th>Date</th>\n",
       "      <th>SPX</th>\n",
       "      <th>GLD</th>\n",
       "      <th>USO</th>\n",
       "      <th>SLV</th>\n",
       "      <th>EUR/USD</th>\n",
       "    </tr>\n",
       "  </thead>\n",
       "  <tbody>\n",
       "    <tr>\n",
       "      <th>0</th>\n",
       "      <td>1/2/2008</td>\n",
       "      <td>1447.160034</td>\n",
       "      <td>84.860001</td>\n",
       "      <td>78.470001</td>\n",
       "      <td>15.180</td>\n",
       "      <td>1.471692</td>\n",
       "    </tr>\n",
       "    <tr>\n",
       "      <th>1</th>\n",
       "      <td>1/3/2008</td>\n",
       "      <td>1447.160034</td>\n",
       "      <td>85.570000</td>\n",
       "      <td>78.370003</td>\n",
       "      <td>15.285</td>\n",
       "      <td>1.474491</td>\n",
       "    </tr>\n",
       "    <tr>\n",
       "      <th>2</th>\n",
       "      <td>1/4/2008</td>\n",
       "      <td>1411.630005</td>\n",
       "      <td>85.129997</td>\n",
       "      <td>77.309998</td>\n",
       "      <td>15.167</td>\n",
       "      <td>1.475492</td>\n",
       "    </tr>\n",
       "    <tr>\n",
       "      <th>3</th>\n",
       "      <td>1/7/2008</td>\n",
       "      <td>1416.180054</td>\n",
       "      <td>84.769997</td>\n",
       "      <td>75.500000</td>\n",
       "      <td>15.053</td>\n",
       "      <td>1.468299</td>\n",
       "    </tr>\n",
       "    <tr>\n",
       "      <th>4</th>\n",
       "      <td>1/8/2008</td>\n",
       "      <td>1390.189941</td>\n",
       "      <td>86.779999</td>\n",
       "      <td>76.059998</td>\n",
       "      <td>15.590</td>\n",
       "      <td>1.557099</td>\n",
       "    </tr>\n",
       "  </tbody>\n",
       "</table>\n",
       "</div>"
      ],
      "text/plain": [
       "       Date          SPX        GLD        USO     SLV   EUR/USD\n",
       "0  1/2/2008  1447.160034  84.860001  78.470001  15.180  1.471692\n",
       "1  1/3/2008  1447.160034  85.570000  78.370003  15.285  1.474491\n",
       "2  1/4/2008  1411.630005  85.129997  77.309998  15.167  1.475492\n",
       "3  1/7/2008  1416.180054  84.769997  75.500000  15.053  1.468299\n",
       "4  1/8/2008  1390.189941  86.779999  76.059998  15.590  1.557099"
      ]
     },
     "execution_count": 3,
     "metadata": {},
     "output_type": "execute_result"
    }
   ],
   "source": [
    "df.head()"
   ]
  },
  {
   "cell_type": "code",
   "execution_count": 4,
   "metadata": {
    "execution": {
     "iopub.execute_input": "2021-10-13T14:16:35.18354Z",
     "iopub.status.busy": "2021-10-13T14:16:35.183234Z",
     "iopub.status.idle": "2021-10-13T14:16:35.196055Z",
     "shell.execute_reply": "2021-10-13T14:16:35.195476Z",
     "shell.execute_reply.started": "2021-10-13T14:16:35.183501Z"
    }
   },
   "outputs": [
    {
     "data": {
      "text/html": [
       "<div>\n",
       "<style scoped>\n",
       "    .dataframe tbody tr th:only-of-type {\n",
       "        vertical-align: middle;\n",
       "    }\n",
       "\n",
       "    .dataframe tbody tr th {\n",
       "        vertical-align: top;\n",
       "    }\n",
       "\n",
       "    .dataframe thead th {\n",
       "        text-align: right;\n",
       "    }\n",
       "</style>\n",
       "<table border=\"1\" class=\"dataframe\">\n",
       "  <thead>\n",
       "    <tr style=\"text-align: right;\">\n",
       "      <th></th>\n",
       "      <th>Date</th>\n",
       "      <th>SPX</th>\n",
       "      <th>GLD</th>\n",
       "      <th>USO</th>\n",
       "      <th>SLV</th>\n",
       "      <th>EUR/USD</th>\n",
       "    </tr>\n",
       "  </thead>\n",
       "  <tbody>\n",
       "    <tr>\n",
       "      <th>2285</th>\n",
       "      <td>5/8/2018</td>\n",
       "      <td>2671.919922</td>\n",
       "      <td>124.589996</td>\n",
       "      <td>14.0600</td>\n",
       "      <td>15.5100</td>\n",
       "      <td>1.186789</td>\n",
       "    </tr>\n",
       "    <tr>\n",
       "      <th>2286</th>\n",
       "      <td>5/9/2018</td>\n",
       "      <td>2697.790039</td>\n",
       "      <td>124.330002</td>\n",
       "      <td>14.3700</td>\n",
       "      <td>15.5300</td>\n",
       "      <td>1.184722</td>\n",
       "    </tr>\n",
       "    <tr>\n",
       "      <th>2287</th>\n",
       "      <td>5/10/2018</td>\n",
       "      <td>2723.070068</td>\n",
       "      <td>125.180000</td>\n",
       "      <td>14.4100</td>\n",
       "      <td>15.7400</td>\n",
       "      <td>1.191753</td>\n",
       "    </tr>\n",
       "    <tr>\n",
       "      <th>2288</th>\n",
       "      <td>5/14/2018</td>\n",
       "      <td>2730.129883</td>\n",
       "      <td>124.489998</td>\n",
       "      <td>14.3800</td>\n",
       "      <td>15.5600</td>\n",
       "      <td>1.193118</td>\n",
       "    </tr>\n",
       "    <tr>\n",
       "      <th>2289</th>\n",
       "      <td>5/16/2018</td>\n",
       "      <td>2725.780029</td>\n",
       "      <td>122.543800</td>\n",
       "      <td>14.4058</td>\n",
       "      <td>15.4542</td>\n",
       "      <td>1.182033</td>\n",
       "    </tr>\n",
       "  </tbody>\n",
       "</table>\n",
       "</div>"
      ],
      "text/plain": [
       "           Date          SPX         GLD      USO      SLV   EUR/USD\n",
       "2285   5/8/2018  2671.919922  124.589996  14.0600  15.5100  1.186789\n",
       "2286   5/9/2018  2697.790039  124.330002  14.3700  15.5300  1.184722\n",
       "2287  5/10/2018  2723.070068  125.180000  14.4100  15.7400  1.191753\n",
       "2288  5/14/2018  2730.129883  124.489998  14.3800  15.5600  1.193118\n",
       "2289  5/16/2018  2725.780029  122.543800  14.4058  15.4542  1.182033"
      ]
     },
     "execution_count": 4,
     "metadata": {},
     "output_type": "execute_result"
    }
   ],
   "source": [
    "df.tail()"
   ]
  },
  {
   "cell_type": "code",
   "execution_count": 5,
   "metadata": {
    "execution": {
     "iopub.execute_input": "2021-10-13T14:16:35.197251Z",
     "iopub.status.busy": "2021-10-13T14:16:35.197033Z",
     "iopub.status.idle": "2021-10-13T14:16:35.209974Z",
     "shell.execute_reply": "2021-10-13T14:16:35.209168Z",
     "shell.execute_reply.started": "2021-10-13T14:16:35.197228Z"
    }
   },
   "outputs": [
    {
     "data": {
      "text/plain": [
       "(2290, 6)"
      ]
     },
     "execution_count": 5,
     "metadata": {},
     "output_type": "execute_result"
    }
   ],
   "source": [
    "df.shape"
   ]
  },
  {
   "cell_type": "code",
   "execution_count": 6,
   "metadata": {
    "execution": {
     "iopub.execute_input": "2021-10-13T14:16:35.211522Z",
     "iopub.status.busy": "2021-10-13T14:16:35.211297Z",
     "iopub.status.idle": "2021-10-13T14:16:35.241306Z",
     "shell.execute_reply": "2021-10-13T14:16:35.240612Z",
     "shell.execute_reply.started": "2021-10-13T14:16:35.211497Z"
    }
   },
   "outputs": [
    {
     "name": "stdout",
     "output_type": "stream",
     "text": [
      "<class 'pandas.core.frame.DataFrame'>\n",
      "RangeIndex: 2290 entries, 0 to 2289\n",
      "Data columns (total 6 columns):\n",
      " #   Column   Non-Null Count  Dtype  \n",
      "---  ------   --------------  -----  \n",
      " 0   Date     2290 non-null   object \n",
      " 1   SPX      2290 non-null   float64\n",
      " 2   GLD      2290 non-null   float64\n",
      " 3   USO      2290 non-null   float64\n",
      " 4   SLV      2290 non-null   float64\n",
      " 5   EUR/USD  2290 non-null   float64\n",
      "dtypes: float64(5), object(1)\n",
      "memory usage: 107.5+ KB\n"
     ]
    }
   ],
   "source": [
    "df.info()"
   ]
  },
  {
   "cell_type": "code",
   "execution_count": 7,
   "metadata": {
    "execution": {
     "iopub.execute_input": "2021-10-13T14:16:35.242695Z",
     "iopub.status.busy": "2021-10-13T14:16:35.242347Z",
     "iopub.status.idle": "2021-10-13T14:16:35.254439Z",
     "shell.execute_reply": "2021-10-13T14:16:35.253324Z",
     "shell.execute_reply.started": "2021-10-13T14:16:35.242666Z"
    }
   },
   "outputs": [
    {
     "data": {
      "text/plain": [
       "Date       0\n",
       "SPX        0\n",
       "GLD        0\n",
       "USO        0\n",
       "SLV        0\n",
       "EUR/USD    0\n",
       "dtype: int64"
      ]
     },
     "execution_count": 7,
     "metadata": {},
     "output_type": "execute_result"
    }
   ],
   "source": [
    "df.isnull().sum()"
   ]
  },
  {
   "cell_type": "code",
   "execution_count": 8,
   "metadata": {
    "execution": {
     "iopub.execute_input": "2021-10-13T14:16:35.256475Z",
     "iopub.status.busy": "2021-10-13T14:16:35.25593Z",
     "iopub.status.idle": "2021-10-13T14:16:35.284822Z",
     "shell.execute_reply": "2021-10-13T14:16:35.283766Z",
     "shell.execute_reply.started": "2021-10-13T14:16:35.256373Z"
    }
   },
   "outputs": [
    {
     "data": {
      "text/html": [
       "<div>\n",
       "<style scoped>\n",
       "    .dataframe tbody tr th:only-of-type {\n",
       "        vertical-align: middle;\n",
       "    }\n",
       "\n",
       "    .dataframe tbody tr th {\n",
       "        vertical-align: top;\n",
       "    }\n",
       "\n",
       "    .dataframe thead th {\n",
       "        text-align: right;\n",
       "    }\n",
       "</style>\n",
       "<table border=\"1\" class=\"dataframe\">\n",
       "  <thead>\n",
       "    <tr style=\"text-align: right;\">\n",
       "      <th></th>\n",
       "      <th>SPX</th>\n",
       "      <th>GLD</th>\n",
       "      <th>USO</th>\n",
       "      <th>SLV</th>\n",
       "      <th>EUR/USD</th>\n",
       "    </tr>\n",
       "  </thead>\n",
       "  <tbody>\n",
       "    <tr>\n",
       "      <th>count</th>\n",
       "      <td>2290.000000</td>\n",
       "      <td>2290.000000</td>\n",
       "      <td>2290.000000</td>\n",
       "      <td>2290.000000</td>\n",
       "      <td>2290.000000</td>\n",
       "    </tr>\n",
       "    <tr>\n",
       "      <th>mean</th>\n",
       "      <td>1654.315776</td>\n",
       "      <td>122.732875</td>\n",
       "      <td>31.842221</td>\n",
       "      <td>20.084997</td>\n",
       "      <td>1.283653</td>\n",
       "    </tr>\n",
       "    <tr>\n",
       "      <th>std</th>\n",
       "      <td>519.111540</td>\n",
       "      <td>23.283346</td>\n",
       "      <td>19.523517</td>\n",
       "      <td>7.092566</td>\n",
       "      <td>0.131547</td>\n",
       "    </tr>\n",
       "    <tr>\n",
       "      <th>min</th>\n",
       "      <td>676.530029</td>\n",
       "      <td>70.000000</td>\n",
       "      <td>7.960000</td>\n",
       "      <td>8.850000</td>\n",
       "      <td>1.039047</td>\n",
       "    </tr>\n",
       "    <tr>\n",
       "      <th>25%</th>\n",
       "      <td>1239.874969</td>\n",
       "      <td>109.725000</td>\n",
       "      <td>14.380000</td>\n",
       "      <td>15.570000</td>\n",
       "      <td>1.171313</td>\n",
       "    </tr>\n",
       "    <tr>\n",
       "      <th>50%</th>\n",
       "      <td>1551.434998</td>\n",
       "      <td>120.580002</td>\n",
       "      <td>33.869999</td>\n",
       "      <td>17.268500</td>\n",
       "      <td>1.303297</td>\n",
       "    </tr>\n",
       "    <tr>\n",
       "      <th>75%</th>\n",
       "      <td>2073.010070</td>\n",
       "      <td>132.840004</td>\n",
       "      <td>37.827501</td>\n",
       "      <td>22.882499</td>\n",
       "      <td>1.369971</td>\n",
       "    </tr>\n",
       "    <tr>\n",
       "      <th>max</th>\n",
       "      <td>2872.870117</td>\n",
       "      <td>184.589996</td>\n",
       "      <td>117.480003</td>\n",
       "      <td>47.259998</td>\n",
       "      <td>1.598798</td>\n",
       "    </tr>\n",
       "  </tbody>\n",
       "</table>\n",
       "</div>"
      ],
      "text/plain": [
       "               SPX          GLD          USO          SLV      EUR/USD\n",
       "count  2290.000000  2290.000000  2290.000000  2290.000000  2290.000000\n",
       "mean   1654.315776   122.732875    31.842221    20.084997     1.283653\n",
       "std     519.111540    23.283346    19.523517     7.092566     0.131547\n",
       "min     676.530029    70.000000     7.960000     8.850000     1.039047\n",
       "25%    1239.874969   109.725000    14.380000    15.570000     1.171313\n",
       "50%    1551.434998   120.580002    33.869999    17.268500     1.303297\n",
       "75%    2073.010070   132.840004    37.827501    22.882499     1.369971\n",
       "max    2872.870117   184.589996   117.480003    47.259998     1.598798"
      ]
     },
     "execution_count": 8,
     "metadata": {},
     "output_type": "execute_result"
    }
   ],
   "source": [
    "df.describe()"
   ]
  },
  {
   "cell_type": "markdown",
   "metadata": {},
   "source": [
    "### Correlations"
   ]
  },
  {
   "cell_type": "code",
   "execution_count": 9,
   "metadata": {
    "execution": {
     "iopub.execute_input": "2021-10-13T14:16:35.286501Z",
     "iopub.status.busy": "2021-10-13T14:16:35.286168Z",
     "iopub.status.idle": "2021-10-13T14:16:35.294911Z",
     "shell.execute_reply": "2021-10-13T14:16:35.294249Z",
     "shell.execute_reply.started": "2021-10-13T14:16:35.286444Z"
    }
   },
   "outputs": [],
   "source": [
    "correlation = df.corr()"
   ]
  },
  {
   "cell_type": "code",
   "execution_count": 10,
   "metadata": {
    "execution": {
     "iopub.execute_input": "2021-10-13T14:16:35.296958Z",
     "iopub.status.busy": "2021-10-13T14:16:35.296729Z",
     "iopub.status.idle": "2021-10-13T14:16:35.642338Z",
     "shell.execute_reply": "2021-10-13T14:16:35.641369Z",
     "shell.execute_reply.started": "2021-10-13T14:16:35.296933Z"
    }
   },
   "outputs": [
    {
     "data": {
      "text/plain": [
       "<AxesSubplot:>"
      ]
     },
     "execution_count": 10,
     "metadata": {},
     "output_type": "execute_result"
    },
    {
     "data": {
      "image/png": "[encoded data removed]",
      "text/plain": [
       "<Figure size 576x576 with 2 Axes>"
      ]
     },
     "metadata": {
      "needs_background": "light"
     },
     "output_type": "display_data"
    }
   ],
   "source": [
    "plt.figure(figsize=(8,8))\n",
    "sns.heatmap(correlation, cbar=True, square=True, fmt='.1f',annot=True,annot_kws={'size':8},cmap='Blues')"
   ]
  },
  {
   "cell_type": "code",
   "execution_count": 11,
   "metadata": {
    "execution": {
     "iopub.execute_input": "2021-10-13T14:16:35.64438Z",
     "iopub.status.busy": "2021-10-13T14:16:35.643896Z",
     "iopub.status.idle": "2021-10-13T14:16:35.65127Z",
     "shell.execute_reply": "2021-10-13T14:16:35.650167Z",
     "shell.execute_reply.started": "2021-10-13T14:16:35.644338Z"
    }
   },
   "outputs": [
    {
     "name": "stdout",
     "output_type": "stream",
     "text": [
      "SPX        0.049345\n",
      "GLD        1.000000\n",
      "USO       -0.186360\n",
      "SLV        0.866632\n",
      "EUR/USD   -0.024375\n",
      "Name: GLD, dtype: float64\n"
     ]
    }
   ],
   "source": [
    "# correlation values of GLD\n",
    "print(correlation['GLD'])"
   ]
  },
  {
   "cell_type": "code",
   "execution_count": 12,
   "metadata": {
    "execution": {
     "iopub.execute_input": "2021-10-13T14:16:35.653124Z",
     "iopub.status.busy": "2021-10-13T14:16:35.652743Z",
     "iopub.status.idle": "2021-10-13T14:16:36.02979Z",
     "shell.execute_reply": "2021-10-13T14:16:36.029174Z",
     "shell.execute_reply.started": "2021-10-13T14:16:35.653058Z"
    }
   },
   "outputs": [
    {
     "name": "stderr",
     "output_type": "stream",
     "text": [
      "C:\\Users\\Asus\\anaconda3\\lib\\site-packages\\seaborn\\distributions.py:2619: FutureWarning: `distplot` is a deprecated function and will be removed in a future version. Please adapt your code to use either `displot` (a figure-level function with similar flexibility) or `histplot` (an axes-level function for histograms).\n",
      "  warnings.warn(msg, FutureWarning)\n"
     ]
    },
    {
     "data": {
      "text/plain": [
       "<AxesSubplot:xlabel='GLD', ylabel='Density'>"
      ]
     },
     "execution_count": 12,
     "metadata": {},
     "output_type": "execute_result"
    },
    {
     "data": {
      "image/png": "[encoded data removed]",
      "text/plain": [
       "<Figure size 432x288 with 1 Axes>"
      ]
     },
     "metadata": {
      "needs_background": "light"
     },
     "output_type": "display_data"
    }
   ],
   "source": [
    "# checking distribution of GLD Price\n",
    "sns.distplot(df['GLD'], color='green')"
   ]
  },
  {
   "cell_type": "markdown",
   "metadata": {},
   "source": [
    "Splitting Features and Target"
   ]
  },
  {
   "cell_type": "code",
   "execution_count": 13,
   "metadata": {
    "execution": {
     "iopub.execute_input": "2021-10-13T14:16:36.031791Z",
     "iopub.status.busy": "2021-10-13T14:16:36.030923Z",
     "iopub.status.idle": "2021-10-13T14:16:36.037096Z",
     "shell.execute_reply": "2021-10-13T14:16:36.036454Z",
     "shell.execute_reply.started": "2021-10-13T14:16:36.031745Z"
    }
   },
   "outputs": [],
   "source": [
    "X = df.drop(['Date', 'GLD'], axis=1)\n",
    "y = df['GLD']"
   ]
  },
  {
   "cell_type": "code",
   "execution_count": 14,
   "metadata": {
    "execution": {
     "iopub.execute_input": "2021-10-13T14:16:36.038452Z",
     "iopub.status.busy": "2021-10-13T14:16:36.038016Z",
     "iopub.status.idle": "2021-10-13T14:16:36.062521Z",
     "shell.execute_reply": "2021-10-13T14:16:36.061936Z",
     "shell.execute_reply.started": "2021-10-13T14:16:36.038413Z"
    }
   },
   "outputs": [
    {
     "data": {
      "text/html": [
       "<div>\n",
       "<style scoped>\n",
       "    .dataframe tbody tr th:only-of-type {\n",
       "        vertical-align: middle;\n",
       "    }\n",
       "\n",
       "    .dataframe tbody tr th {\n",
       "        vertical-align: top;\n",
       "    }\n",
       "\n",
       "    .dataframe thead th {\n",
       "        text-align: right;\n",
       "    }\n",
       "</style>\n",
       "<table border=\"1\" class=\"dataframe\">\n",
       "  <thead>\n",
       "    <tr style=\"text-align: right;\">\n",
       "      <th></th>\n",
       "      <th>SPX</th>\n",
       "      <th>USO</th>\n",
       "      <th>SLV</th>\n",
       "      <th>EUR/USD</th>\n",
       "    </tr>\n",
       "  </thead>\n",
       "  <tbody>\n",
       "    <tr>\n",
       "      <th>0</th>\n",
       "      <td>1447.160034</td>\n",
       "      <td>78.470001</td>\n",
       "      <td>15.1800</td>\n",
       "      <td>1.471692</td>\n",
       "    </tr>\n",
       "    <tr>\n",
       "      <th>1</th>\n",
       "      <td>1447.160034</td>\n",
       "      <td>78.370003</td>\n",
       "      <td>15.2850</td>\n",
       "      <td>1.474491</td>\n",
       "    </tr>\n",
       "    <tr>\n",
       "      <th>2</th>\n",
       "      <td>1411.630005</td>\n",
       "      <td>77.309998</td>\n",
       "      <td>15.1670</td>\n",
       "      <td>1.475492</td>\n",
       "    </tr>\n",
       "    <tr>\n",
       "      <th>3</th>\n",
       "      <td>1416.180054</td>\n",
       "      <td>75.500000</td>\n",
       "      <td>15.0530</td>\n",
       "      <td>1.468299</td>\n",
       "    </tr>\n",
       "    <tr>\n",
       "      <th>4</th>\n",
       "      <td>1390.189941</td>\n",
       "      <td>76.059998</td>\n",
       "      <td>15.5900</td>\n",
       "      <td>1.557099</td>\n",
       "    </tr>\n",
       "    <tr>\n",
       "      <th>...</th>\n",
       "      <td>...</td>\n",
       "      <td>...</td>\n",
       "      <td>...</td>\n",
       "      <td>...</td>\n",
       "    </tr>\n",
       "    <tr>\n",
       "      <th>2285</th>\n",
       "      <td>2671.919922</td>\n",
       "      <td>14.060000</td>\n",
       "      <td>15.5100</td>\n",
       "      <td>1.186789</td>\n",
       "    </tr>\n",
       "    <tr>\n",
       "      <th>2286</th>\n",
       "      <td>2697.790039</td>\n",
       "      <td>14.370000</td>\n",
       "      <td>15.5300</td>\n",
       "      <td>1.184722</td>\n",
       "    </tr>\n",
       "    <tr>\n",
       "      <th>2287</th>\n",
       "      <td>2723.070068</td>\n",
       "      <td>14.410000</td>\n",
       "      <td>15.7400</td>\n",
       "      <td>1.191753</td>\n",
       "    </tr>\n",
       "    <tr>\n",
       "      <th>2288</th>\n",
       "      <td>2730.129883</td>\n",
       "      <td>14.380000</td>\n",
       "      <td>15.5600</td>\n",
       "      <td>1.193118</td>\n",
       "    </tr>\n",
       "    <tr>\n",
       "      <th>2289</th>\n",
       "      <td>2725.780029</td>\n",
       "      <td>14.405800</td>\n",
       "      <td>15.4542</td>\n",
       "      <td>1.182033</td>\n",
       "    </tr>\n",
       "  </tbody>\n",
       "</table>\n",
       "<p>2290 rows × 4 columns</p>\n",
       "</div>"
      ],
      "text/plain": [
       "              SPX        USO      SLV   EUR/USD\n",
       "0     1447.160034  78.470001  15.1800  1.471692\n",
       "1     1447.160034  78.370003  15.2850  1.474491\n",
       "2     1411.630005  77.309998  15.1670  1.475492\n",
       "3     1416.180054  75.500000  15.0530  1.468299\n",
       "4     1390.189941  76.059998  15.5900  1.557099\n",
       "...           ...        ...      ...       ...\n",
       "2285  2671.919922  14.060000  15.5100  1.186789\n",
       "2286  2697.790039  14.370000  15.5300  1.184722\n",
       "2287  2723.070068  14.410000  15.7400  1.191753\n",
       "2288  2730.129883  14.380000  15.5600  1.193118\n",
       "2289  2725.780029  14.405800  15.4542  1.182033\n",
       "\n",
       "[2290 rows x 4 columns]"
      ]
     },
     "execution_count": 14,
     "metadata": {},
     "output_type": "execute_result"
    }
   ],
   "source": [
    "X"
   ]
  },
  {
   "cell_type": "code",
   "execution_count": 15,
   "metadata": {
    "execution": {
     "iopub.execute_input": "2021-10-13T14:16:36.064283Z",
     "iopub.status.busy": "2021-10-13T14:16:36.063568Z",
     "iopub.status.idle": "2021-10-13T14:16:36.078771Z",
     "shell.execute_reply": "2021-10-13T14:16:36.077658Z",
     "shell.execute_reply.started": "2021-10-13T14:16:36.064236Z"
    }
   },
   "outputs": [
    {
     "data": {
      "text/plain": [
       "0        84.860001\n",
       "1        85.570000\n",
       "2        85.129997\n",
       "3        84.769997\n",
       "4        86.779999\n",
       "           ...    \n",
       "2285    124.589996\n",
       "2286    124.330002\n",
       "2287    125.180000\n",
       "2288    124.489998\n",
       "2289    122.543800\n",
       "Name: GLD, Length: 2290, dtype: float64"
      ]
     },
     "execution_count": 15,
     "metadata": {},
     "output_type": "execute_result"
    }
   ],
   "source": [
    "y"
   ]
  },
  {
   "cell_type": "code",
   "execution_count": 16,
   "metadata": {
    "execution": {
     "iopub.execute_input": "2021-10-13T14:16:36.080337Z",
     "iopub.status.busy": "2021-10-13T14:16:36.080047Z",
     "iopub.status.idle": "2021-10-13T14:16:36.091048Z",
     "shell.execute_reply": "2021-10-13T14:16:36.090294Z",
     "shell.execute_reply.started": "2021-10-13T14:16:36.080306Z"
    }
   },
   "outputs": [],
   "source": [
    "X_train, X_test, y_train, y_test = train_test_split(X,y, test_size=0.2,random_state=42)"
   ]
  },
  {
   "cell_type": "markdown",
   "metadata": {},
   "source": [
    "## Hyperparameter tuning by GridSearchCV"
   ]
  },
  {
   "cell_type": "code",
   "execution_count": 17,
   "metadata": {
    "execution": {
     "iopub.execute_input": "2021-10-13T14:17:10.087092Z",
     "iopub.status.busy": "2021-10-13T14:17:10.086766Z",
     "iopub.status.idle": "2021-10-13T14:17:10.091608Z",
     "shell.execute_reply": "2021-10-13T14:17:10.090495Z",
     "shell.execute_reply.started": "2021-10-13T14:17:10.087046Z"
    }
   },
   "outputs": [],
   "source": [
    "from sklearn.model_selection import GridSearchCV"
   ]
  },
  {
   "cell_type": "markdown",
   "metadata": {},
   "source": [
    "- GridSearchCV will choose suitable 'n_estimators' for Random Forest Regressor for building ML model"
   ]
  },
  {
   "cell_type": "code",
   "execution_count": 18,
   "metadata": {
    "execution": {
     "iopub.execute_input": "2021-10-13T14:18:46.586634Z",
     "iopub.status.busy": "2021-10-13T14:18:46.586379Z",
     "iopub.status.idle": "2021-10-13T14:18:46.590691Z",
     "shell.execute_reply": "2021-10-13T14:18:46.589702Z",
     "shell.execute_reply.started": "2021-10-13T14:18:46.586607Z"
    }
   },
   "outputs": [],
   "source": [
    "parameters = {'n_estimators':[100,200]}"
   ]
  },
  {
   "cell_type": "code",
   "execution_count": 19,
   "metadata": {
    "execution": {
     "iopub.execute_input": "2021-10-13T14:18:47.806159Z",
     "iopub.status.busy": "2021-10-13T14:18:47.805872Z",
     "iopub.status.idle": "2021-10-13T14:18:47.809752Z",
     "shell.execute_reply": "2021-10-13T14:18:47.80917Z",
     "shell.execute_reply.started": "2021-10-13T14:18:47.80613Z"
    }
   },
   "outputs": [],
   "source": [
    "rf = RandomForestRegressor()"
   ]
  },
  {
   "cell_type": "code",
   "execution_count": 20,
   "metadata": {
    "execution": {
     "iopub.execute_input": "2021-10-13T14:19:11.626782Z",
     "iopub.status.busy": "2021-10-13T14:19:11.626107Z",
     "iopub.status.idle": "2021-10-13T14:19:11.630623Z",
     "shell.execute_reply": "2021-10-13T14:19:11.629855Z",
     "shell.execute_reply.started": "2021-10-13T14:19:11.626744Z"
    }
   },
   "outputs": [],
   "source": [
    "model = GridSearchCV(rf, parameters)"
   ]
  },
  {
   "cell_type": "code",
   "execution_count": 21,
   "metadata": {
    "execution": {
     "iopub.execute_input": "2021-10-13T14:19:15.54577Z",
     "iopub.status.busy": "2021-10-13T14:19:15.545493Z",
     "iopub.status.idle": "2021-10-13T14:19:24.565612Z",
     "shell.execute_reply": "2021-10-13T14:19:24.564989Z",
     "shell.execute_reply.started": "2021-10-13T14:19:15.545742Z"
    }
   },
   "outputs": [
    {
     "data": {
      "text/plain": [
       "GridSearchCV(estimator=RandomForestRegressor(),\n",
       "             param_grid={'n_estimators': [100, 200]})"
      ]
     },
     "execution_count": 21,
     "metadata": {},
     "output_type": "execute_result"
    }
   ],
   "source": [
    "model.fit(X_train, y_train)"
   ]
  },
  {
   "cell_type": "markdown",
   "metadata": {},
   "source": [
    "# Model Evaluation"
   ]
  },
  {
   "cell_type": "markdown",
   "metadata": {},
   "source": [
    "Prediction on X_test data"
   ]
  },
  {
   "cell_type": "code",
   "execution_count": 22,
   "metadata": {
    "execution": {
     "iopub.execute_input": "2021-10-13T14:28:14.838239Z",
     "iopub.status.busy": "2021-10-13T14:28:14.837327Z",
     "iopub.status.idle": "2021-10-13T14:28:14.8811Z",
     "shell.execute_reply": "2021-10-13T14:28:14.880149Z",
     "shell.execute_reply.started": "2021-10-13T14:28:14.838201Z"
    }
   },
   "outputs": [],
   "source": [
    "test_pred = model.predict(X_test)"
   ]
  },
  {
   "cell_type": "code",
   "execution_count": 23,
   "metadata": {
    "execution": {
     "iopub.execute_input": "2021-10-13T14:28:25.721812Z",
     "iopub.status.busy": "2021-10-13T14:28:25.721208Z",
     "iopub.status.idle": "2021-10-13T14:28:25.733008Z",
     "shell.execute_reply": "2021-10-13T14:28:25.732177Z",
     "shell.execute_reply.started": "2021-10-13T14:28:25.721772Z"
    }
   },
   "outputs": [
    {
     "data": {
      "text/plain": [
       "array([122.55739951, 131.10110241, 127.5796999 ,  96.49279759,\n",
       "       118.9568004 , 114.31739916, 124.80280128, 117.82329955,\n",
       "       107.95310117,  98.51119982,  95.35929914, 167.90699771,\n",
       "       149.33650162, 116.09220056, 170.84270115,  85.00429963,\n",
       "       123.25329888, 109.75829726, 112.91150088, 131.60130334,\n",
       "       124.3055989 , 113.32640058, 115.94739993, 108.65219995,\n",
       "       108.44420103, 125.84209918, 120.0400998 , 112.23069931,\n",
       "       113.52740141, 125.89069904, 146.34190176,  89.63370011,\n",
       "       167.4586    , 113.55649952, 108.48790082, 120.24450117,\n",
       "       141.7423984 , 161.19350122, 173.48169806, 153.20990147,\n",
       "       119.35480106, 113.65560049, 121.39079924, 113.7315995 ,\n",
       "       121.97673769, 108.05870075,  88.35949882, 114.24959921,\n",
       "       129.85570222, 117.89650093, 103.58780033, 129.80360252,\n",
       "       107.08189828, 160.77420293, 131.63909977, 118.27969986,\n",
       "       147.49220071, 135.43620178,  95.37620123, 124.72960161,\n",
       "       114.86989867,  86.1972007 , 104.40439906, 114.05290095,\n",
       "        84.11879924, 122.20113836, 116.58069892, 113.65350209,\n",
       "       165.31310254,  92.3864002 ,  80.22430079, 160.75900119,\n",
       "       159.17620206, 106.69080022, 149.57530136, 109.55829794,\n",
       "       123.55679997, 128.69780119, 113.16639879, 120.16380063,\n",
       "       135.92529748, 107.23780096,  93.79690088,  92.56299886,\n",
       "       111.44690054, 118.57690021, 108.57819894, 112.2843997 ,\n",
       "       167.99349888, 160.76659903, 107.51649866, 125.34320026,\n",
       "       108.20020036, 115.20620178, 126.79949825, 108.23099983,\n",
       "       162.46830233,  84.51719911, 131.42560356, 114.33000021,\n",
       "       155.58129983, 110.56649817, 113.5427004 , 107.2817995 ,\n",
       "       138.96800002,  88.47189956,  92.39799921, 175.00830127,\n",
       "       118.70120064, 118.68090003, 121.26250049, 171.5093981 ,\n",
       "       131.55329983, 119.77230058, 158.32080222, 118.73759855,\n",
       "       119.14939972, 110.8579995 , 119.76989882, 122.17980004,\n",
       "       129.13069818, 114.85850009,  89.40279944, 114.23670118,\n",
       "       132.3929988 , 115.53650118, 125.25639984,  90.96570007,\n",
       "       106.89220048, 117.26780108, 109.47289932, 166.35970237,\n",
       "        80.70540044, 121.90229911,  73.14140156, 111.08699966,\n",
       "       100.04160111, 124.0399001 ,  76.15529991, 125.16959921,\n",
       "       119.65660084, 105.35519998,  90.63179935, 132.13149992,\n",
       "       136.79690245, 175.69809965, 126.70669919, 126.47439887,\n",
       "       123.35950003,  92.00139846, 150.3822015 , 102.88799918,\n",
       "       117.43710006, 135.64549888, 136.06199967, 118.24720031,\n",
       "       116.8297015 , 102.18389785, 124.1007985 ,  89.64579991,\n",
       "       108.03719967, 117.54780028, 168.91230011, 117.1853002 ,\n",
       "       118.08699972, 155.6751019 , 111.26910028,  87.23319924,\n",
       "       116.41890129, 124.34549925, 120.68900204, 118.28240025,\n",
       "        96.39799888, 109.35719996, 114.94549942, 127.65030106,\n",
       "       156.00920109, 107.94010113, 124.10019888, 139.36970218,\n",
       "        91.08990117, 118.1504014 , 130.71600073, 114.16489911,\n",
       "       108.25759965, 119.22590028, 128.03650024, 125.5615001 ,\n",
       "       145.83550125, 112.63920083,  93.71120017, 115.20350001,\n",
       "       125.43320068, 120.42230165, 122.27143841,  92.65270094,\n",
       "       121.27969843,  93.3657004 , 118.82260035, 124.49380034,\n",
       "       121.90500036, 131.14079997, 124.38349922, 114.95610163,\n",
       "       127.37160046, 113.37050072, 165.30919934, 122.28819775,\n",
       "       119.54430172, 113.70970061, 120.34330009, 120.22699964,\n",
       "       105.81740071, 116.59590027, 125.68219978, 172.09899741,\n",
       "        85.62160001, 134.47529796, 127.83589901,  74.10250036,\n",
       "       119.1964996 ,  88.82129966, 163.0742022 ,  91.94010008,\n",
       "       157.88840177, 102.32119829, 103.12269953, 102.5699985 ,\n",
       "       118.64929954, 165.37040049, 120.0924009 , 135.21089829,\n",
       "        96.42089839, 113.13319944, 132.2606013 , 145.92260063,\n",
       "       125.6949999 , 101.58429962, 125.40680083, 160.13490099,\n",
       "       119.76120092, 126.43130028, 127.56930174, 115.42529949,\n",
       "       156.90780181, 128.90929976, 114.09699954, 177.05169904,\n",
       "       119.82410198, 119.22040112, 102.77209909, 160.94049982,\n",
       "       114.79480063, 118.45629989, 125.60449924, 116.86130091,\n",
       "       114.62869967,  90.84929965, 102.10709942, 132.10050039,\n",
       "       118.87270216, 168.66689887, 108.17780102,  86.45120085,\n",
       "        91.67669964, 155.92340033, 158.42019981, 152.88369818,\n",
       "        72.95380052, 120.96000024, 117.26840053, 158.7609993 ,\n",
       "       135.55099875, 111.78849948, 114.12129972, 160.48210204,\n",
       "       125.66069966, 119.60520073, 117.98439981, 158.77970195,\n",
       "       104.05899972,  89.20229957,  83.68679953,  90.26719914,\n",
       "       115.4187    , 113.78989982, 119.75930124, 119.61820037,\n",
       "        79.59129992,  90.90190069, 153.49900292, 119.36440079,\n",
       "       132.21619974, 125.71980051, 113.56080107,  82.62360061,\n",
       "       118.03409918,  89.85050033, 118.07769941, 162.92900244,\n",
       "       121.37110081, 110.60990023, 125.18549868, 114.97640069,\n",
       "       136.45450065,  80.12930081, 163.90899975, 132.56310138,\n",
       "       164.41940106, 127.63909961,  91.57679922, 108.43179929,\n",
       "       114.29669969, 127.80130138, 119.29870161,  92.49769943,\n",
       "       132.21399881, 162.47090055,  72.37910161, 111.60690005,\n",
       "       108.28210012, 113.41439767, 120.13930105, 112.04689991,\n",
       "       120.91579914, 118.63360203, 126.34870056, 125.7431015 ,\n",
       "       109.15910006, 167.6667001 , 166.82819951, 112.35849938,\n",
       "       169.69869695, 112.13330009, 160.95450131, 127.47669869,\n",
       "       167.63259901, 134.78410157, 109.23189896, 167.20609958,\n",
       "       116.71380151,  72.54020117, 113.53479983,  93.41429962,\n",
       "        87.79500042, 104.11789888, 125.86290056, 123.57179778,\n",
       "       168.72799902, 121.13330068,  87.42639857, 131.84459802,\n",
       "       121.6056004 , 107.71389948, 167.15920045, 126.02629772,\n",
       "       127.1447014 , 113.34260062, 134.51200035, 125.15200113,\n",
       "       144.17529907, 123.26579912, 118.36160026, 120.77429991,\n",
       "       166.9373997 ,  71.55760048, 163.05419869, 163.32249887,\n",
       "       118.47560033, 103.58479814, 127.83569869, 154.65870028,\n",
       "       171.98580013, 134.73319721, 126.8781999 , 123.66900022,\n",
       "       155.39769857,  87.74110002, 130.61210053, 111.02790065,\n",
       "       164.81570002, 156.5007996 , 167.26340026, 121.5222996 ,\n",
       "        90.0229001 , 132.35220167, 100.14159979, 127.57479802,\n",
       "       127.73179835, 108.55339946,  91.0396986 , 153.31450071,\n",
       "        95.1442988 ,  87.78179904, 125.05929941,  87.17989795,\n",
       "        94.71930106, 113.4220994 , 156.38920342, 147.36620032,\n",
       "       105.04060062, 166.75569693, 111.26320025, 128.44780038,\n",
       "        90.7190999 , 109.5952991 ,  76.52610075, 110.60619968,\n",
       "       163.40939937, 155.01199853, 152.35180177, 161.71860019,\n",
       "        92.1162985 , 117.86290139,  93.67200114, 130.0027005 ,\n",
       "       117.44510008, 117.21200049, 124.18890034, 120.74319956,\n",
       "        97.88579947, 167.79240131, 145.63030162, 124.50989868,\n",
       "       169.18569865,  84.12750022, 166.46079774, 130.4331024 ,\n",
       "       119.87270213,  88.38409953, 119.90049872,  83.7239987 ,\n",
       "       118.77860121, 113.93209898, 116.60159922, 154.8841984 ,\n",
       "       134.51220292, 117.88310117, 118.64649843, 123.23669864,\n",
       "       115.97130103, 118.55120038, 122.28140074, 148.05649996,\n",
       "       148.51460081, 168.2373003 ,  98.4043993 , 160.39190048,\n",
       "        93.1535001 , 140.1013998 , 121.53000081,  83.87729877,\n",
       "       106.17489964, 123.69699982, 169.56769747,  93.63699919,\n",
       "        96.27540081, 152.6424999 ])"
      ]
     },
     "execution_count": 23,
     "metadata": {},
     "output_type": "execute_result"
    }
   ],
   "source": [
    "test_pred"
   ]
  },
  {
   "cell_type": "code",
   "execution_count": 24,
   "metadata": {
    "execution": {
     "iopub.execute_input": "2021-10-13T14:30:06.69168Z",
     "iopub.status.busy": "2021-10-13T14:30:06.691355Z",
     "iopub.status.idle": "2021-10-13T14:30:06.696459Z",
     "shell.execute_reply": "2021-10-13T14:30:06.695524Z",
     "shell.execute_reply.started": "2021-10-13T14:30:06.691647Z"
    }
   },
   "outputs": [],
   "source": [
    "from sklearn.metrics import r2_score"
   ]
  },
  {
   "cell_type": "code",
   "execution_count": 25,
   "metadata": {
    "execution": {
     "iopub.execute_input": "2021-10-13T14:31:35.881158Z",
     "iopub.status.busy": "2021-10-13T14:31:35.880854Z",
     "iopub.status.idle": "2021-10-13T14:31:35.889029Z",
     "shell.execute_reply": "2021-10-13T14:31:35.888243Z",
     "shell.execute_reply.started": "2021-10-13T14:31:35.881129Z"
    }
   },
   "outputs": [
    {
     "name": "stdout",
     "output_type": "stream",
     "text": [
      "R Squared Error :  0.9892562984378896\n"
     ]
    }
   ],
   "source": [
    "error_score = r2_score(y_test, test_pred)\n",
    "print(\"R Squared Error : \",error_score )"
   ]
  },
  {
   "cell_type": "code",
   "execution_count": 26,
   "metadata": {
    "execution": {
     "iopub.execute_input": "2021-10-13T14:33:26.296911Z",
     "iopub.status.busy": "2021-10-13T14:33:26.296301Z",
     "iopub.status.idle": "2021-10-13T14:33:26.300072Z",
     "shell.execute_reply": "2021-10-13T14:33:26.299516Z",
     "shell.execute_reply.started": "2021-10-13T14:33:26.296875Z"
    }
   },
   "outputs": [],
   "source": [
    "Y_test = list(y_test)\n",
    "# Y_test"
   ]
  },
  {
   "cell_type": "markdown",
   "metadata": {},
   "source": [
    "# Data Visualization"
   ]
  },
  {
   "cell_type": "code",
   "execution_count": 27,
   "metadata": {
    "execution": {
     "iopub.execute_input": "2021-10-13T14:35:45.437195Z",
     "iopub.status.busy": "2021-10-13T14:35:45.43687Z",
     "iopub.status.idle": "2021-10-13T14:35:45.688539Z",
     "shell.execute_reply": "2021-10-13T14:35:45.687929Z",
     "shell.execute_reply.started": "2021-10-13T14:35:45.437165Z"
    }
   },
   "outputs": [
    {
     "data": {
      "image/png": "[encoded data removed]",
      "text/plain": [
       "<Figure size 432x288 with 1 Axes>"
      ]
     },
     "metadata": {
      "needs_background": "light"
     },
     "output_type": "display_data"
    }
   ],
   "source": [
    "plt.plot(Y_test, color='blue', label = 'Actual Value')\n",
    "plt.plot(test_pred, color='green',label='Predicted Value')\n",
    "plt.title('Actual Price vs Predicted Price')\n",
    "plt.xlabel('Number of values')\n",
    "plt.ylabel('GLD Price')\n",
    "plt.legend()\n",
    "plt.show()"
   ]
  }
 ],
 "metadata": {
  "kernelspec": {
   "display_name": "Python 3 (ipykernel)",
   "language": "python",
   "name": "python3"
  },
  "language_info": {
   "codemirror_mode": {
    "name": "ipython",
    "version": 3
   },
   "file_extension": ".py",
   "mimetype": "text/x-python",
   "name": "python",
   "nbconvert_exporter": "python",
   "pygments_lexer": "ipython3",
   "version": "3.8.5"
  }
 },
 "nbformat": 4,
 "nbformat_minor": 4
}
