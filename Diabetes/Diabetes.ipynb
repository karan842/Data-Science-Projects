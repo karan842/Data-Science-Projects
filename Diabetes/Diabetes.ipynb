{
 "cells": [
  {
   "cell_type": "markdown",
   "metadata": {
    "id": "jhGN4IcGLcez"
   },
   "source": [
    "# Importing Datasets"
   ]
  },
  {
   "cell_type": "code",
   "execution_count": 39,
   "metadata": {
    "id": "SpzCSMTeKWjj"
   },
   "outputs": [],
   "source": [
    "import numpy as np\n",
    "import pandas as pd\n",
    "import matplotlib.pyplot as plt\n",
    "%matplotlib inline\n",
    "import warnings\n",
    "warnings.filterwarnings('ignore')"
   ]
  },
  {
   "cell_type": "markdown",
   "metadata": {
    "id": "jZYySL9KOrhX"
   },
   "source": [
    "# Loading CSV Files and performing data analysis"
   ]
  },
  {
   "cell_type": "code",
   "execution_count": 40,
   "metadata": {
    "colab": {
     "base_uri": "https://localhost:8080/"
    },
    "executionInfo": {
     "elapsed": 338,
     "status": "ok",
     "timestamp": 1631719806444,
     "user": {
      "displayName": "Karan Shingde",
      "photoUrl": "https://lh3.googleusercontent.com/a-/AOh14GgLICG7ZvpvK_UWyo13dmBvK-imuGHh4kMe90EQaA=s64",
      "userId": "09853010465659949726"
     },
     "user_tz": -330
    },
    "id": "uxZ9nbmxOq3F",
    "outputId": "897da60f-6dca-4638-c916-7110c2c3946a"
   },
   "outputs": [
    {
     "name": "stdout",
     "output_type": "stream",
     "text": [
      "Dataset loaded succesfully !!\n"
     ]
    }
   ],
   "source": [
    "df = pd.read_csv('diabetes.csv')\n",
    "print(\"Dataset loaded succesfully !!\")"
   ]
  },
  {
   "cell_type": "code",
   "execution_count": 41,
   "metadata": {
    "colab": {
     "base_uri": "https://localhost:8080/",
     "height": 357
    },
    "executionInfo": {
     "elapsed": 405,
     "status": "ok",
     "timestamp": 1631719806530,
     "user": {
      "displayName": "Karan Shingde",
      "photoUrl": "https://lh3.googleusercontent.com/a-/AOh14GgLICG7ZvpvK_UWyo13dmBvK-imuGHh4kMe90EQaA=s64",
      "userId": "09853010465659949726"
     },
     "user_tz": -330
    },
    "id": "XpMRs4sNO812",
    "outputId": "4e1b542d-4ef2-48a9-c134-37e98e7930e1"
   },
   "outputs": [
    {
     "data": {
      "text/html": [
       "<div>\n",
       "<style scoped>\n",
       "    .dataframe tbody tr th:only-of-type {\n",
       "        vertical-align: middle;\n",
       "    }\n",
       "\n",
       "    .dataframe tbody tr th {\n",
       "        vertical-align: top;\n",
       "    }\n",
       "\n",
       "    .dataframe thead th {\n",
       "        text-align: right;\n",
       "    }\n",
       "</style>\n",
       "<table border=\"1\" class=\"dataframe\">\n",
       "  <thead>\n",
       "    <tr style=\"text-align: right;\">\n",
       "      <th></th>\n",
       "      <th>Pregnancies</th>\n",
       "      <th>Glucose</th>\n",
       "      <th>BloodPressure</th>\n",
       "      <th>SkinThickness</th>\n",
       "      <th>Insulin</th>\n",
       "      <th>BMI</th>\n",
       "      <th>DiabetesPedigreeFunction</th>\n",
       "      <th>Age</th>\n",
       "      <th>Outcome</th>\n",
       "    </tr>\n",
       "  </thead>\n",
       "  <tbody>\n",
       "    <tr>\n",
       "      <th>0</th>\n",
       "      <td>6</td>\n",
       "      <td>148</td>\n",
       "      <td>72</td>\n",
       "      <td>35</td>\n",
       "      <td>0</td>\n",
       "      <td>33.6</td>\n",
       "      <td>0.627</td>\n",
       "      <td>50</td>\n",
       "      <td>1</td>\n",
       "    </tr>\n",
       "    <tr>\n",
       "      <th>1</th>\n",
       "      <td>1</td>\n",
       "      <td>85</td>\n",
       "      <td>66</td>\n",
       "      <td>29</td>\n",
       "      <td>0</td>\n",
       "      <td>26.6</td>\n",
       "      <td>0.351</td>\n",
       "      <td>31</td>\n",
       "      <td>0</td>\n",
       "    </tr>\n",
       "    <tr>\n",
       "      <th>2</th>\n",
       "      <td>8</td>\n",
       "      <td>183</td>\n",
       "      <td>64</td>\n",
       "      <td>0</td>\n",
       "      <td>0</td>\n",
       "      <td>23.3</td>\n",
       "      <td>0.672</td>\n",
       "      <td>32</td>\n",
       "      <td>1</td>\n",
       "    </tr>\n",
       "    <tr>\n",
       "      <th>3</th>\n",
       "      <td>1</td>\n",
       "      <td>89</td>\n",
       "      <td>66</td>\n",
       "      <td>23</td>\n",
       "      <td>94</td>\n",
       "      <td>28.1</td>\n",
       "      <td>0.167</td>\n",
       "      <td>21</td>\n",
       "      <td>0</td>\n",
       "    </tr>\n",
       "    <tr>\n",
       "      <th>4</th>\n",
       "      <td>0</td>\n",
       "      <td>137</td>\n",
       "      <td>40</td>\n",
       "      <td>35</td>\n",
       "      <td>168</td>\n",
       "      <td>43.1</td>\n",
       "      <td>2.288</td>\n",
       "      <td>33</td>\n",
       "      <td>1</td>\n",
       "    </tr>\n",
       "    <tr>\n",
       "      <th>5</th>\n",
       "      <td>5</td>\n",
       "      <td>116</td>\n",
       "      <td>74</td>\n",
       "      <td>0</td>\n",
       "      <td>0</td>\n",
       "      <td>25.6</td>\n",
       "      <td>0.201</td>\n",
       "      <td>30</td>\n",
       "      <td>0</td>\n",
       "    </tr>\n",
       "    <tr>\n",
       "      <th>6</th>\n",
       "      <td>3</td>\n",
       "      <td>78</td>\n",
       "      <td>50</td>\n",
       "      <td>32</td>\n",
       "      <td>88</td>\n",
       "      <td>31.0</td>\n",
       "      <td>0.248</td>\n",
       "      <td>26</td>\n",
       "      <td>1</td>\n",
       "    </tr>\n",
       "    <tr>\n",
       "      <th>7</th>\n",
       "      <td>10</td>\n",
       "      <td>115</td>\n",
       "      <td>0</td>\n",
       "      <td>0</td>\n",
       "      <td>0</td>\n",
       "      <td>35.3</td>\n",
       "      <td>0.134</td>\n",
       "      <td>29</td>\n",
       "      <td>0</td>\n",
       "    </tr>\n",
       "    <tr>\n",
       "      <th>8</th>\n",
       "      <td>2</td>\n",
       "      <td>197</td>\n",
       "      <td>70</td>\n",
       "      <td>45</td>\n",
       "      <td>543</td>\n",
       "      <td>30.5</td>\n",
       "      <td>0.158</td>\n",
       "      <td>53</td>\n",
       "      <td>1</td>\n",
       "    </tr>\n",
       "    <tr>\n",
       "      <th>9</th>\n",
       "      <td>8</td>\n",
       "      <td>125</td>\n",
       "      <td>96</td>\n",
       "      <td>0</td>\n",
       "      <td>0</td>\n",
       "      <td>0.0</td>\n",
       "      <td>0.232</td>\n",
       "      <td>54</td>\n",
       "      <td>1</td>\n",
       "    </tr>\n",
       "  </tbody>\n",
       "</table>\n",
       "</div>"
      ],
      "text/plain": [
       "   Pregnancies  Glucose  BloodPressure  SkinThickness  Insulin   BMI  \\\n",
       "0            6      148             72             35        0  33.6   \n",
       "1            1       85             66             29        0  26.6   \n",
       "2            8      183             64              0        0  23.3   \n",
       "3            1       89             66             23       94  28.1   \n",
       "4            0      137             40             35      168  43.1   \n",
       "5            5      116             74              0        0  25.6   \n",
       "6            3       78             50             32       88  31.0   \n",
       "7           10      115              0              0        0  35.3   \n",
       "8            2      197             70             45      543  30.5   \n",
       "9            8      125             96              0        0   0.0   \n",
       "\n",
       "   DiabetesPedigreeFunction  Age  Outcome  \n",
       "0                     0.627   50        1  \n",
       "1                     0.351   31        0  \n",
       "2                     0.672   32        1  \n",
       "3                     0.167   21        0  \n",
       "4                     2.288   33        1  \n",
       "5                     0.201   30        0  \n",
       "6                     0.248   26        1  \n",
       "7                     0.134   29        0  \n",
       "8                     0.158   53        1  \n",
       "9                     0.232   54        1  "
      ]
     },
     "execution_count": 41,
     "metadata": {},
     "output_type": "execute_result"
    }
   ],
   "source": [
    "#first 10 rows of the data\n",
    "df.head(10)"
   ]
  },
  {
   "cell_type": "code",
   "execution_count": 42,
   "metadata": {
    "colab": {
     "base_uri": "https://localhost:8080/"
    },
    "executionInfo": {
     "elapsed": 396,
     "status": "ok",
     "timestamp": 1631719806533,
     "user": {
      "displayName": "Karan Shingde",
      "photoUrl": "https://lh3.googleusercontent.com/a-/AOh14GgLICG7ZvpvK_UWyo13dmBvK-imuGHh4kMe90EQaA=s64",
      "userId": "09853010465659949726"
     },
     "user_tz": -330
    },
    "id": "9SnXi9xqPQ5G",
    "outputId": "e2a23103-582a-411e-bbe9-55dc71b88eae"
   },
   "outputs": [
    {
     "data": {
      "text/plain": [
       "(768, 9)"
      ]
     },
     "execution_count": 42,
     "metadata": {},
     "output_type": "execute_result"
    }
   ],
   "source": [
    "#number of rows and columns in this dataset\n",
    "df.shape"
   ]
  },
  {
   "cell_type": "code",
   "execution_count": 43,
   "metadata": {
    "colab": {
     "base_uri": "https://localhost:8080/",
     "height": 295
    },
    "executionInfo": {
     "elapsed": 392,
     "status": "ok",
     "timestamp": 1631719806535,
     "user": {
      "displayName": "Karan Shingde",
      "photoUrl": "https://lh3.googleusercontent.com/a-/AOh14GgLICG7ZvpvK_UWyo13dmBvK-imuGHh4kMe90EQaA=s64",
      "userId": "09853010465659949726"
     },
     "user_tz": -330
    },
    "id": "3Rz_DsPbPfqv",
    "outputId": "ee2c3558-b82d-4ec2-aa1b-f5dc1d15e5fe"
   },
   "outputs": [
    {
     "data": {
      "text/html": [
       "<div>\n",
       "<style scoped>\n",
       "    .dataframe tbody tr th:only-of-type {\n",
       "        vertical-align: middle;\n",
       "    }\n",
       "\n",
       "    .dataframe tbody tr th {\n",
       "        vertical-align: top;\n",
       "    }\n",
       "\n",
       "    .dataframe thead th {\n",
       "        text-align: right;\n",
       "    }\n",
       "</style>\n",
       "<table border=\"1\" class=\"dataframe\">\n",
       "  <thead>\n",
       "    <tr style=\"text-align: right;\">\n",
       "      <th></th>\n",
       "      <th>Pregnancies</th>\n",
       "      <th>Glucose</th>\n",
       "      <th>BloodPressure</th>\n",
       "      <th>SkinThickness</th>\n",
       "      <th>Insulin</th>\n",
       "      <th>BMI</th>\n",
       "      <th>DiabetesPedigreeFunction</th>\n",
       "      <th>Age</th>\n",
       "      <th>Outcome</th>\n",
       "    </tr>\n",
       "  </thead>\n",
       "  <tbody>\n",
       "    <tr>\n",
       "      <th>count</th>\n",
       "      <td>768.000000</td>\n",
       "      <td>768.000000</td>\n",
       "      <td>768.000000</td>\n",
       "      <td>768.000000</td>\n",
       "      <td>768.000000</td>\n",
       "      <td>768.000000</td>\n",
       "      <td>768.000000</td>\n",
       "      <td>768.000000</td>\n",
       "      <td>768.000000</td>\n",
       "    </tr>\n",
       "    <tr>\n",
       "      <th>mean</th>\n",
       "      <td>3.845052</td>\n",
       "      <td>120.894531</td>\n",
       "      <td>69.105469</td>\n",
       "      <td>20.536458</td>\n",
       "      <td>79.799479</td>\n",
       "      <td>31.992578</td>\n",
       "      <td>0.471876</td>\n",
       "      <td>33.240885</td>\n",
       "      <td>0.348958</td>\n",
       "    </tr>\n",
       "    <tr>\n",
       "      <th>std</th>\n",
       "      <td>3.369578</td>\n",
       "      <td>31.972618</td>\n",
       "      <td>19.355807</td>\n",
       "      <td>15.952218</td>\n",
       "      <td>115.244002</td>\n",
       "      <td>7.884160</td>\n",
       "      <td>0.331329</td>\n",
       "      <td>11.760232</td>\n",
       "      <td>0.476951</td>\n",
       "    </tr>\n",
       "    <tr>\n",
       "      <th>min</th>\n",
       "      <td>0.000000</td>\n",
       "      <td>0.000000</td>\n",
       "      <td>0.000000</td>\n",
       "      <td>0.000000</td>\n",
       "      <td>0.000000</td>\n",
       "      <td>0.000000</td>\n",
       "      <td>0.078000</td>\n",
       "      <td>21.000000</td>\n",
       "      <td>0.000000</td>\n",
       "    </tr>\n",
       "    <tr>\n",
       "      <th>25%</th>\n",
       "      <td>1.000000</td>\n",
       "      <td>99.000000</td>\n",
       "      <td>62.000000</td>\n",
       "      <td>0.000000</td>\n",
       "      <td>0.000000</td>\n",
       "      <td>27.300000</td>\n",
       "      <td>0.243750</td>\n",
       "      <td>24.000000</td>\n",
       "      <td>0.000000</td>\n",
       "    </tr>\n",
       "    <tr>\n",
       "      <th>50%</th>\n",
       "      <td>3.000000</td>\n",
       "      <td>117.000000</td>\n",
       "      <td>72.000000</td>\n",
       "      <td>23.000000</td>\n",
       "      <td>30.500000</td>\n",
       "      <td>32.000000</td>\n",
       "      <td>0.372500</td>\n",
       "      <td>29.000000</td>\n",
       "      <td>0.000000</td>\n",
       "    </tr>\n",
       "    <tr>\n",
       "      <th>75%</th>\n",
       "      <td>6.000000</td>\n",
       "      <td>140.250000</td>\n",
       "      <td>80.000000</td>\n",
       "      <td>32.000000</td>\n",
       "      <td>127.250000</td>\n",
       "      <td>36.600000</td>\n",
       "      <td>0.626250</td>\n",
       "      <td>41.000000</td>\n",
       "      <td>1.000000</td>\n",
       "    </tr>\n",
       "    <tr>\n",
       "      <th>max</th>\n",
       "      <td>17.000000</td>\n",
       "      <td>199.000000</td>\n",
       "      <td>122.000000</td>\n",
       "      <td>99.000000</td>\n",
       "      <td>846.000000</td>\n",
       "      <td>67.100000</td>\n",
       "      <td>2.420000</td>\n",
       "      <td>81.000000</td>\n",
       "      <td>1.000000</td>\n",
       "    </tr>\n",
       "  </tbody>\n",
       "</table>\n",
       "</div>"
      ],
      "text/plain": [
       "       Pregnancies     Glucose  BloodPressure  SkinThickness     Insulin  \\\n",
       "count   768.000000  768.000000     768.000000     768.000000  768.000000   \n",
       "mean      3.845052  120.894531      69.105469      20.536458   79.799479   \n",
       "std       3.369578   31.972618      19.355807      15.952218  115.244002   \n",
       "min       0.000000    0.000000       0.000000       0.000000    0.000000   \n",
       "25%       1.000000   99.000000      62.000000       0.000000    0.000000   \n",
       "50%       3.000000  117.000000      72.000000      23.000000   30.500000   \n",
       "75%       6.000000  140.250000      80.000000      32.000000  127.250000   \n",
       "max      17.000000  199.000000     122.000000      99.000000  846.000000   \n",
       "\n",
       "              BMI  DiabetesPedigreeFunction         Age     Outcome  \n",
       "count  768.000000                768.000000  768.000000  768.000000  \n",
       "mean    31.992578                  0.471876   33.240885    0.348958  \n",
       "std      7.884160                  0.331329   11.760232    0.476951  \n",
       "min      0.000000                  0.078000   21.000000    0.000000  \n",
       "25%     27.300000                  0.243750   24.000000    0.000000  \n",
       "50%     32.000000                  0.372500   29.000000    0.000000  \n",
       "75%     36.600000                  0.626250   41.000000    1.000000  \n",
       "max     67.100000                  2.420000   81.000000    1.000000  "
      ]
     },
     "execution_count": 43,
     "metadata": {},
     "output_type": "execute_result"
    }
   ],
   "source": [
    "#statistical measures of the data\n",
    "df.describe()"
   ]
  },
  {
   "cell_type": "code",
   "execution_count": 44,
   "metadata": {
    "colab": {
     "base_uri": "https://localhost:8080/"
    },
    "executionInfo": {
     "elapsed": 541,
     "status": "ok",
     "timestamp": 1631719806691,
     "user": {
      "displayName": "Karan Shingde",
      "photoUrl": "https://lh3.googleusercontent.com/a-/AOh14GgLICG7ZvpvK_UWyo13dmBvK-imuGHh4kMe90EQaA=s64",
      "userId": "09853010465659949726"
     },
     "user_tz": -330
    },
    "id": "t0ckwezbPm-i",
    "outputId": "242c1fb2-b348-4a85-c3ec-be2c32ce9f83"
   },
   "outputs": [
    {
     "data": {
      "text/plain": [
       "0    500\n",
       "1    268\n",
       "Name: Outcome, dtype: int64"
      ]
     },
     "execution_count": 44,
     "metadata": {},
     "output_type": "execute_result"
    }
   ],
   "source": [
    "# checking counts of output that is 'OutCome'\n",
    "df['Outcome'].value_counts()"
   ]
  },
  {
   "cell_type": "markdown",
   "metadata": {
    "id": "V5Fzil3TQZcy"
   },
   "source": [
    "***0 --> Non-diabetic***\n",
    "\n",
    "***1 --> diabetic*** "
   ]
  },
  {
   "cell_type": "code",
   "execution_count": 45,
   "metadata": {
    "colab": {
     "base_uri": "https://localhost:8080/",
     "height": 142
    },
    "executionInfo": {
     "elapsed": 535,
     "status": "ok",
     "timestamp": 1631719806694,
     "user": {
      "displayName": "Karan Shingde",
      "photoUrl": "https://lh3.googleusercontent.com/a-/AOh14GgLICG7ZvpvK_UWyo13dmBvK-imuGHh4kMe90EQaA=s64",
      "userId": "09853010465659949726"
     },
     "user_tz": -330
    },
    "id": "Ntl63kyhQCFE",
    "outputId": "87b23d8d-4d15-4aa6-9d9f-96f629d12f87"
   },
   "outputs": [
    {
     "data": {
      "text/html": [
       "<div>\n",
       "<style scoped>\n",
       "    .dataframe tbody tr th:only-of-type {\n",
       "        vertical-align: middle;\n",
       "    }\n",
       "\n",
       "    .dataframe tbody tr th {\n",
       "        vertical-align: top;\n",
       "    }\n",
       "\n",
       "    .dataframe thead th {\n",
       "        text-align: right;\n",
       "    }\n",
       "</style>\n",
       "<table border=\"1\" class=\"dataframe\">\n",
       "  <thead>\n",
       "    <tr style=\"text-align: right;\">\n",
       "      <th></th>\n",
       "      <th>Pregnancies</th>\n",
       "      <th>Glucose</th>\n",
       "      <th>BloodPressure</th>\n",
       "      <th>SkinThickness</th>\n",
       "      <th>Insulin</th>\n",
       "      <th>BMI</th>\n",
       "      <th>DiabetesPedigreeFunction</th>\n",
       "      <th>Age</th>\n",
       "    </tr>\n",
       "    <tr>\n",
       "      <th>Outcome</th>\n",
       "      <th></th>\n",
       "      <th></th>\n",
       "      <th></th>\n",
       "      <th></th>\n",
       "      <th></th>\n",
       "      <th></th>\n",
       "      <th></th>\n",
       "      <th></th>\n",
       "    </tr>\n",
       "  </thead>\n",
       "  <tbody>\n",
       "    <tr>\n",
       "      <th>0</th>\n",
       "      <td>3.298000</td>\n",
       "      <td>109.980000</td>\n",
       "      <td>68.184000</td>\n",
       "      <td>19.664000</td>\n",
       "      <td>68.792000</td>\n",
       "      <td>30.304200</td>\n",
       "      <td>0.429734</td>\n",
       "      <td>31.190000</td>\n",
       "    </tr>\n",
       "    <tr>\n",
       "      <th>1</th>\n",
       "      <td>4.865672</td>\n",
       "      <td>141.257463</td>\n",
       "      <td>70.824627</td>\n",
       "      <td>22.164179</td>\n",
       "      <td>100.335821</td>\n",
       "      <td>35.142537</td>\n",
       "      <td>0.550500</td>\n",
       "      <td>37.067164</td>\n",
       "    </tr>\n",
       "  </tbody>\n",
       "</table>\n",
       "</div>"
      ],
      "text/plain": [
       "         Pregnancies     Glucose  BloodPressure  SkinThickness     Insulin  \\\n",
       "Outcome                                                                      \n",
       "0           3.298000  109.980000      68.184000      19.664000   68.792000   \n",
       "1           4.865672  141.257463      70.824627      22.164179  100.335821   \n",
       "\n",
       "               BMI  DiabetesPedigreeFunction        Age  \n",
       "Outcome                                                  \n",
       "0        30.304200                  0.429734  31.190000  \n",
       "1        35.142537                  0.550500  37.067164  "
      ]
     },
     "execution_count": 45,
     "metadata": {},
     "output_type": "execute_result"
    }
   ],
   "source": [
    "# Mean value for both cases\n",
    "df.groupby('Outcome').mean()"
   ]
  },
  {
   "cell_type": "code",
   "execution_count": 46,
   "metadata": {
    "id": "A2M8dZLSQ58J"
   },
   "outputs": [],
   "source": [
    "# seperating the data and labels\n",
    "X = df.iloc[:, :-1].values\n",
    "y = df.iloc[:, -1].values"
   ]
  },
  {
   "cell_type": "code",
   "execution_count": 47,
   "metadata": {
    "colab": {
     "base_uri": "https://localhost:8080/"
    },
    "executionInfo": {
     "elapsed": 531,
     "status": "ok",
     "timestamp": 1631719806696,
     "user": {
      "displayName": "Karan Shingde",
      "photoUrl": "https://lh3.googleusercontent.com/a-/AOh14GgLICG7ZvpvK_UWyo13dmBvK-imuGHh4kMe90EQaA=s64",
      "userId": "09853010465659949726"
     },
     "user_tz": -330
    },
    "id": "L5cGEaGwRXhu",
    "outputId": "f7ec6428-49aa-4d4a-f61c-c6847cca5a5d"
   },
   "outputs": [
    {
     "name": "stdout",
     "output_type": "stream",
     "text": [
      "[[  6.    148.     72.    ...  33.6     0.627  50.   ]\n",
      " [  1.     85.     66.    ...  26.6     0.351  31.   ]\n",
      " [  8.    183.     64.    ...  23.3     0.672  32.   ]\n",
      " ...\n",
      " [  5.    121.     72.    ...  26.2     0.245  30.   ]\n",
      " [  1.    126.     60.    ...  30.1     0.349  47.   ]\n",
      " [  1.     93.     70.    ...  30.4     0.315  23.   ]]\n"
     ]
    }
   ],
   "source": [
    "print(X)"
   ]
  },
  {
   "cell_type": "code",
   "execution_count": 48,
   "metadata": {
    "colab": {
     "base_uri": "https://localhost:8080/"
    },
    "executionInfo": {
     "elapsed": 524,
     "status": "ok",
     "timestamp": 1631719806697,
     "user": {
      "displayName": "Karan Shingde",
      "photoUrl": "https://lh3.googleusercontent.com/a-/AOh14GgLICG7ZvpvK_UWyo13dmBvK-imuGHh4kMe90EQaA=s64",
      "userId": "09853010465659949726"
     },
     "user_tz": -330
    },
    "id": "kvLd696XRYX6",
    "outputId": "1462dd8a-3743-4b70-d592-db542c31a053"
   },
   "outputs": [
    {
     "name": "stdout",
     "output_type": "stream",
     "text": [
      "[1 0 1 0 1 0 1 0 1 1 0 1 0 1 1 1 1 1 0 1 0 0 1 1 1 1 1 0 0 0 0 1 0 0 0 0 0\n",
      " 1 1 1 0 0 0 1 0 1 0 0 1 0 0 0 0 1 0 0 1 0 0 0 0 1 0 0 1 0 1 0 0 0 1 0 1 0\n",
      " 0 0 0 0 1 0 0 0 0 0 1 0 0 0 1 0 0 0 0 1 0 0 0 0 0 1 1 0 0 0 0 0 0 0 0 1 1\n",
      " 1 0 0 1 1 1 0 0 0 1 0 0 0 1 1 0 0 1 1 1 1 1 0 0 0 0 0 0 0 0 0 0 1 0 0 0 0\n",
      " 0 0 0 0 1 0 1 1 0 0 0 1 0 0 0 0 1 1 0 0 0 0 1 1 0 0 0 1 0 1 0 1 0 0 0 0 0\n",
      " 1 1 1 1 1 0 0 1 1 0 1 0 1 1 1 0 0 0 0 0 0 1 1 0 1 0 0 0 1 1 1 1 0 1 1 1 1\n",
      " 0 0 0 0 0 1 0 0 1 1 0 0 0 1 1 1 1 0 0 0 1 1 0 1 0 0 0 0 0 0 0 0 1 1 0 0 0\n",
      " 1 0 1 0 0 1 0 1 0 0 1 1 0 0 0 0 0 1 0 0 0 1 0 0 1 1 0 0 1 0 0 0 1 1 1 0 0\n",
      " 1 0 1 0 1 1 0 1 0 0 1 0 1 1 0 0 1 0 1 0 0 1 0 1 0 1 1 1 0 0 1 0 1 0 0 0 1\n",
      " 0 0 0 0 1 1 1 0 0 0 0 0 0 0 0 0 1 0 0 0 0 0 1 1 1 0 1 1 0 0 1 0 0 1 0 0 1\n",
      " 1 0 0 0 0 1 0 0 1 0 0 0 0 0 0 0 1 1 1 0 0 1 0 0 1 0 0 1 0 1 1 0 1 0 1 0 1\n",
      " 0 1 1 0 0 0 0 1 1 0 1 0 1 0 0 0 0 1 1 0 1 0 1 0 0 0 0 0 1 0 0 0 0 1 0 0 1\n",
      " 1 1 0 0 1 0 0 1 0 0 0 1 0 0 1 0 0 0 0 0 0 0 0 0 1 0 0 0 0 0 0 0 1 0 0 0 1\n",
      " 0 0 0 1 1 0 0 0 0 0 0 0 1 0 0 0 0 1 0 0 0 1 0 0 0 1 0 0 0 1 0 0 0 0 1 1 0\n",
      " 0 0 0 0 0 1 0 0 0 0 0 0 0 0 0 0 0 1 0 0 0 1 1 1 1 0 0 1 1 0 0 0 0 0 0 0 0\n",
      " 0 0 0 0 0 1 1 0 0 0 0 0 0 0 1 0 0 0 0 0 0 0 1 0 1 1 0 0 0 1 0 1 0 1 0 1 0\n",
      " 1 0 0 1 0 0 1 0 0 0 0 1 1 0 1 0 0 0 0 1 1 0 1 0 0 0 1 1 0 0 0 0 0 0 0 0 0\n",
      " 0 1 0 0 0 0 1 0 0 1 0 0 0 1 0 0 0 1 1 1 0 0 0 0 0 0 1 0 0 0 1 0 1 1 1 1 0\n",
      " 1 1 0 0 0 0 0 0 0 1 1 0 1 0 0 1 0 1 0 0 0 0 0 1 0 1 0 1 0 1 1 0 0 0 0 1 1\n",
      " 0 0 0 1 0 1 1 0 0 1 0 0 1 1 0 0 1 0 0 1 0 0 0 0 0 0 0 1 1 1 0 0 0 0 0 0 1\n",
      " 1 0 0 1 0 0 1 0 1 1 1 0 0 1 1 1 0 1 0 1 0 1 0 0 0 0 1 0]\n"
     ]
    }
   ],
   "source": [
    "print(y)"
   ]
  },
  {
   "cell_type": "markdown",
   "metadata": {
    "id": "M0vO3TbzR_V9"
   },
   "source": [
    "# Data Standardization"
   ]
  },
  {
   "cell_type": "code",
   "execution_count": 49,
   "metadata": {
    "id": "Bs8bw0ubR8Yt"
   },
   "outputs": [],
   "source": [
    "# Performing standardization\n",
    "from sklearn.preprocessing import StandardScaler\n",
    "sc = StandardScaler()\n",
    "scaled_X = sc.fit_transform(X)"
   ]
  },
  {
   "cell_type": "code",
   "execution_count": 50,
   "metadata": {
    "colab": {
     "base_uri": "https://localhost:8080/"
    },
    "executionInfo": {
     "elapsed": 519,
     "status": "ok",
     "timestamp": 1631719806700,
     "user": {
      "displayName": "Karan Shingde",
      "photoUrl": "https://lh3.googleusercontent.com/a-/AOh14GgLICG7ZvpvK_UWyo13dmBvK-imuGHh4kMe90EQaA=s64",
      "userId": "09853010465659949726"
     },
     "user_tz": -330
    },
    "id": "DdmY79JyTXui",
    "outputId": "601257fa-7b58-4782-f51b-0617f2b62c80"
   },
   "outputs": [
    {
     "data": {
      "text/plain": [
       "array([[ 0.63994726,  0.84832379,  0.14964075, ...,  0.20401277,\n",
       "         0.46849198,  1.4259954 ],\n",
       "       [-0.84488505, -1.12339636, -0.16054575, ..., -0.68442195,\n",
       "        -0.36506078, -0.19067191],\n",
       "       [ 1.23388019,  1.94372388, -0.26394125, ..., -1.10325546,\n",
       "         0.60439732, -0.10558415],\n",
       "       ...,\n",
       "       [ 0.3429808 ,  0.00330087,  0.14964075, ..., -0.73518964,\n",
       "        -0.68519336, -0.27575966],\n",
       "       [-0.84488505,  0.1597866 , -0.47073225, ..., -0.24020459,\n",
       "        -0.37110101,  1.17073215],\n",
       "       [-0.84488505, -0.8730192 ,  0.04624525, ..., -0.20212881,\n",
       "        -0.47378505, -0.87137393]])"
      ]
     },
     "execution_count": 50,
     "metadata": {},
     "output_type": "execute_result"
    }
   ],
   "source": [
    "scaled_X"
   ]
  },
  {
   "cell_type": "code",
   "execution_count": 51,
   "metadata": {
    "id": "WxE1Ai2ETcpp"
   },
   "outputs": [],
   "source": [
    "# replacing scaled_X to X\n",
    "X = scaled_X"
   ]
  },
  {
   "cell_type": "code",
   "execution_count": 52,
   "metadata": {
    "colab": {
     "base_uri": "https://localhost:8080/"
    },
    "executionInfo": {
     "elapsed": 513,
     "status": "ok",
     "timestamp": 1631719806703,
     "user": {
      "displayName": "Karan Shingde",
      "photoUrl": "https://lh3.googleusercontent.com/a-/AOh14GgLICG7ZvpvK_UWyo13dmBvK-imuGHh4kMe90EQaA=s64",
      "userId": "09853010465659949726"
     },
     "user_tz": -330
    },
    "id": "X5jub0eLU0xs",
    "outputId": "de1414db-93c4-4e3e-cf5d-d9f4ecad49a4"
   },
   "outputs": [
    {
     "data": {
      "text/plain": [
       "array([[ 0.63994726,  0.84832379,  0.14964075, ...,  0.20401277,\n",
       "         0.46849198,  1.4259954 ],\n",
       "       [-0.84488505, -1.12339636, -0.16054575, ..., -0.68442195,\n",
       "        -0.36506078, -0.19067191],\n",
       "       [ 1.23388019,  1.94372388, -0.26394125, ..., -1.10325546,\n",
       "         0.60439732, -0.10558415],\n",
       "       ...,\n",
       "       [ 0.3429808 ,  0.00330087,  0.14964075, ..., -0.73518964,\n",
       "        -0.68519336, -0.27575966],\n",
       "       [-0.84488505,  0.1597866 , -0.47073225, ..., -0.24020459,\n",
       "        -0.37110101,  1.17073215],\n",
       "       [-0.84488505, -0.8730192 ,  0.04624525, ..., -0.20212881,\n",
       "        -0.47378505, -0.87137393]])"
      ]
     },
     "execution_count": 52,
     "metadata": {},
     "output_type": "execute_result"
    }
   ],
   "source": [
    "X"
   ]
  },
  {
   "cell_type": "markdown",
   "metadata": {
    "id": "Uvf8n5uYU4Km"
   },
   "source": [
    "# Train Test Split"
   ]
  },
  {
   "cell_type": "markdown",
   "metadata": {
    "id": "XxID_ZbWU_AR"
   },
   "source": [
    "Spliting datasets into train and test set"
   ]
  },
  {
   "cell_type": "code",
   "execution_count": 53,
   "metadata": {
    "id": "jmPj6dvrU2eS"
   },
   "outputs": [],
   "source": [
    "from sklearn.model_selection import train_test_split\n",
    "X_train, X_test, y_train, y_test = train_test_split(X, y, test_size=0.2,stratify=y, random_state=2)"
   ]
  },
  {
   "cell_type": "code",
   "execution_count": 54,
   "metadata": {
    "colab": {
     "base_uri": "https://localhost:8080/"
    },
    "executionInfo": {
     "elapsed": 509,
     "status": "ok",
     "timestamp": 1631719806705,
     "user": {
      "displayName": "Karan Shingde",
      "photoUrl": "https://lh3.googleusercontent.com/a-/AOh14GgLICG7ZvpvK_UWyo13dmBvK-imuGHh4kMe90EQaA=s64",
      "userId": "09853010465659949726"
     },
     "user_tz": -330
    },
    "id": "RwO8lFYRWVfZ",
    "outputId": "d528bca6-f592-4d2e-eef0-509e6c8796bb"
   },
   "outputs": [
    {
     "name": "stdout",
     "output_type": "stream",
     "text": [
      "(768, 8) (614, 8) (154, 8)\n"
     ]
    }
   ],
   "source": [
    "# Let's check shapes\n",
    "print(X.shape,X_train.shape, X_test.shape)"
   ]
  },
  {
   "cell_type": "markdown",
   "metadata": {},
   "source": [
    "# Model selection"
   ]
  },
  {
   "cell_type": "markdown",
   "metadata": {},
   "source": [
    " Our task is about predicting the disease but there are many **Machine Learning Classification** algorithms. We can't use directly one of the algorithm, so we need to make pipeline first and finding suitable algorithm. "
   ]
  },
  {
   "cell_type": "markdown",
   "metadata": {},
   "source": [
    "## Imporing "
   ]
  },
  {
   "cell_type": "code",
   "execution_count": 55,
   "metadata": {},
   "outputs": [],
   "source": [
    "from sklearn.linear_model import LogisticRegression\n",
    "from sklearn.svm import SVC\n",
    "from sklearn.tree import DecisionTreeClassifier\n",
    "from sklearn.ensemble import RandomForestClassifier\n",
    "from sklearn.neighbors import KNeighborsClassifier\n",
    "from xgboost import XGBClassifier\n",
    "from sklearn.cluster import KMeans\n",
    "from sklearn.naive_bayes import GaussianNB\n",
    "from sklearn.pipeline import Pipeline\n",
    "# from sklearn.decomposition import PCA"
   ]
  },
  {
   "cell_type": "code",
   "execution_count": 92,
   "metadata": {},
   "outputs": [],
   "source": [
    "# Linear Regression\n",
    "pipeline_lr = Pipeline([('scaler1', StandardScaler()),\n",
    "                        ('pca1', PCA(n_components=2)),\n",
    "                        ('lr', LogisticRegression())])\n",
    "\n",
    "# Support Vector Classifier\n",
    "pipeline_svc = Pipeline([('scaler2', StandardScaler()),\n",
    "                        ('pca2', PCA(n_components=2)),\n",
    "                        ('svc', SVC(kernel='linear'))])\n",
    "\n",
    "# Decision Tree Classifier\n",
    "pipeline_dt = Pipeline([('scaler3', StandardScaler()),\n",
    "                        ('pca3', PCA(n_components=2)),\n",
    "                        ('dt', DecisionTreeClassifier())])\n",
    "\n",
    "# Random Forest Classifier\n",
    "pipeline_rf = Pipeline([('scaler4', StandardScaler()),\n",
    "                        ('pca4', PCA(n_components=2)),\n",
    "                        ('rf', RandomForestClassifier(n_estimators=200))])\n",
    "\n",
    "# K-Means \n",
    "pipeline_km = Pipeline([('scaler5', StandardScaler()),\n",
    "                        ('pca5', PCA(n_components=2)),\n",
    "                        ('km', KMeans(n_clusters=2, random_state=0))])\n",
    "\n",
    "# Naive Bayes - GaussianNB\n",
    "pipeline_gnb = Pipeline([('scaler6', StandardScaler()),\n",
    "                        ('pca6', PCA(n_components=2)),\n",
    "                        ('gnb', GaussianNB())])\n",
    "\n",
    "# XGBoost CLassifier\n",
    "pipeline_xgb = Pipeline([('scaler7', StandardScaler()),\n",
    "                        ('pca7', PCA(n_components=2)),\n",
    "                        ('xgb', XGBClassifier())])\n",
    "\n",
    "# K-Nearest Neighbors \n",
    "pipeline_knb = Pipeline([('scaler8', StandardScaler()),\n",
    "                        ('pca8', PCA(n_components=2)),\n",
    "                        ('knb', KNeighborsClassifier())])"
   ]
  },
  {
   "cell_type": "code",
   "execution_count": 93,
   "metadata": {},
   "outputs": [],
   "source": [
    "#List of pipelines\n",
    "pipelines = [pipeline_svc, pipeline_dt, pipeline_gnb, pipeline_km, pipeline_lr, pipeline_xgb, pipeline_knb, pipeline_rf]"
   ]
  },
  {
   "cell_type": "code",
   "execution_count": 94,
   "metadata": {},
   "outputs": [],
   "source": [
    "best_accuracy = 0.0\n",
    "best_classifier = 0\n",
    "best_pipeline = \"\"\n",
    "\n",
    "pipe_dict = {\n",
    "    0:'Logistic Regression',\n",
    "    1:\"Support Vector Classifier\",\n",
    "    2:\"Decision Tree\",\n",
    "    3:\"Random Forest Classifier\",\n",
    "    4:\"KMeans\",\n",
    "    5:\"Naive Bayes\",\n",
    "    6:\"XGBoostClassifier\",\n",
    "    7:\"K-Nearest\"\n",
    "}"
   ]
  },
  {
   "cell_type": "code",
   "execution_count": 95,
   "metadata": {},
   "outputs": [
    {
     "name": "stdout",
     "output_type": "stream",
     "text": [
      "[20:41:06] WARNING: C:/Users/Administrator/workspace/xgboost-win64_release_1.4.0/src/learner.cc:1095: Starting in XGBoost 1.3.0, the default evaluation metric used with the objective 'binary:logistic' was changed from 'error' to 'logloss'. Explicitly set eval_metric if you'd like to restore the old behavior.\n"
     ]
    }
   ],
   "source": [
    "for pipe in pipelines:\n",
    "  pipe.fit(X_train, y_train)"
   ]
  },
  {
   "cell_type": "code",
   "execution_count": 96,
   "metadata": {},
   "outputs": [
    {
     "name": "stdout",
     "output_type": "stream",
     "text": [
      "Logistic Regression Test Accuracy: 0.7012987012987013\n",
      "\n",
      "Support Vector Classifier Test Accuracy: 0.6168831168831169\n",
      "\n",
      "Decision Tree Test Accuracy: 0.6948051948051948\n",
      "\n",
      "Random Forest Classifier Test Accuracy: -335.34699890879153\n",
      "\n",
      "KMeans Test Accuracy: 0.7012987012987013\n",
      "\n",
      "Naive Bayes Test Accuracy: 0.6688311688311688\n",
      "\n",
      "XGBoostClassifier Test Accuracy: 0.6948051948051948\n",
      "\n",
      "K-Nearest Test Accuracy: 0.6688311688311688\n",
      "\n"
     ]
    }
   ],
   "source": [
    "for i, model in enumerate(pipelines):\n",
    "  print('{} Test Accuracy: {}\\n'.format(pipe_dict[i], model.score(X_test, y_test)))"
   ]
  },
  {
   "cell_type": "code",
   "execution_count": 97,
   "metadata": {},
   "outputs": [
    {
     "name": "stdout",
     "output_type": "stream",
     "text": [
      "Classifier with best accuracy: Logistic Regression\n"
     ]
    }
   ],
   "source": [
    "for i, model in enumerate(pipelines):\n",
    "  if model.score(X_test, y_test) > best_accuracy:\n",
    "    best_accuracy = model.score(X_test, y_test)\n",
    "    best_pipeline = model\n",
    "    best_classifier = i\n",
    "\n",
    "print(\"Classifier with best accuracy: {}\".format(pipe_dict[best_classifier]))"
   ]
  },
  {
   "cell_type": "markdown",
   "metadata": {},
   "source": [
    " - After comparing all possible classification algorithms we can see that **Logistic Regression** has best accuracy"
   ]
  },
  {
   "cell_type": "markdown",
   "metadata": {
    "id": "m7TZ99LjWhDL"
   },
   "source": [
    "# Training the model"
   ]
  },
  {
   "cell_type": "markdown",
   "metadata": {
    "id": "2nlnNcNBW6hu"
   },
   "source": [
    "Okay, so now we are going to build machine learning model, after running piplines we are going to use **Logistic Regressoin** cause our output is binary i.e. 0 and 1 (Logistic Regression is best in this case according to our pipelines\n"
   ]
  },
  {
   "cell_type": "markdown",
   "metadata": {
    "id": "JEFKGFczGXyI"
   },
   "source": [
    "Logistic Regression"
   ]
  },
  {
   "cell_type": "code",
   "execution_count": 98,
   "metadata": {
    "id": "cGiq4EGCA3ls"
   },
   "outputs": [
    {
     "data": {
      "text/plain": [
       "LogisticRegression()"
      ]
     },
     "execution_count": 98,
     "metadata": {},
     "output_type": "execute_result"
    }
   ],
   "source": [
    "model  = LogisticRegression()\n",
    "model.fit(X_train,y_train)"
   ]
  },
  {
   "cell_type": "markdown",
   "metadata": {
    "id": "ohv6GMAhXwx0"
   },
   "source": [
    "# Model Evalutaion"
   ]
  },
  {
   "cell_type": "markdown",
   "metadata": {
    "id": "ABTdm5YdX2Lm"
   },
   "source": [
    "Lets check ***classification report,confusion marix and accuracy score*** of above model"
   ]
  },
  {
   "cell_type": "code",
   "execution_count": 99,
   "metadata": {
    "id": "P3G3o8whXyzH"
   },
   "outputs": [],
   "source": [
    "#importing tools\n",
    "from sklearn.metrics import classification_report, accuracy_score, confusion_matrix"
   ]
  },
  {
   "cell_type": "code",
   "execution_count": 100,
   "metadata": {
    "id": "IXMymar8tA7T"
   },
   "outputs": [],
   "source": [
    "# prediction classes\n",
    "y_pred = model.predict(X_test)"
   ]
  },
  {
   "cell_type": "markdown",
   "metadata": {
    "id": "dHFN6bh7Ymbx"
   },
   "source": [
    "***Classification Report***"
   ]
  },
  {
   "cell_type": "code",
   "execution_count": 101,
   "metadata": {
    "colab": {
     "base_uri": "https://localhost:8080/"
    },
    "executionInfo": {
     "elapsed": 467,
     "status": "ok",
     "timestamp": 1631719806717,
     "user": {
      "displayName": "Karan Shingde",
      "photoUrl": "https://lh3.googleusercontent.com/a-/AOh14GgLICG7ZvpvK_UWyo13dmBvK-imuGHh4kMe90EQaA=s64",
      "userId": "09853010465659949726"
     },
     "user_tz": -330
    },
    "id": "KVaxYwZct7k7",
    "outputId": "6b7c6ceb-4067-4772-9a44-eebef78d208a"
   },
   "outputs": [
    {
     "name": "stdout",
     "output_type": "stream",
     "text": [
      "CLASSIFICATION REPORT: \n",
      "              precision    recall  f1-score   support\n",
      "\n",
      "           0       0.77      0.89      0.83       100\n",
      "           1       0.72      0.52      0.60        54\n",
      "\n",
      "    accuracy                           0.76       154\n",
      "   macro avg       0.75      0.70      0.72       154\n",
      "weighted avg       0.75      0.76      0.75       154\n",
      "\n"
     ]
    }
   ],
   "source": [
    "print(\"CLASSIFICATION REPORT: \")\n",
    "print(classification_report(y_test, y_pred))"
   ]
  },
  {
   "cell_type": "markdown",
   "metadata": {
    "id": "EUWtxcXKv-5h"
   },
   "source": [
    "***Accuracy Score***"
   ]
  },
  {
   "cell_type": "code",
   "execution_count": 102,
   "metadata": {
    "id": "t1pIP931uMjQ"
   },
   "outputs": [],
   "source": [
    "#Accuracy score of training data\n",
    "X_train_pred = model.predict(X_train)\n",
    "training_data_accuracy = accuracy_score(X_train_pred,y_train )*100"
   ]
  },
  {
   "cell_type": "code",
   "execution_count": 103,
   "metadata": {
    "colab": {
     "base_uri": "https://localhost:8080/"
    },
    "executionInfo": {
     "elapsed": 453,
     "status": "ok",
     "timestamp": 1631719806719,
     "user": {
      "displayName": "Karan Shingde",
      "photoUrl": "https://lh3.googleusercontent.com/a-/AOh14GgLICG7ZvpvK_UWyo13dmBvK-imuGHh4kMe90EQaA=s64",
      "userId": "09853010465659949726"
     },
     "user_tz": -330
    },
    "id": "hsp4EgE1wp_R",
    "outputId": "cdf93f14-6a38-4dbc-fdbd-076e96393feb"
   },
   "outputs": [
    {
     "name": "stdout",
     "output_type": "stream",
     "text": [
      "ACCURACY OF TRAINING DATA:  78.5\n"
     ]
    }
   ],
   "source": [
    "print(\"ACCURACY OF TRAINING DATA: \",training_data_accuracy.round(2))"
   ]
  },
  {
   "cell_type": "code",
   "execution_count": 104,
   "metadata": {
    "id": "zAKVCrTRw0D9"
   },
   "outputs": [],
   "source": [
    "#Accuracy score of testing data\n",
    "X_test_pred = model.predict(X_test)\n",
    "testing_data_accuracy = accuracy_score(X_test_pred,y_test)*100"
   ]
  },
  {
   "cell_type": "code",
   "execution_count": 105,
   "metadata": {
    "colab": {
     "base_uri": "https://localhost:8080/"
    },
    "executionInfo": {
     "elapsed": 442,
     "status": "ok",
     "timestamp": 1631719806721,
     "user": {
      "displayName": "Karan Shingde",
      "photoUrl": "https://lh3.googleusercontent.com/a-/AOh14GgLICG7ZvpvK_UWyo13dmBvK-imuGHh4kMe90EQaA=s64",
      "userId": "09853010465659949726"
     },
     "user_tz": -330
    },
    "id": "dACOMThJxKvi",
    "outputId": "2552085e-fd7f-4bd2-8d60-b40de4f9fb40"
   },
   "outputs": [
    {
     "name": "stdout",
     "output_type": "stream",
     "text": [
      "ACCURACY OF TESTING DATA:  75.97\n"
     ]
    }
   ],
   "source": [
    "print(\"ACCURACY OF TESTING DATA: \",testing_data_accuracy.round(2))"
   ]
  },
  {
   "cell_type": "markdown",
   "metadata": {
    "id": "PwjsxevexZVe"
   },
   "source": [
    "***Confusion Matrix***"
   ]
  },
  {
   "cell_type": "code",
   "execution_count": 106,
   "metadata": {
    "id": "tKPam7x_xdmM"
   },
   "outputs": [],
   "source": [
    "# Confusion Matrix\n",
    "cm = confusion_matrix(y_test, y_pred)"
   ]
  },
  {
   "cell_type": "code",
   "execution_count": 107,
   "metadata": {
    "colab": {
     "base_uri": "https://localhost:8080/",
     "height": 284
    },
    "executionInfo": {
     "elapsed": 428,
     "status": "ok",
     "timestamp": 1631719806723,
     "user": {
      "displayName": "Karan Shingde",
      "photoUrl": "https://lh3.googleusercontent.com/a-/AOh14GgLICG7ZvpvK_UWyo13dmBvK-imuGHh4kMe90EQaA=s64",
      "userId": "09853010465659949726"
     },
     "user_tz": -330
    },
    "id": "n5Jc7LWwxrGN",
    "outputId": "4c6dfa29-edab-4618-aca7-cd8b973d4b41"
   },
   "outputs": [
    {
     "data": {
      "text/plain": [
       "<AxesSubplot:>"
      ]
     },
     "execution_count": 107,
     "metadata": {},
     "output_type": "execute_result"
    },
    {
     "data": {
      "image/png": "[encoded data removed]",
      "text/plain": [
       "<Figure size 432x288 with 2 Axes>"
      ]
     },
     "metadata": {
      "needs_background": "light"
     },
     "output_type": "display_data"
    }
   ],
   "source": [
    "#Visualizing the Confusion Matrix\n",
    "import seaborn as sns\n",
    "sns.heatmap(cm,annot=True)"
   ]
  },
  {
   "cell_type": "markdown",
   "metadata": {
    "id": "g0DqW2p8AO_O"
   },
   "source": [
    "# Making a predictive System"
   ]
  },
  {
   "cell_type": "code",
   "execution_count": 108,
   "metadata": {
    "colab": {
     "base_uri": "https://localhost:8080/"
    },
    "executionInfo": {
     "elapsed": 406,
     "status": "ok",
     "timestamp": 1631719806724,
     "user": {
      "displayName": "Karan Shingde",
      "photoUrl": "https://lh3.googleusercontent.com/a-/AOh14GgLICG7ZvpvK_UWyo13dmBvK-imuGHh4kMe90EQaA=s64",
      "userId": "09853010465659949726"
     },
     "user_tz": -330
    },
    "id": "XM9UinEZyOkZ",
    "outputId": "370e6d1a-81fd-4922-845e-bc33e3851c4c"
   },
   "outputs": [
    {
     "name": "stdout",
     "output_type": "stream",
     "text": [
      "The person is diabetic\n"
     ]
    }
   ],
   "source": [
    "# input_data = (4,110,92,0,0,37.6,0.191,30)  not diabetic \n",
    "input_data = (5,166,72,19,175,25.8,0.587,51)  # diabetic\n",
    "\n",
    "# input data into numpy array\n",
    "input_data_as_numpy_array = np.asarray(input_data)\n",
    "\n",
    "# reshape the array as we are predicting for one instance\n",
    "input_data_reshaped = input_data_as_numpy_array.reshape(1,-1)\n",
    "\n",
    "# standardize the inputdata\n",
    "std_data = sc.transform(input_data_reshaped)\n",
    "# print(std_data)\n",
    "\n",
    "prediction = model.predict(std_data) # imp line\n",
    "# print(prediction)\n",
    "\n",
    "if (prediction[0]==0):\n",
    "  print('The person is not diabetic')\n",
    "else:\n",
    "  print('The person is diabetic')"
   ]
  },
  {
   "cell_type": "markdown",
   "metadata": {
    "id": "GBaVWybCF1B6"
   },
   "source": [
    "# GREAT JOB 🚀\n",
    "we are done with this task :) Happy Coding 🎉🎉"
   ]
  }
 ],
 "metadata": {
  "colab": {
   "authorship_tag": "ABX9TyNveoQPoEjzdWW0WBbRMsNI",
   "collapsed_sections": [
    "jhGN4IcGLcez",
    "jZYySL9KOrhX",
    "M0vO3TbzR_V9",
    "Uvf8n5uYU4Km",
    "g0DqW2p8AO_O",
    "XduOQj51FVB1"
   ],
   "name": "Diabetes.ipynb",
   "provenance": []
  },
  "kernelspec": {
   "display_name": "Python 3 (ipykernel)",
   "language": "python",
   "name": "python3"
  },
  "language_info": {
   "codemirror_mode": {
    "name": "ipython",
    "version": 3
   },
   "file_extension": ".py",
   "mimetype": "text/x-python",
   "name": "python",
   "nbconvert_exporter": "python",
   "pygments_lexer": "ipython3",
   "version": "3.8.5"
  }
 },
 "nbformat": 4,
 "nbformat_minor": 1
}
