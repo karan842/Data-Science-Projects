{
 "cells": [
  {
   "cell_type": "code",
   "execution_count": 1,
   "metadata": {
    "execution": {
     "iopub.execute_input": "2021-10-14T06:28:19.024003Z",
     "iopub.status.busy": "2021-10-14T06:28:19.023721Z",
     "iopub.status.idle": "2021-10-14T06:28:19.033397Z",
     "shell.execute_reply": "2021-10-14T06:28:19.032683Z",
     "shell.execute_reply.started": "2021-10-14T06:28:19.023966Z"
    }
   },
   "outputs": [],
   "source": [
    "import pandas as pd\n",
    "import numpy as np\n",
    "import matplotlib.pyplot as plt\n",
    "import seaborn as sns\n",
    "import os\n",
    "import warnings\n",
    "\n",
    "%matplotlib inline\n",
    "pd.set_option(\"display.max_rows\",None,\"display.max_columns\", None)\n",
    "warnings.simplefilter(action='ignore')\n",
    "plt.style.use('seaborn')"
   ]
  },
  {
   "cell_type": "markdown",
   "metadata": {},
   "source": [
    "# Laoding the data"
   ]
  },
  {
   "cell_type": "code",
   "execution_count": 2,
   "metadata": {
    "execution": {
     "iopub.execute_input": "2021-10-14T06:28:19.035437Z",
     "iopub.status.busy": "2021-10-14T06:28:19.035035Z",
     "iopub.status.idle": "2021-10-14T06:28:19.051554Z",
     "shell.execute_reply": "2021-10-14T06:28:19.050749Z",
     "shell.execute_reply.started": "2021-10-14T06:28:19.035402Z"
    }
   },
   "outputs": [],
   "source": [
    "df = pd.read_csv('car data.csv')"
   ]
  },
  {
   "cell_type": "code",
   "execution_count": 3,
   "metadata": {
    "execution": {
     "iopub.execute_input": "2021-10-14T06:28:19.053001Z",
     "iopub.status.busy": "2021-10-14T06:28:19.052752Z",
     "iopub.status.idle": "2021-10-14T06:28:19.070638Z",
     "shell.execute_reply": "2021-10-14T06:28:19.069912Z",
     "shell.execute_reply.started": "2021-10-14T06:28:19.052971Z"
    }
   },
   "outputs": [
    {
     "data": {
      "text/html": [
       "<div>\n",
       "<style scoped>\n",
       "    .dataframe tbody tr th:only-of-type {\n",
       "        vertical-align: middle;\n",
       "    }\n",
       "\n",
       "    .dataframe tbody tr th {\n",
       "        vertical-align: top;\n",
       "    }\n",
       "\n",
       "    .dataframe thead th {\n",
       "        text-align: right;\n",
       "    }\n",
       "</style>\n",
       "<table border=\"1\" class=\"dataframe\">\n",
       "  <thead>\n",
       "    <tr style=\"text-align: right;\">\n",
       "      <th></th>\n",
       "      <th>Car_Name</th>\n",
       "      <th>Year</th>\n",
       "      <th>Selling_Price</th>\n",
       "      <th>Present_Price</th>\n",
       "      <th>Kms_Driven</th>\n",
       "      <th>Fuel_Type</th>\n",
       "      <th>Seller_Type</th>\n",
       "      <th>Transmission</th>\n",
       "      <th>Owner</th>\n",
       "    </tr>\n",
       "  </thead>\n",
       "  <tbody>\n",
       "    <tr>\n",
       "      <th>0</th>\n",
       "      <td>ritz</td>\n",
       "      <td>2014</td>\n",
       "      <td>3.35</td>\n",
       "      <td>5.59</td>\n",
       "      <td>27000</td>\n",
       "      <td>Petrol</td>\n",
       "      <td>Dealer</td>\n",
       "      <td>Manual</td>\n",
       "      <td>0</td>\n",
       "    </tr>\n",
       "    <tr>\n",
       "      <th>1</th>\n",
       "      <td>sx4</td>\n",
       "      <td>2013</td>\n",
       "      <td>4.75</td>\n",
       "      <td>9.54</td>\n",
       "      <td>43000</td>\n",
       "      <td>Diesel</td>\n",
       "      <td>Dealer</td>\n",
       "      <td>Manual</td>\n",
       "      <td>0</td>\n",
       "    </tr>\n",
       "    <tr>\n",
       "      <th>2</th>\n",
       "      <td>ciaz</td>\n",
       "      <td>2017</td>\n",
       "      <td>7.25</td>\n",
       "      <td>9.85</td>\n",
       "      <td>6900</td>\n",
       "      <td>Petrol</td>\n",
       "      <td>Dealer</td>\n",
       "      <td>Manual</td>\n",
       "      <td>0</td>\n",
       "    </tr>\n",
       "    <tr>\n",
       "      <th>3</th>\n",
       "      <td>wagon r</td>\n",
       "      <td>2011</td>\n",
       "      <td>2.85</td>\n",
       "      <td>4.15</td>\n",
       "      <td>5200</td>\n",
       "      <td>Petrol</td>\n",
       "      <td>Dealer</td>\n",
       "      <td>Manual</td>\n",
       "      <td>0</td>\n",
       "    </tr>\n",
       "    <tr>\n",
       "      <th>4</th>\n",
       "      <td>swift</td>\n",
       "      <td>2014</td>\n",
       "      <td>4.60</td>\n",
       "      <td>6.87</td>\n",
       "      <td>42450</td>\n",
       "      <td>Diesel</td>\n",
       "      <td>Dealer</td>\n",
       "      <td>Manual</td>\n",
       "      <td>0</td>\n",
       "    </tr>\n",
       "  </tbody>\n",
       "</table>\n",
       "</div>"
      ],
      "text/plain": [
       "  Car_Name  Year  Selling_Price  Present_Price  Kms_Driven Fuel_Type  \\\n",
       "0     ritz  2014           3.35           5.59       27000    Petrol   \n",
       "1      sx4  2013           4.75           9.54       43000    Diesel   \n",
       "2     ciaz  2017           7.25           9.85        6900    Petrol   \n",
       "3  wagon r  2011           2.85           4.15        5200    Petrol   \n",
       "4    swift  2014           4.60           6.87       42450    Diesel   \n",
       "\n",
       "  Seller_Type Transmission  Owner  \n",
       "0      Dealer       Manual      0  \n",
       "1      Dealer       Manual      0  \n",
       "2      Dealer       Manual      0  \n",
       "3      Dealer       Manual      0  \n",
       "4      Dealer       Manual      0  "
      ]
     },
     "execution_count": 3,
     "metadata": {},
     "output_type": "execute_result"
    }
   ],
   "source": [
    "df.head()"
   ]
  },
  {
   "cell_type": "markdown",
   "metadata": {
    "execution": {
     "iopub.execute_input": "2021-10-14T07:21:59.982703Z",
     "iopub.status.busy": "2021-10-14T07:21:59.981958Z",
     "iopub.status.idle": "2021-10-14T07:21:59.986862Z",
     "shell.execute_reply": "2021-10-14T07:21:59.985816Z",
     "shell.execute_reply.started": "2021-10-14T07:21:59.982648Z"
    }
   },
   "source": [
    "# Exploratory Data Analysis"
   ]
  },
  {
   "cell_type": "code",
   "execution_count": 4,
   "metadata": {
    "execution": {
     "iopub.execute_input": "2021-10-14T06:28:19.073235Z",
     "iopub.status.busy": "2021-10-14T06:28:19.072702Z",
     "iopub.status.idle": "2021-10-14T06:28:19.078987Z",
     "shell.execute_reply": "2021-10-14T06:28:19.077987Z",
     "shell.execute_reply.started": "2021-10-14T06:28:19.073199Z"
    }
   },
   "outputs": [
    {
     "data": {
      "text/plain": [
       "(301, 9)"
      ]
     },
     "execution_count": 4,
     "metadata": {},
     "output_type": "execute_result"
    }
   ],
   "source": [
    "df.shape"
   ]
  },
  {
   "cell_type": "code",
   "execution_count": 5,
   "metadata": {
    "execution": {
     "iopub.execute_input": "2021-10-14T06:28:19.080937Z",
     "iopub.status.busy": "2021-10-14T06:28:19.080562Z",
     "iopub.status.idle": "2021-10-14T06:28:19.098754Z",
     "shell.execute_reply": "2021-10-14T06:28:19.097878Z",
     "shell.execute_reply.started": "2021-10-14T06:28:19.0809Z"
    }
   },
   "outputs": [
    {
     "name": "stdout",
     "output_type": "stream",
     "text": [
      "<class 'pandas.core.frame.DataFrame'>\n",
      "RangeIndex: 301 entries, 0 to 300\n",
      "Data columns (total 9 columns):\n",
      " #   Column         Non-Null Count  Dtype  \n",
      "---  ------         --------------  -----  \n",
      " 0   Car_Name       301 non-null    object \n",
      " 1   Year           301 non-null    int64  \n",
      " 2   Selling_Price  301 non-null    float64\n",
      " 3   Present_Price  301 non-null    float64\n",
      " 4   Kms_Driven     301 non-null    int64  \n",
      " 5   Fuel_Type      301 non-null    object \n",
      " 6   Seller_Type    301 non-null    object \n",
      " 7   Transmission   301 non-null    object \n",
      " 8   Owner          301 non-null    int64  \n",
      "dtypes: float64(2), int64(3), object(4)\n",
      "memory usage: 21.3+ KB\n"
     ]
    }
   ],
   "source": [
    "df.info()"
   ]
  },
  {
   "cell_type": "code",
   "execution_count": 6,
   "metadata": {
    "execution": {
     "iopub.execute_input": "2021-10-14T06:28:19.100709Z",
     "iopub.status.busy": "2021-10-14T06:28:19.100423Z",
     "iopub.status.idle": "2021-10-14T06:28:19.129782Z",
     "shell.execute_reply": "2021-10-14T06:28:19.129142Z",
     "shell.execute_reply.started": "2021-10-14T06:28:19.100676Z"
    }
   },
   "outputs": [
    {
     "data": {
      "text/html": [
       "<div>\n",
       "<style scoped>\n",
       "    .dataframe tbody tr th:only-of-type {\n",
       "        vertical-align: middle;\n",
       "    }\n",
       "\n",
       "    .dataframe tbody tr th {\n",
       "        vertical-align: top;\n",
       "    }\n",
       "\n",
       "    .dataframe thead th {\n",
       "        text-align: right;\n",
       "    }\n",
       "</style>\n",
       "<table border=\"1\" class=\"dataframe\">\n",
       "  <thead>\n",
       "    <tr style=\"text-align: right;\">\n",
       "      <th></th>\n",
       "      <th>Year</th>\n",
       "      <th>Selling_Price</th>\n",
       "      <th>Present_Price</th>\n",
       "      <th>Kms_Driven</th>\n",
       "      <th>Owner</th>\n",
       "    </tr>\n",
       "  </thead>\n",
       "  <tbody>\n",
       "    <tr>\n",
       "      <th>count</th>\n",
       "      <td>301.000000</td>\n",
       "      <td>301.000000</td>\n",
       "      <td>301.000000</td>\n",
       "      <td>301.000000</td>\n",
       "      <td>301.000000</td>\n",
       "    </tr>\n",
       "    <tr>\n",
       "      <th>mean</th>\n",
       "      <td>2013.627907</td>\n",
       "      <td>4.661296</td>\n",
       "      <td>7.628472</td>\n",
       "      <td>36947.205980</td>\n",
       "      <td>0.043189</td>\n",
       "    </tr>\n",
       "    <tr>\n",
       "      <th>std</th>\n",
       "      <td>2.891554</td>\n",
       "      <td>5.082812</td>\n",
       "      <td>8.644115</td>\n",
       "      <td>38886.883882</td>\n",
       "      <td>0.247915</td>\n",
       "    </tr>\n",
       "    <tr>\n",
       "      <th>min</th>\n",
       "      <td>2003.000000</td>\n",
       "      <td>0.100000</td>\n",
       "      <td>0.320000</td>\n",
       "      <td>500.000000</td>\n",
       "      <td>0.000000</td>\n",
       "    </tr>\n",
       "    <tr>\n",
       "      <th>25%</th>\n",
       "      <td>2012.000000</td>\n",
       "      <td>0.900000</td>\n",
       "      <td>1.200000</td>\n",
       "      <td>15000.000000</td>\n",
       "      <td>0.000000</td>\n",
       "    </tr>\n",
       "    <tr>\n",
       "      <th>50%</th>\n",
       "      <td>2014.000000</td>\n",
       "      <td>3.600000</td>\n",
       "      <td>6.400000</td>\n",
       "      <td>32000.000000</td>\n",
       "      <td>0.000000</td>\n",
       "    </tr>\n",
       "    <tr>\n",
       "      <th>75%</th>\n",
       "      <td>2016.000000</td>\n",
       "      <td>6.000000</td>\n",
       "      <td>9.900000</td>\n",
       "      <td>48767.000000</td>\n",
       "      <td>0.000000</td>\n",
       "    </tr>\n",
       "    <tr>\n",
       "      <th>max</th>\n",
       "      <td>2018.000000</td>\n",
       "      <td>35.000000</td>\n",
       "      <td>92.600000</td>\n",
       "      <td>500000.000000</td>\n",
       "      <td>3.000000</td>\n",
       "    </tr>\n",
       "  </tbody>\n",
       "</table>\n",
       "</div>"
      ],
      "text/plain": [
       "              Year  Selling_Price  Present_Price     Kms_Driven       Owner\n",
       "count   301.000000     301.000000     301.000000     301.000000  301.000000\n",
       "mean   2013.627907       4.661296       7.628472   36947.205980    0.043189\n",
       "std       2.891554       5.082812       8.644115   38886.883882    0.247915\n",
       "min    2003.000000       0.100000       0.320000     500.000000    0.000000\n",
       "25%    2012.000000       0.900000       1.200000   15000.000000    0.000000\n",
       "50%    2014.000000       3.600000       6.400000   32000.000000    0.000000\n",
       "75%    2016.000000       6.000000       9.900000   48767.000000    0.000000\n",
       "max    2018.000000      35.000000      92.600000  500000.000000    3.000000"
      ]
     },
     "execution_count": 6,
     "metadata": {},
     "output_type": "execute_result"
    }
   ],
   "source": [
    "df.describe()"
   ]
  },
  {
   "cell_type": "code",
   "execution_count": 7,
   "metadata": {
    "execution": {
     "iopub.execute_input": "2021-10-14T06:28:19.13174Z",
     "iopub.status.busy": "2021-10-14T06:28:19.131404Z",
     "iopub.status.idle": "2021-10-14T06:28:19.140124Z",
     "shell.execute_reply": "2021-10-14T06:28:19.139103Z",
     "shell.execute_reply.started": "2021-10-14T06:28:19.131707Z"
    }
   },
   "outputs": [
    {
     "data": {
      "text/plain": [
       "Car_Name         0\n",
       "Year             0\n",
       "Selling_Price    0\n",
       "Present_Price    0\n",
       "Kms_Driven       0\n",
       "Fuel_Type        0\n",
       "Seller_Type      0\n",
       "Transmission     0\n",
       "Owner            0\n",
       "dtype: int64"
      ]
     },
     "execution_count": 7,
     "metadata": {},
     "output_type": "execute_result"
    }
   ],
   "source": [
    "df.isna().sum()"
   ]
  },
  {
   "cell_type": "markdown",
   "metadata": {},
   "source": [
    "# Data Preprocessing"
   ]
  },
  {
   "cell_type": "code",
   "execution_count": 8,
   "metadata": {
    "execution": {
     "iopub.execute_input": "2021-10-14T06:28:19.142187Z",
     "iopub.status.busy": "2021-10-14T06:28:19.141845Z",
     "iopub.status.idle": "2021-10-14T06:28:19.150403Z",
     "shell.execute_reply": "2021-10-14T06:28:19.149313Z",
     "shell.execute_reply.started": "2021-10-14T06:28:19.142151Z"
    }
   },
   "outputs": [],
   "source": [
    "df['Age'] = 2021 - df['Year']\n",
    "df.drop('Year', axis=1, inplace=True)"
   ]
  },
  {
   "cell_type": "code",
   "execution_count": 9,
   "metadata": {
    "execution": {
     "iopub.execute_input": "2021-10-14T06:28:19.152343Z",
     "iopub.status.busy": "2021-10-14T06:28:19.151948Z",
     "iopub.status.idle": "2021-10-14T06:28:19.17039Z",
     "shell.execute_reply": "2021-10-14T06:28:19.169589Z",
     "shell.execute_reply.started": "2021-10-14T06:28:19.152306Z"
    }
   },
   "outputs": [
    {
     "data": {
      "text/html": [
       "<div>\n",
       "<style scoped>\n",
       "    .dataframe tbody tr th:only-of-type {\n",
       "        vertical-align: middle;\n",
       "    }\n",
       "\n",
       "    .dataframe tbody tr th {\n",
       "        vertical-align: top;\n",
       "    }\n",
       "\n",
       "    .dataframe thead th {\n",
       "        text-align: right;\n",
       "    }\n",
       "</style>\n",
       "<table border=\"1\" class=\"dataframe\">\n",
       "  <thead>\n",
       "    <tr style=\"text-align: right;\">\n",
       "      <th></th>\n",
       "      <th>Car_Name</th>\n",
       "      <th>Selling_Price</th>\n",
       "      <th>Present_Price</th>\n",
       "      <th>Kms_Driven</th>\n",
       "      <th>Fuel_Type</th>\n",
       "      <th>Seller_Type</th>\n",
       "      <th>Transmission</th>\n",
       "      <th>Owner</th>\n",
       "      <th>Age</th>\n",
       "    </tr>\n",
       "  </thead>\n",
       "  <tbody>\n",
       "    <tr>\n",
       "      <th>0</th>\n",
       "      <td>ritz</td>\n",
       "      <td>3.35</td>\n",
       "      <td>5.59</td>\n",
       "      <td>27000</td>\n",
       "      <td>Petrol</td>\n",
       "      <td>Dealer</td>\n",
       "      <td>Manual</td>\n",
       "      <td>0</td>\n",
       "      <td>7</td>\n",
       "    </tr>\n",
       "    <tr>\n",
       "      <th>1</th>\n",
       "      <td>sx4</td>\n",
       "      <td>4.75</td>\n",
       "      <td>9.54</td>\n",
       "      <td>43000</td>\n",
       "      <td>Diesel</td>\n",
       "      <td>Dealer</td>\n",
       "      <td>Manual</td>\n",
       "      <td>0</td>\n",
       "      <td>8</td>\n",
       "    </tr>\n",
       "    <tr>\n",
       "      <th>2</th>\n",
       "      <td>ciaz</td>\n",
       "      <td>7.25</td>\n",
       "      <td>9.85</td>\n",
       "      <td>6900</td>\n",
       "      <td>Petrol</td>\n",
       "      <td>Dealer</td>\n",
       "      <td>Manual</td>\n",
       "      <td>0</td>\n",
       "      <td>4</td>\n",
       "    </tr>\n",
       "    <tr>\n",
       "      <th>3</th>\n",
       "      <td>wagon r</td>\n",
       "      <td>2.85</td>\n",
       "      <td>4.15</td>\n",
       "      <td>5200</td>\n",
       "      <td>Petrol</td>\n",
       "      <td>Dealer</td>\n",
       "      <td>Manual</td>\n",
       "      <td>0</td>\n",
       "      <td>10</td>\n",
       "    </tr>\n",
       "    <tr>\n",
       "      <th>4</th>\n",
       "      <td>swift</td>\n",
       "      <td>4.60</td>\n",
       "      <td>6.87</td>\n",
       "      <td>42450</td>\n",
       "      <td>Diesel</td>\n",
       "      <td>Dealer</td>\n",
       "      <td>Manual</td>\n",
       "      <td>0</td>\n",
       "      <td>7</td>\n",
       "    </tr>\n",
       "  </tbody>\n",
       "</table>\n",
       "</div>"
      ],
      "text/plain": [
       "  Car_Name  Selling_Price  Present_Price  Kms_Driven Fuel_Type Seller_Type  \\\n",
       "0     ritz           3.35           5.59       27000    Petrol      Dealer   \n",
       "1      sx4           4.75           9.54       43000    Diesel      Dealer   \n",
       "2     ciaz           7.25           9.85        6900    Petrol      Dealer   \n",
       "3  wagon r           2.85           4.15        5200    Petrol      Dealer   \n",
       "4    swift           4.60           6.87       42450    Diesel      Dealer   \n",
       "\n",
       "  Transmission  Owner  Age  \n",
       "0       Manual      0    7  \n",
       "1       Manual      0    8  \n",
       "2       Manual      0    4  \n",
       "3       Manual      0   10  \n",
       "4       Manual      0    7  "
      ]
     },
     "execution_count": 9,
     "metadata": {},
     "output_type": "execute_result"
    }
   ],
   "source": [
    "df.head()"
   ]
  },
  {
   "cell_type": "code",
   "execution_count": 10,
   "metadata": {
    "execution": {
     "iopub.execute_input": "2021-10-14T06:28:19.172156Z",
     "iopub.status.busy": "2021-10-14T06:28:19.171883Z",
     "iopub.status.idle": "2021-10-14T06:28:19.178329Z",
     "shell.execute_reply": "2021-10-14T06:28:19.17751Z",
     "shell.execute_reply.started": "2021-10-14T06:28:19.172124Z"
    }
   },
   "outputs": [],
   "source": [
    "df.rename(columns = {'Selling_Price':'Selling_Price(lacs)', 'Present_Price':'Present_Price(lacs)', 'Owner':'Past_Owners'}, inplace=True)"
   ]
  },
  {
   "cell_type": "code",
   "execution_count": 11,
   "metadata": {
    "execution": {
     "iopub.execute_input": "2021-10-14T06:28:19.212107Z",
     "iopub.status.busy": "2021-10-14T06:28:19.211905Z",
     "iopub.status.idle": "2021-10-14T06:28:19.230114Z",
     "shell.execute_reply": "2021-10-14T06:28:19.229446Z",
     "shell.execute_reply.started": "2021-10-14T06:28:19.212085Z"
    }
   },
   "outputs": [
    {
     "data": {
      "text/html": [
       "<div>\n",
       "<style scoped>\n",
       "    .dataframe tbody tr th:only-of-type {\n",
       "        vertical-align: middle;\n",
       "    }\n",
       "\n",
       "    .dataframe tbody tr th {\n",
       "        vertical-align: top;\n",
       "    }\n",
       "\n",
       "    .dataframe thead th {\n",
       "        text-align: right;\n",
       "    }\n",
       "</style>\n",
       "<table border=\"1\" class=\"dataframe\">\n",
       "  <thead>\n",
       "    <tr style=\"text-align: right;\">\n",
       "      <th></th>\n",
       "      <th>Car_Name</th>\n",
       "      <th>Selling_Price(lacs)</th>\n",
       "      <th>Present_Price(lacs)</th>\n",
       "      <th>Kms_Driven</th>\n",
       "      <th>Fuel_Type</th>\n",
       "      <th>Seller_Type</th>\n",
       "      <th>Transmission</th>\n",
       "      <th>Past_Owners</th>\n",
       "      <th>Age</th>\n",
       "    </tr>\n",
       "  </thead>\n",
       "  <tbody>\n",
       "    <tr>\n",
       "      <th>0</th>\n",
       "      <td>ritz</td>\n",
       "      <td>3.35</td>\n",
       "      <td>5.59</td>\n",
       "      <td>27000</td>\n",
       "      <td>Petrol</td>\n",
       "      <td>Dealer</td>\n",
       "      <td>Manual</td>\n",
       "      <td>0</td>\n",
       "      <td>7</td>\n",
       "    </tr>\n",
       "    <tr>\n",
       "      <th>1</th>\n",
       "      <td>sx4</td>\n",
       "      <td>4.75</td>\n",
       "      <td>9.54</td>\n",
       "      <td>43000</td>\n",
       "      <td>Diesel</td>\n",
       "      <td>Dealer</td>\n",
       "      <td>Manual</td>\n",
       "      <td>0</td>\n",
       "      <td>8</td>\n",
       "    </tr>\n",
       "    <tr>\n",
       "      <th>2</th>\n",
       "      <td>ciaz</td>\n",
       "      <td>7.25</td>\n",
       "      <td>9.85</td>\n",
       "      <td>6900</td>\n",
       "      <td>Petrol</td>\n",
       "      <td>Dealer</td>\n",
       "      <td>Manual</td>\n",
       "      <td>0</td>\n",
       "      <td>4</td>\n",
       "    </tr>\n",
       "    <tr>\n",
       "      <th>3</th>\n",
       "      <td>wagon r</td>\n",
       "      <td>2.85</td>\n",
       "      <td>4.15</td>\n",
       "      <td>5200</td>\n",
       "      <td>Petrol</td>\n",
       "      <td>Dealer</td>\n",
       "      <td>Manual</td>\n",
       "      <td>0</td>\n",
       "      <td>10</td>\n",
       "    </tr>\n",
       "    <tr>\n",
       "      <th>4</th>\n",
       "      <td>swift</td>\n",
       "      <td>4.60</td>\n",
       "      <td>6.87</td>\n",
       "      <td>42450</td>\n",
       "      <td>Diesel</td>\n",
       "      <td>Dealer</td>\n",
       "      <td>Manual</td>\n",
       "      <td>0</td>\n",
       "      <td>7</td>\n",
       "    </tr>\n",
       "  </tbody>\n",
       "</table>\n",
       "</div>"
      ],
      "text/plain": [
       "  Car_Name  Selling_Price(lacs)  Present_Price(lacs)  Kms_Driven Fuel_Type  \\\n",
       "0     ritz                 3.35                 5.59       27000    Petrol   \n",
       "1      sx4                 4.75                 9.54       43000    Diesel   \n",
       "2     ciaz                 7.25                 9.85        6900    Petrol   \n",
       "3  wagon r                 2.85                 4.15        5200    Petrol   \n",
       "4    swift                 4.60                 6.87       42450    Diesel   \n",
       "\n",
       "  Seller_Type Transmission  Past_Owners  Age  \n",
       "0      Dealer       Manual            0    7  \n",
       "1      Dealer       Manual            0    8  \n",
       "2      Dealer       Manual            0    4  \n",
       "3      Dealer       Manual            0   10  \n",
       "4      Dealer       Manual            0    7  "
      ]
     },
     "execution_count": 11,
     "metadata": {},
     "output_type": "execute_result"
    }
   ],
   "source": [
    "df.head()"
   ]
  },
  {
   "cell_type": "code",
   "execution_count": 12,
   "metadata": {
    "execution": {
     "iopub.execute_input": "2021-10-14T06:28:19.233596Z",
     "iopub.status.busy": "2021-10-14T06:28:19.233377Z",
     "iopub.status.idle": "2021-10-14T06:28:19.241003Z",
     "shell.execute_reply": "2021-10-14T06:28:19.240311Z",
     "shell.execute_reply.started": "2021-10-14T06:28:19.233574Z"
    }
   },
   "outputs": [
    {
     "data": {
      "text/plain": [
       "Index(['Car_Name', 'Selling_Price(lacs)', 'Present_Price(lacs)', 'Kms_Driven',\n",
       "       'Fuel_Type', 'Seller_Type', 'Transmission', 'Past_Owners', 'Age'],\n",
       "      dtype='object')"
      ]
     },
     "execution_count": 12,
     "metadata": {},
     "output_type": "execute_result"
    }
   ],
   "source": [
    "df.columns"
   ]
  },
  {
   "cell_type": "markdown",
   "metadata": {},
   "source": [
    "# Visualizing the data"
   ]
  },
  {
   "cell_type": "code",
   "execution_count": 13,
   "metadata": {
    "execution": {
     "iopub.execute_input": "2021-10-14T06:28:19.24254Z",
     "iopub.status.busy": "2021-10-14T06:28:19.242035Z",
     "iopub.status.idle": "2021-10-14T06:28:19.808232Z",
     "shell.execute_reply": "2021-10-14T06:28:19.807286Z",
     "shell.execute_reply.started": "2021-10-14T06:28:19.242506Z"
    }
   },
   "outputs": [
    {
     "data": {
      "image/png": "[encoded data removed]",
      "text/plain": [
       "<Figure size 720x288 with 2 Axes>"
      ]
     },
     "metadata": {},
     "output_type": "display_data"
    },
    {
     "data": {
      "image/png": "[encoded data removed]",
      "text/plain": [
       "<Figure size 720x288 with 2 Axes>"
      ]
     },
     "metadata": {},
     "output_type": "display_data"
    }
   ],
   "source": [
    "cat_cols = ['Fuel_Type', 'Seller_Type', 'Transmission', 'Past_Owners']\n",
    "i = 0\n",
    "while i < 4:\n",
    "    fig = plt.figure(figsize=[10,4])\n",
    "    \n",
    "    plt.subplot(1,2,1)\n",
    "    sns.countplot(x=cat_cols[i], data=df)\n",
    "    i +=1\n",
    "    \n",
    "    plt.subplot(1,2,2)\n",
    "    sns.countplot(x=cat_cols[i], data=df)\n",
    "    i += 1\n",
    "    \n",
    "    plt.show()"
   ]
  },
  {
   "cell_type": "code",
   "execution_count": 14,
   "metadata": {
    "execution": {
     "iopub.execute_input": "2021-10-14T06:28:19.80984Z",
     "iopub.status.busy": "2021-10-14T06:28:19.809531Z",
     "iopub.status.idle": "2021-10-14T06:28:19.842256Z",
     "shell.execute_reply": "2021-10-14T06:28:19.839029Z",
     "shell.execute_reply.started": "2021-10-14T06:28:19.809798Z"
    }
   },
   "outputs": [
    {
     "data": {
      "text/html": [
       "<div>\n",
       "<style scoped>\n",
       "    .dataframe tbody tr th:only-of-type {\n",
       "        vertical-align: middle;\n",
       "    }\n",
       "\n",
       "    .dataframe tbody tr th {\n",
       "        vertical-align: top;\n",
       "    }\n",
       "\n",
       "    .dataframe thead th {\n",
       "        text-align: right;\n",
       "    }\n",
       "</style>\n",
       "<table border=\"1\" class=\"dataframe\">\n",
       "  <thead>\n",
       "    <tr style=\"text-align: right;\">\n",
       "      <th></th>\n",
       "      <th>Car_Name</th>\n",
       "      <th>Selling_Price(lacs)</th>\n",
       "      <th>Present_Price(lacs)</th>\n",
       "      <th>Kms_Driven</th>\n",
       "      <th>Fuel_Type</th>\n",
       "      <th>Seller_Type</th>\n",
       "      <th>Transmission</th>\n",
       "      <th>Past_Owners</th>\n",
       "      <th>Age</th>\n",
       "    </tr>\n",
       "  </thead>\n",
       "  <tbody>\n",
       "    <tr>\n",
       "      <th>64</th>\n",
       "      <td>fortuner</td>\n",
       "      <td>33.0</td>\n",
       "      <td>36.23</td>\n",
       "      <td>6000</td>\n",
       "      <td>Diesel</td>\n",
       "      <td>Dealer</td>\n",
       "      <td>Automatic</td>\n",
       "      <td>0</td>\n",
       "      <td>4</td>\n",
       "    </tr>\n",
       "    <tr>\n",
       "      <th>86</th>\n",
       "      <td>land cruiser</td>\n",
       "      <td>35.0</td>\n",
       "      <td>92.60</td>\n",
       "      <td>78000</td>\n",
       "      <td>Diesel</td>\n",
       "      <td>Dealer</td>\n",
       "      <td>Manual</td>\n",
       "      <td>0</td>\n",
       "      <td>11</td>\n",
       "    </tr>\n",
       "  </tbody>\n",
       "</table>\n",
       "</div>"
      ],
      "text/plain": [
       "        Car_Name  Selling_Price(lacs)  Present_Price(lacs)  Kms_Driven  \\\n",
       "64      fortuner                 33.0                36.23        6000   \n",
       "86  land cruiser                 35.0                92.60       78000   \n",
       "\n",
       "   Fuel_Type Seller_Type Transmission  Past_Owners  Age  \n",
       "64    Diesel      Dealer    Automatic            0    4  \n",
       "86    Diesel      Dealer       Manual            0   11  "
      ]
     },
     "execution_count": 14,
     "metadata": {},
     "output_type": "execute_result"
    }
   ],
   "source": [
    "df[df['Present_Price(lacs)']>df['Present_Price(lacs)'].quantile(0.99)]"
   ]
  },
  {
   "cell_type": "code",
   "execution_count": 15,
   "metadata": {
    "execution": {
     "iopub.execute_input": "2021-10-14T06:28:19.848771Z",
     "iopub.status.busy": "2021-10-14T06:28:19.848376Z",
     "iopub.status.idle": "2021-10-14T06:28:19.874908Z",
     "shell.execute_reply": "2021-10-14T06:28:19.874181Z",
     "shell.execute_reply.started": "2021-10-14T06:28:19.848736Z"
    }
   },
   "outputs": [
    {
     "data": {
      "text/html": [
       "<div>\n",
       "<style scoped>\n",
       "    .dataframe tbody tr th:only-of-type {\n",
       "        vertical-align: middle;\n",
       "    }\n",
       "\n",
       "    .dataframe tbody tr th {\n",
       "        vertical-align: top;\n",
       "    }\n",
       "\n",
       "    .dataframe thead th {\n",
       "        text-align: right;\n",
       "    }\n",
       "</style>\n",
       "<table border=\"1\" class=\"dataframe\">\n",
       "  <thead>\n",
       "    <tr style=\"text-align: right;\">\n",
       "      <th></th>\n",
       "      <th>Car_Name</th>\n",
       "      <th>Selling_Price(lacs)</th>\n",
       "      <th>Present_Price(lacs)</th>\n",
       "      <th>Kms_Driven</th>\n",
       "      <th>Fuel_Type</th>\n",
       "      <th>Seller_Type</th>\n",
       "      <th>Transmission</th>\n",
       "      <th>Past_Owners</th>\n",
       "      <th>Age</th>\n",
       "    </tr>\n",
       "  </thead>\n",
       "  <tbody>\n",
       "    <tr>\n",
       "      <th>63</th>\n",
       "      <td>fortuner</td>\n",
       "      <td>23.5</td>\n",
       "      <td>35.96</td>\n",
       "      <td>47000</td>\n",
       "      <td>Diesel</td>\n",
       "      <td>Dealer</td>\n",
       "      <td>Automatic</td>\n",
       "      <td>0</td>\n",
       "      <td>6</td>\n",
       "    </tr>\n",
       "    <tr>\n",
       "      <th>64</th>\n",
       "      <td>fortuner</td>\n",
       "      <td>33.0</td>\n",
       "      <td>36.23</td>\n",
       "      <td>6000</td>\n",
       "      <td>Diesel</td>\n",
       "      <td>Dealer</td>\n",
       "      <td>Automatic</td>\n",
       "      <td>0</td>\n",
       "      <td>4</td>\n",
       "    </tr>\n",
       "    <tr>\n",
       "      <th>86</th>\n",
       "      <td>land cruiser</td>\n",
       "      <td>35.0</td>\n",
       "      <td>92.60</td>\n",
       "      <td>78000</td>\n",
       "      <td>Diesel</td>\n",
       "      <td>Dealer</td>\n",
       "      <td>Manual</td>\n",
       "      <td>0</td>\n",
       "      <td>11</td>\n",
       "    </tr>\n",
       "  </tbody>\n",
       "</table>\n",
       "</div>"
      ],
      "text/plain": [
       "        Car_Name  Selling_Price(lacs)  Present_Price(lacs)  Kms_Driven  \\\n",
       "63      fortuner                 23.5                35.96       47000   \n",
       "64      fortuner                 33.0                36.23        6000   \n",
       "86  land cruiser                 35.0                92.60       78000   \n",
       "\n",
       "   Fuel_Type Seller_Type Transmission  Past_Owners  Age  \n",
       "63    Diesel      Dealer    Automatic            0    6  \n",
       "64    Diesel      Dealer    Automatic            0    4  \n",
       "86    Diesel      Dealer       Manual            0   11  "
      ]
     },
     "execution_count": 15,
     "metadata": {},
     "output_type": "execute_result"
    }
   ],
   "source": [
    "df[df['Selling_Price(lacs)'] > df['Selling_Price(lacs)'].quantile(0.99)]"
   ]
  },
  {
   "cell_type": "code",
   "execution_count": 16,
   "metadata": {
    "execution": {
     "iopub.execute_input": "2021-10-14T06:28:19.880495Z",
     "iopub.status.busy": "2021-10-14T06:28:19.878649Z",
     "iopub.status.idle": "2021-10-14T06:28:19.903765Z",
     "shell.execute_reply": "2021-10-14T06:28:19.902953Z",
     "shell.execute_reply.started": "2021-10-14T06:28:19.878991Z"
    }
   },
   "outputs": [
    {
     "data": {
      "text/html": [
       "<div>\n",
       "<style scoped>\n",
       "    .dataframe tbody tr th:only-of-type {\n",
       "        vertical-align: middle;\n",
       "    }\n",
       "\n",
       "    .dataframe tbody tr th {\n",
       "        vertical-align: top;\n",
       "    }\n",
       "\n",
       "    .dataframe thead th {\n",
       "        text-align: right;\n",
       "    }\n",
       "</style>\n",
       "<table border=\"1\" class=\"dataframe\">\n",
       "  <thead>\n",
       "    <tr style=\"text-align: right;\">\n",
       "      <th></th>\n",
       "      <th>Car_Name</th>\n",
       "      <th>Selling_Price(lacs)</th>\n",
       "      <th>Present_Price(lacs)</th>\n",
       "      <th>Kms_Driven</th>\n",
       "      <th>Fuel_Type</th>\n",
       "      <th>Seller_Type</th>\n",
       "      <th>Transmission</th>\n",
       "      <th>Past_Owners</th>\n",
       "      <th>Age</th>\n",
       "    </tr>\n",
       "  </thead>\n",
       "  <tbody>\n",
       "    <tr>\n",
       "      <th>84</th>\n",
       "      <td>innova</td>\n",
       "      <td>3.49</td>\n",
       "      <td>13.46</td>\n",
       "      <td>197176</td>\n",
       "      <td>Diesel</td>\n",
       "      <td>Dealer</td>\n",
       "      <td>Manual</td>\n",
       "      <td>0</td>\n",
       "      <td>16</td>\n",
       "    </tr>\n",
       "    <tr>\n",
       "      <th>179</th>\n",
       "      <td>Honda Karizma</td>\n",
       "      <td>0.31</td>\n",
       "      <td>1.05</td>\n",
       "      <td>213000</td>\n",
       "      <td>Petrol</td>\n",
       "      <td>Individual</td>\n",
       "      <td>Manual</td>\n",
       "      <td>0</td>\n",
       "      <td>11</td>\n",
       "    </tr>\n",
       "    <tr>\n",
       "      <th>196</th>\n",
       "      <td>Activa 3g</td>\n",
       "      <td>0.17</td>\n",
       "      <td>0.52</td>\n",
       "      <td>500000</td>\n",
       "      <td>Petrol</td>\n",
       "      <td>Individual</td>\n",
       "      <td>Automatic</td>\n",
       "      <td>0</td>\n",
       "      <td>13</td>\n",
       "    </tr>\n",
       "  </tbody>\n",
       "</table>\n",
       "</div>"
      ],
      "text/plain": [
       "          Car_Name  Selling_Price(lacs)  Present_Price(lacs)  Kms_Driven  \\\n",
       "84          innova                 3.49                13.46      197176   \n",
       "179  Honda Karizma                 0.31                 1.05      213000   \n",
       "196      Activa 3g                 0.17                 0.52      500000   \n",
       "\n",
       "    Fuel_Type Seller_Type Transmission  Past_Owners  Age  \n",
       "84     Diesel      Dealer       Manual            0   16  \n",
       "179    Petrol  Individual       Manual            0   11  \n",
       "196    Petrol  Individual    Automatic            0   13  "
      ]
     },
     "execution_count": 16,
     "metadata": {},
     "output_type": "execute_result"
    }
   ],
   "source": [
    "df[df['Kms_Driven'] > df['Kms_Driven'].quantile(0.99)]"
   ]
  },
  {
   "cell_type": "code",
   "execution_count": 17,
   "metadata": {
    "execution": {
     "iopub.execute_input": "2021-10-14T06:28:19.909097Z",
     "iopub.status.busy": "2021-10-14T06:28:19.907298Z",
     "iopub.status.idle": "2021-10-14T06:28:20.324282Z",
     "shell.execute_reply": "2021-10-14T06:28:20.323577Z",
     "shell.execute_reply.started": "2021-10-14T06:28:19.907633Z"
    }
   },
   "outputs": [
    {
     "data": {
      "image/png": "[encoded data removed]",
      "text/plain": [
       "<Figure size 576x396 with 2 Axes>"
      ]
     },
     "metadata": {},
     "output_type": "display_data"
    }
   ],
   "source": [
    "sns.heatmap(df.corr(), annot = True, cmap='RdBu')\n",
    "plt.show()"
   ]
  },
  {
   "cell_type": "code",
   "execution_count": 18,
   "metadata": {
    "execution": {
     "iopub.execute_input": "2021-10-14T06:28:20.325647Z",
     "iopub.status.busy": "2021-10-14T06:28:20.325386Z",
     "iopub.status.idle": "2021-10-14T06:28:20.335574Z",
     "shell.execute_reply": "2021-10-14T06:28:20.334546Z",
     "shell.execute_reply.started": "2021-10-14T06:28:20.325611Z"
    }
   },
   "outputs": [
    {
     "data": {
      "text/plain": [
       "Selling_Price(lacs)    1.000000\n",
       "Present_Price(lacs)    0.878983\n",
       "Kms_Driven             0.029187\n",
       "Past_Owners           -0.088344\n",
       "Age                   -0.236141\n",
       "Name: Selling_Price(lacs), dtype: float64"
      ]
     },
     "execution_count": 18,
     "metadata": {},
     "output_type": "execute_result"
    }
   ],
   "source": [
    "df.corr()['Selling_Price(lacs)']"
   ]
  },
  {
   "cell_type": "code",
   "execution_count": 19,
   "metadata": {
    "execution": {
     "iopub.execute_input": "2021-10-14T06:28:20.337571Z",
     "iopub.status.busy": "2021-10-14T06:28:20.337063Z",
     "iopub.status.idle": "2021-10-14T06:28:20.359827Z",
     "shell.execute_reply": "2021-10-14T06:28:20.358923Z",
     "shell.execute_reply.started": "2021-10-14T06:28:20.337455Z"
    }
   },
   "outputs": [
    {
     "data": {
      "text/html": [
       "<div>\n",
       "<style scoped>\n",
       "    .dataframe tbody tr th:only-of-type {\n",
       "        vertical-align: middle;\n",
       "    }\n",
       "\n",
       "    .dataframe tbody tr th {\n",
       "        vertical-align: top;\n",
       "    }\n",
       "\n",
       "    .dataframe thead th {\n",
       "        text-align: right;\n",
       "    }\n",
       "</style>\n",
       "<table border=\"1\" class=\"dataframe\">\n",
       "  <thead>\n",
       "    <tr style=\"text-align: right;\">\n",
       "      <th>Fuel_Type</th>\n",
       "      <th>CNG</th>\n",
       "      <th>Diesel</th>\n",
       "      <th>Petrol</th>\n",
       "    </tr>\n",
       "    <tr>\n",
       "      <th>Seller_Type</th>\n",
       "      <th></th>\n",
       "      <th></th>\n",
       "      <th></th>\n",
       "    </tr>\n",
       "  </thead>\n",
       "  <tbody>\n",
       "    <tr>\n",
       "      <th>Dealer</th>\n",
       "      <td>3.1</td>\n",
       "      <td>10.181525</td>\n",
       "      <td>5.252388</td>\n",
       "    </tr>\n",
       "    <tr>\n",
       "      <th>Individual</th>\n",
       "      <td>NaN</td>\n",
       "      <td>16.000000</td>\n",
       "      <td>0.726857</td>\n",
       "    </tr>\n",
       "  </tbody>\n",
       "</table>\n",
       "</div>"
      ],
      "text/plain": [
       "Fuel_Type    CNG     Diesel    Petrol\n",
       "Seller_Type                          \n",
       "Dealer       3.1  10.181525  5.252388\n",
       "Individual   NaN  16.000000  0.726857"
      ]
     },
     "execution_count": 19,
     "metadata": {},
     "output_type": "execute_result"
    }
   ],
   "source": [
    "df.pivot_table(values='Selling_Price(lacs)', index = 'Seller_Type', columns='Fuel_Type')"
   ]
  },
  {
   "cell_type": "code",
   "execution_count": 20,
   "metadata": {
    "execution": {
     "iopub.execute_input": "2021-10-14T06:28:20.361802Z",
     "iopub.status.busy": "2021-10-14T06:28:20.361411Z",
     "iopub.status.idle": "2021-10-14T06:28:20.366562Z",
     "shell.execute_reply": "2021-10-14T06:28:20.365859Z",
     "shell.execute_reply.started": "2021-10-14T06:28:20.361771Z"
    }
   },
   "outputs": [],
   "source": [
    "# Creating dummies for categorical values\n",
    "df.drop(labels='Car_Name', axis=1, inplace = True)\n"
   ]
  },
  {
   "cell_type": "code",
   "execution_count": 21,
   "metadata": {
    "execution": {
     "iopub.execute_input": "2021-10-14T06:28:20.368617Z",
     "iopub.status.busy": "2021-10-14T06:28:20.368087Z",
     "iopub.status.idle": "2021-10-14T06:28:20.386619Z",
     "shell.execute_reply": "2021-10-14T06:28:20.385708Z",
     "shell.execute_reply.started": "2021-10-14T06:28:20.36858Z"
    }
   },
   "outputs": [
    {
     "data": {
      "text/html": [
       "<div>\n",
       "<style scoped>\n",
       "    .dataframe tbody tr th:only-of-type {\n",
       "        vertical-align: middle;\n",
       "    }\n",
       "\n",
       "    .dataframe tbody tr th {\n",
       "        vertical-align: top;\n",
       "    }\n",
       "\n",
       "    .dataframe thead th {\n",
       "        text-align: right;\n",
       "    }\n",
       "</style>\n",
       "<table border=\"1\" class=\"dataframe\">\n",
       "  <thead>\n",
       "    <tr style=\"text-align: right;\">\n",
       "      <th></th>\n",
       "      <th>Selling_Price(lacs)</th>\n",
       "      <th>Present_Price(lacs)</th>\n",
       "      <th>Kms_Driven</th>\n",
       "      <th>Fuel_Type</th>\n",
       "      <th>Seller_Type</th>\n",
       "      <th>Transmission</th>\n",
       "      <th>Past_Owners</th>\n",
       "      <th>Age</th>\n",
       "    </tr>\n",
       "  </thead>\n",
       "  <tbody>\n",
       "    <tr>\n",
       "      <th>0</th>\n",
       "      <td>3.35</td>\n",
       "      <td>5.59</td>\n",
       "      <td>27000</td>\n",
       "      <td>Petrol</td>\n",
       "      <td>Dealer</td>\n",
       "      <td>Manual</td>\n",
       "      <td>0</td>\n",
       "      <td>7</td>\n",
       "    </tr>\n",
       "    <tr>\n",
       "      <th>1</th>\n",
       "      <td>4.75</td>\n",
       "      <td>9.54</td>\n",
       "      <td>43000</td>\n",
       "      <td>Diesel</td>\n",
       "      <td>Dealer</td>\n",
       "      <td>Manual</td>\n",
       "      <td>0</td>\n",
       "      <td>8</td>\n",
       "    </tr>\n",
       "    <tr>\n",
       "      <th>2</th>\n",
       "      <td>7.25</td>\n",
       "      <td>9.85</td>\n",
       "      <td>6900</td>\n",
       "      <td>Petrol</td>\n",
       "      <td>Dealer</td>\n",
       "      <td>Manual</td>\n",
       "      <td>0</td>\n",
       "      <td>4</td>\n",
       "    </tr>\n",
       "    <tr>\n",
       "      <th>3</th>\n",
       "      <td>2.85</td>\n",
       "      <td>4.15</td>\n",
       "      <td>5200</td>\n",
       "      <td>Petrol</td>\n",
       "      <td>Dealer</td>\n",
       "      <td>Manual</td>\n",
       "      <td>0</td>\n",
       "      <td>10</td>\n",
       "    </tr>\n",
       "    <tr>\n",
       "      <th>4</th>\n",
       "      <td>4.60</td>\n",
       "      <td>6.87</td>\n",
       "      <td>42450</td>\n",
       "      <td>Diesel</td>\n",
       "      <td>Dealer</td>\n",
       "      <td>Manual</td>\n",
       "      <td>0</td>\n",
       "      <td>7</td>\n",
       "    </tr>\n",
       "  </tbody>\n",
       "</table>\n",
       "</div>"
      ],
      "text/plain": [
       "   Selling_Price(lacs)  Present_Price(lacs)  Kms_Driven Fuel_Type Seller_Type  \\\n",
       "0                 3.35                 5.59       27000    Petrol      Dealer   \n",
       "1                 4.75                 9.54       43000    Diesel      Dealer   \n",
       "2                 7.25                 9.85        6900    Petrol      Dealer   \n",
       "3                 2.85                 4.15        5200    Petrol      Dealer   \n",
       "4                 4.60                 6.87       42450    Diesel      Dealer   \n",
       "\n",
       "  Transmission  Past_Owners  Age  \n",
       "0       Manual            0    7  \n",
       "1       Manual            0    8  \n",
       "2       Manual            0    4  \n",
       "3       Manual            0   10  \n",
       "4       Manual            0    7  "
      ]
     },
     "execution_count": 21,
     "metadata": {},
     "output_type": "execute_result"
    }
   ],
   "source": [
    "df.head()"
   ]
  },
  {
   "cell_type": "code",
   "execution_count": 22,
   "metadata": {
    "execution": {
     "iopub.execute_input": "2021-10-14T06:28:20.388977Z",
     "iopub.status.busy": "2021-10-14T06:28:20.388516Z",
     "iopub.status.idle": "2021-10-14T06:28:20.402257Z",
     "shell.execute_reply": "2021-10-14T06:28:20.401558Z",
     "shell.execute_reply.started": "2021-10-14T06:28:20.388941Z"
    }
   },
   "outputs": [],
   "source": [
    "df = pd.get_dummies(data=df, drop_first=True)"
   ]
  },
  {
   "cell_type": "code",
   "execution_count": 23,
   "metadata": {
    "execution": {
     "iopub.execute_input": "2021-10-14T06:28:20.403807Z",
     "iopub.status.busy": "2021-10-14T06:28:20.403437Z",
     "iopub.status.idle": "2021-10-14T06:28:20.417737Z",
     "shell.execute_reply": "2021-10-14T06:28:20.416663Z",
     "shell.execute_reply.started": "2021-10-14T06:28:20.403762Z"
    }
   },
   "outputs": [
    {
     "data": {
      "text/html": [
       "<div>\n",
       "<style scoped>\n",
       "    .dataframe tbody tr th:only-of-type {\n",
       "        vertical-align: middle;\n",
       "    }\n",
       "\n",
       "    .dataframe tbody tr th {\n",
       "        vertical-align: top;\n",
       "    }\n",
       "\n",
       "    .dataframe thead th {\n",
       "        text-align: right;\n",
       "    }\n",
       "</style>\n",
       "<table border=\"1\" class=\"dataframe\">\n",
       "  <thead>\n",
       "    <tr style=\"text-align: right;\">\n",
       "      <th></th>\n",
       "      <th>Selling_Price(lacs)</th>\n",
       "      <th>Present_Price(lacs)</th>\n",
       "      <th>Kms_Driven</th>\n",
       "      <th>Past_Owners</th>\n",
       "      <th>Age</th>\n",
       "      <th>Fuel_Type_Diesel</th>\n",
       "      <th>Fuel_Type_Petrol</th>\n",
       "      <th>Seller_Type_Individual</th>\n",
       "      <th>Transmission_Manual</th>\n",
       "    </tr>\n",
       "  </thead>\n",
       "  <tbody>\n",
       "    <tr>\n",
       "      <th>0</th>\n",
       "      <td>3.35</td>\n",
       "      <td>5.59</td>\n",
       "      <td>27000</td>\n",
       "      <td>0</td>\n",
       "      <td>7</td>\n",
       "      <td>0</td>\n",
       "      <td>1</td>\n",
       "      <td>0</td>\n",
       "      <td>1</td>\n",
       "    </tr>\n",
       "    <tr>\n",
       "      <th>1</th>\n",
       "      <td>4.75</td>\n",
       "      <td>9.54</td>\n",
       "      <td>43000</td>\n",
       "      <td>0</td>\n",
       "      <td>8</td>\n",
       "      <td>1</td>\n",
       "      <td>0</td>\n",
       "      <td>0</td>\n",
       "      <td>1</td>\n",
       "    </tr>\n",
       "    <tr>\n",
       "      <th>2</th>\n",
       "      <td>7.25</td>\n",
       "      <td>9.85</td>\n",
       "      <td>6900</td>\n",
       "      <td>0</td>\n",
       "      <td>4</td>\n",
       "      <td>0</td>\n",
       "      <td>1</td>\n",
       "      <td>0</td>\n",
       "      <td>1</td>\n",
       "    </tr>\n",
       "    <tr>\n",
       "      <th>3</th>\n",
       "      <td>2.85</td>\n",
       "      <td>4.15</td>\n",
       "      <td>5200</td>\n",
       "      <td>0</td>\n",
       "      <td>10</td>\n",
       "      <td>0</td>\n",
       "      <td>1</td>\n",
       "      <td>0</td>\n",
       "      <td>1</td>\n",
       "    </tr>\n",
       "    <tr>\n",
       "      <th>4</th>\n",
       "      <td>4.60</td>\n",
       "      <td>6.87</td>\n",
       "      <td>42450</td>\n",
       "      <td>0</td>\n",
       "      <td>7</td>\n",
       "      <td>1</td>\n",
       "      <td>0</td>\n",
       "      <td>0</td>\n",
       "      <td>1</td>\n",
       "    </tr>\n",
       "  </tbody>\n",
       "</table>\n",
       "</div>"
      ],
      "text/plain": [
       "   Selling_Price(lacs)  Present_Price(lacs)  Kms_Driven  Past_Owners  Age  \\\n",
       "0                 3.35                 5.59       27000            0    7   \n",
       "1                 4.75                 9.54       43000            0    8   \n",
       "2                 7.25                 9.85        6900            0    4   \n",
       "3                 2.85                 4.15        5200            0   10   \n",
       "4                 4.60                 6.87       42450            0    7   \n",
       "\n",
       "   Fuel_Type_Diesel  Fuel_Type_Petrol  Seller_Type_Individual  \\\n",
       "0                 0                 1                       0   \n",
       "1                 1                 0                       0   \n",
       "2                 0                 1                       0   \n",
       "3                 0                 1                       0   \n",
       "4                 1                 0                       0   \n",
       "\n",
       "   Transmission_Manual  \n",
       "0                    1  \n",
       "1                    1  \n",
       "2                    1  \n",
       "3                    1  \n",
       "4                    1  "
      ]
     },
     "execution_count": 23,
     "metadata": {},
     "output_type": "execute_result"
    }
   ],
   "source": [
    "df.head()"
   ]
  },
  {
   "cell_type": "markdown",
   "metadata": {},
   "source": [
    "# Train - Test - Split "
   ]
  },
  {
   "cell_type": "code",
   "execution_count": 24,
   "metadata": {
    "execution": {
     "iopub.execute_input": "2021-10-14T06:28:20.422111Z",
     "iopub.status.busy": "2021-10-14T06:28:20.421769Z",
     "iopub.status.idle": "2021-10-14T06:28:20.42948Z",
     "shell.execute_reply": "2021-10-14T06:28:20.428451Z",
     "shell.execute_reply.started": "2021-10-14T06:28:20.422075Z"
    }
   },
   "outputs": [],
   "source": [
    "# Train Test Split\n",
    "X = df.iloc[:,1:].values\n",
    "y = df.iloc[:,:1].values"
   ]
  },
  {
   "cell_type": "code",
   "execution_count": 25,
   "metadata": {
    "execution": {
     "iopub.execute_input": "2021-10-14T06:28:20.431812Z",
     "iopub.status.busy": "2021-10-14T06:28:20.431407Z",
     "iopub.status.idle": "2021-10-14T06:28:20.437953Z",
     "shell.execute_reply": "2021-10-14T06:28:20.436907Z",
     "shell.execute_reply.started": "2021-10-14T06:28:20.431719Z"
    }
   },
   "outputs": [
    {
     "name": "stdout",
     "output_type": "stream",
     "text": [
      "[[5.5900e+00 2.7000e+04 0.0000e+00 ... 1.0000e+00 0.0000e+00 1.0000e+00]\n",
      " [9.5400e+00 4.3000e+04 0.0000e+00 ... 0.0000e+00 0.0000e+00 1.0000e+00]\n",
      " [9.8500e+00 6.9000e+03 0.0000e+00 ... 1.0000e+00 0.0000e+00 1.0000e+00]\n",
      " ...\n",
      " [1.1000e+01 8.7934e+04 0.0000e+00 ... 1.0000e+00 0.0000e+00 1.0000e+00]\n",
      " [1.2500e+01 9.0000e+03 0.0000e+00 ... 0.0000e+00 0.0000e+00 1.0000e+00]\n",
      " [5.9000e+00 5.4640e+03 0.0000e+00 ... 1.0000e+00 0.0000e+00 1.0000e+00]]\n"
     ]
    }
   ],
   "source": [
    "print(X)"
   ]
  },
  {
   "cell_type": "code",
   "execution_count": 26,
   "metadata": {
    "execution": {
     "iopub.execute_input": "2021-10-14T06:28:20.440143Z",
     "iopub.status.busy": "2021-10-14T06:28:20.439725Z",
     "iopub.status.idle": "2021-10-14T06:28:20.444827Z",
     "shell.execute_reply": "2021-10-14T06:28:20.443688Z",
     "shell.execute_reply.started": "2021-10-14T06:28:20.440109Z"
    }
   },
   "outputs": [],
   "source": [
    "# print(y)"
   ]
  },
  {
   "cell_type": "code",
   "execution_count": 27,
   "metadata": {
    "execution": {
     "iopub.execute_input": "2021-10-14T06:28:20.446756Z",
     "iopub.status.busy": "2021-10-14T06:28:20.446403Z",
     "iopub.status.idle": "2021-10-14T06:28:20.454259Z",
     "shell.execute_reply": "2021-10-14T06:28:20.453254Z",
     "shell.execute_reply.started": "2021-10-14T06:28:20.446705Z"
    }
   },
   "outputs": [
    {
     "name": "stdout",
     "output_type": "stream",
     "text": [
      "(301, 8) (301, 1)\n"
     ]
    }
   ],
   "source": [
    "print(X.shape, y.shape)"
   ]
  },
  {
   "cell_type": "code",
   "execution_count": 28,
   "metadata": {
    "execution": {
     "iopub.execute_input": "2021-10-14T06:28:20.45645Z",
     "iopub.status.busy": "2021-10-14T06:28:20.456139Z",
     "iopub.status.idle": "2021-10-14T06:28:20.463975Z",
     "shell.execute_reply": "2021-10-14T06:28:20.463119Z",
     "shell.execute_reply.started": "2021-10-14T06:28:20.456416Z"
    }
   },
   "outputs": [],
   "source": [
    "from sklearn.model_selection import train_test_split\n",
    "X_train, X_test, y_train, y_test = train_test_split(X,y,test_size=0.2, random_state=1)"
   ]
  },
  {
   "cell_type": "markdown",
   "metadata": {},
   "source": [
    "# Scaling the data for better training"
   ]
  },
  {
   "cell_type": "code",
   "execution_count": 29,
   "metadata": {
    "execution": {
     "iopub.execute_input": "2021-10-14T06:44:12.923445Z",
     "iopub.status.busy": "2021-10-14T06:44:12.923178Z",
     "iopub.status.idle": "2021-10-14T06:44:12.929855Z",
     "shell.execute_reply": "2021-10-14T06:44:12.929133Z",
     "shell.execute_reply.started": "2021-10-14T06:44:12.923417Z"
    }
   },
   "outputs": [],
   "source": [
    "from sklearn.preprocessing import StandardScaler\n",
    "sc = StandardScaler()\n",
    "X_train = sc.fit_transform(X_train)\n",
    "X_test = sc.transform(X_test)"
   ]
  },
  {
   "cell_type": "code",
   "execution_count": 30,
   "metadata": {
    "execution": {
     "iopub.execute_input": "2021-10-14T06:44:15.514562Z",
     "iopub.status.busy": "2021-10-14T06:44:15.513797Z",
     "iopub.status.idle": "2021-10-14T06:44:15.519865Z",
     "shell.execute_reply": "2021-10-14T06:44:15.518863Z",
     "shell.execute_reply.started": "2021-10-14T06:44:15.514526Z"
    }
   },
   "outputs": [
    {
     "name": "stdout",
     "output_type": "stream",
     "text": [
      "(301, 8) (240, 8) (61, 8)\n"
     ]
    }
   ],
   "source": [
    "print(X.shape, X_train.shape, X_test.shape)"
   ]
  },
  {
   "cell_type": "code",
   "execution_count": 31,
   "metadata": {
    "execution": {
     "iopub.execute_input": "2021-10-14T06:44:16.897404Z",
     "iopub.status.busy": "2021-10-14T06:44:16.896851Z",
     "iopub.status.idle": "2021-10-14T06:44:16.906566Z",
     "shell.execute_reply": "2021-10-14T06:44:16.905868Z",
     "shell.execute_reply.started": "2021-10-14T06:44:16.89736Z"
    }
   },
   "outputs": [
    {
     "name": "stdout",
     "output_type": "stream",
     "text": [
      "(301, 1) (240, 1) (61, 1)\n"
     ]
    }
   ],
   "source": [
    "print(y.shape, y_train.shape, y_test.shape)"
   ]
  },
  {
   "cell_type": "markdown",
   "metadata": {},
   "source": [
    "# Building Artifical Neural Network "
   ]
  },
  {
   "cell_type": "code",
   "execution_count": 32,
   "metadata": {
    "execution": {
     "iopub.execute_input": "2021-10-14T06:28:20.482536Z",
     "iopub.status.busy": "2021-10-14T06:28:20.482129Z",
     "iopub.status.idle": "2021-10-14T06:28:20.487028Z",
     "shell.execute_reply": "2021-10-14T06:28:20.486238Z",
     "shell.execute_reply.started": "2021-10-14T06:28:20.482364Z"
    }
   },
   "outputs": [],
   "source": [
    "from tensorflow.keras.models import Sequential\n",
    "from tensorflow.keras.layers import Dense"
   ]
  },
  {
   "cell_type": "code",
   "execution_count": 33,
   "metadata": {
    "execution": {
     "iopub.execute_input": "2021-10-14T06:55:53.570163Z",
     "iopub.status.busy": "2021-10-14T06:55:53.569405Z",
     "iopub.status.idle": "2021-10-14T06:55:53.589926Z",
     "shell.execute_reply": "2021-10-14T06:55:53.589222Z",
     "shell.execute_reply.started": "2021-10-14T06:55:53.570115Z"
    }
   },
   "outputs": [],
   "source": [
    "model = Sequential()\n",
    "model.add(Dense(30, activation='relu'))\n",
    "model.add(Dense(10, activation='relu'))\n",
    "model.add(Dense(1)) # O/P\n",
    "\n",
    "model.compile(optimizer='rmsprop', loss='mse')"
   ]
  },
  {
   "cell_type": "code",
   "execution_count": 34,
   "metadata": {
    "execution": {
     "iopub.execute_input": "2021-10-14T07:03:59.496498Z",
     "iopub.status.busy": "2021-10-14T07:03:59.495759Z",
     "iopub.status.idle": "2021-10-14T07:04:05.381535Z",
     "shell.execute_reply": "2021-10-14T07:04:05.380888Z",
     "shell.execute_reply.started": "2021-10-14T07:03:59.496465Z"
    }
   },
   "outputs": [
    {
     "name": "stdout",
     "output_type": "stream",
     "text": [
      "Epoch 1/100\n",
      "8/8 [==============================] - 6s 171ms/step - loss: 47.7161 - val_loss: 38.0454\n",
      "Epoch 2/100\n",
      "8/8 [==============================] - 0s 13ms/step - loss: 44.5476 - val_loss: 36.2322\n",
      "Epoch 3/100\n",
      "8/8 [==============================] - 0s 14ms/step - loss: 42.6756 - val_loss: 34.6653\n",
      "Epoch 4/100\n",
      "8/8 [==============================] - 0s 13ms/step - loss: 41.0048 - val_loss: 33.1000\n",
      "Epoch 5/100\n",
      "8/8 [==============================] - 0s 14ms/step - loss: 39.3876 - val_loss: 31.6672\n",
      "Epoch 6/100\n",
      "8/8 [==============================] - 0s 22ms/step - loss: 37.8930 - val_loss: 30.2976\n",
      "Epoch 7/100\n",
      "8/8 [==============================] - 0s 9ms/step - loss: 36.4586 - val_loss: 28.9249\n",
      "Epoch 8/100\n",
      "8/8 [==============================] - 0s 7ms/step - loss: 34.9081 - val_loss: 27.3395\n",
      "Epoch 9/100\n",
      "8/8 [==============================] - 0s 8ms/step - loss: 33.2610 - val_loss: 25.7951\n",
      "Epoch 10/100\n",
      "8/8 [==============================] - 0s 12ms/step - loss: 31.6015 - val_loss: 24.1285\n",
      "Epoch 11/100\n",
      "8/8 [==============================] - 0s 17ms/step - loss: 29.9714 - val_loss: 22.8957\n",
      "Epoch 12/100\n",
      "8/8 [==============================] - 0s 13ms/step - loss: 28.5322 - val_loss: 21.3841\n",
      "Epoch 13/100\n",
      "8/8 [==============================] - 0s 12ms/step - loss: 26.9004 - val_loss: 19.7852\n",
      "Epoch 14/100\n",
      "8/8 [==============================] - 0s 11ms/step - loss: 25.2929 - val_loss: 18.1725\n",
      "Epoch 15/100\n",
      "8/8 [==============================] - 0s 12ms/step - loss: 23.6330 - val_loss: 16.5181\n",
      "Epoch 16/100\n",
      "8/8 [==============================] - 0s 12ms/step - loss: 21.9489 - val_loss: 15.0344\n",
      "Epoch 17/100\n",
      "8/8 [==============================] - 0s 12ms/step - loss: 20.3516 - val_loss: 13.5567\n",
      "Epoch 18/100\n",
      "8/8 [==============================] - 0s 10ms/step - loss: 18.8560 - val_loss: 12.1881\n",
      "Epoch 19/100\n",
      "8/8 [==============================] - 0s 12ms/step - loss: 17.3513 - val_loss: 10.9021\n",
      "Epoch 20/100\n",
      "8/8 [==============================] - 0s 8ms/step - loss: 15.9642 - val_loss: 9.6650\n",
      "Epoch 21/100\n",
      "8/8 [==============================] - 0s 9ms/step - loss: 14.6168 - val_loss: 8.5172\n",
      "Epoch 22/100\n",
      "8/8 [==============================] - 0s 9ms/step - loss: 13.2712 - val_loss: 7.5932\n",
      "Epoch 23/100\n",
      "8/8 [==============================] - 0s 12ms/step - loss: 12.1298 - val_loss: 6.7524\n",
      "Epoch 24/100\n",
      "8/8 [==============================] - 0s 12ms/step - loss: 11.0729 - val_loss: 5.9999\n",
      "Epoch 25/100\n",
      "8/8 [==============================] - 0s 11ms/step - loss: 10.0936 - val_loss: 5.4234\n",
      "Epoch 26/100\n",
      "8/8 [==============================] - 0s 10ms/step - loss: 9.2925 - val_loss: 4.9275\n",
      "Epoch 27/100\n",
      "8/8 [==============================] - 0s 10ms/step - loss: 8.5273 - val_loss: 4.4606\n",
      "Epoch 28/100\n",
      "8/8 [==============================] - 0s 9ms/step - loss: 7.7794 - val_loss: 4.0405\n",
      "Epoch 29/100\n",
      "8/8 [==============================] - 0s 9ms/step - loss: 7.1134 - val_loss: 3.6864\n",
      "Epoch 30/100\n",
      "8/8 [==============================] - 0s 9ms/step - loss: 6.5065 - val_loss: 3.3431\n",
      "Epoch 31/100\n",
      "8/8 [==============================] - 0s 12ms/step - loss: 5.9277 - val_loss: 3.0667\n",
      "Epoch 32/100\n",
      "8/8 [==============================] - 0s 11ms/step - loss: 5.4126 - val_loss: 2.8366\n",
      "Epoch 33/100\n",
      "8/8 [==============================] - 0s 10ms/step - loss: 4.9742 - val_loss: 2.6861\n",
      "Epoch 34/100\n",
      "8/8 [==============================] - 0s 9ms/step - loss: 4.5846 - val_loss: 2.5165\n",
      "Epoch 35/100\n",
      "8/8 [==============================] - 0s 7ms/step - loss: 4.2173 - val_loss: 2.3818\n",
      "Epoch 36/100\n",
      "8/8 [==============================] - 0s 9ms/step - loss: 3.8568 - val_loss: 2.1616\n",
      "Epoch 37/100\n",
      "8/8 [==============================] - 0s 9ms/step - loss: 3.5726 - val_loss: 2.0542\n",
      "Epoch 38/100\n",
      "8/8 [==============================] - 0s 9ms/step - loss: 3.2876 - val_loss: 1.9261\n",
      "Epoch 39/100\n",
      "8/8 [==============================] - 0s 8ms/step - loss: 3.0304 - val_loss: 1.9047\n",
      "Epoch 40/100\n",
      "8/8 [==============================] - 0s 9ms/step - loss: 2.7806 - val_loss: 1.8150\n",
      "Epoch 41/100\n",
      "8/8 [==============================] - 0s 9ms/step - loss: 2.5890 - val_loss: 1.7502\n",
      "Epoch 42/100\n",
      "8/8 [==============================] - 0s 9ms/step - loss: 2.3663 - val_loss: 1.6466\n",
      "Epoch 43/100\n",
      "8/8 [==============================] - 0s 9ms/step - loss: 2.2226 - val_loss: 1.6566\n",
      "Epoch 44/100\n",
      "8/8 [==============================] - 0s 9ms/step - loss: 2.0445 - val_loss: 1.6043\n",
      "Epoch 45/100\n",
      "8/8 [==============================] - 0s 8ms/step - loss: 1.8802 - val_loss: 1.5107\n",
      "Epoch 46/100\n",
      "8/8 [==============================] - 0s 12ms/step - loss: 1.7513 - val_loss: 1.5604\n",
      "Epoch 47/100\n",
      "8/8 [==============================] - 0s 12ms/step - loss: 1.6090 - val_loss: 1.6014\n",
      "Epoch 48/100\n",
      "8/8 [==============================] - 0s 12ms/step - loss: 1.4737 - val_loss: 1.6584\n",
      "Epoch 49/100\n",
      "8/8 [==============================] - 0s 12ms/step - loss: 1.3679 - val_loss: 1.5550\n",
      "Epoch 50/100\n",
      "8/8 [==============================] - 0s 10ms/step - loss: 1.2874 - val_loss: 1.7260\n",
      "Epoch 51/100\n",
      "8/8 [==============================] - 0s 8ms/step - loss: 1.2165 - val_loss: 1.6108\n",
      "Epoch 52/100\n",
      "8/8 [==============================] - 0s 10ms/step - loss: 1.1729 - val_loss: 1.7358\n",
      "Epoch 53/100\n",
      "8/8 [==============================] - 0s 10ms/step - loss: 1.1244 - val_loss: 1.7363\n",
      "Epoch 54/100\n",
      "8/8 [==============================] - 0s 10ms/step - loss: 1.0939 - val_loss: 1.6671\n",
      "Epoch 55/100\n",
      "8/8 [==============================] - 0s 9ms/step - loss: 1.0679 - val_loss: 1.5865\n",
      "Epoch 56/100\n",
      "8/8 [==============================] - 0s 9ms/step - loss: 1.0317 - val_loss: 1.5321\n",
      "Epoch 57/100\n",
      "8/8 [==============================] - 0s 9ms/step - loss: 1.0320 - val_loss: 1.6634\n",
      "Epoch 58/100\n",
      "8/8 [==============================] - 0s 10ms/step - loss: 0.9938 - val_loss: 1.7795\n",
      "Epoch 59/100\n",
      "8/8 [==============================] - 0s 10ms/step - loss: 0.9637 - val_loss: 1.7720\n",
      "Epoch 60/100\n",
      "8/8 [==============================] - 0s 10ms/step - loss: 0.9558 - val_loss: 1.7756\n",
      "Epoch 61/100\n",
      "8/8 [==============================] - 0s 7ms/step - loss: 0.9658 - val_loss: 1.5717\n",
      "Epoch 62/100\n",
      "8/8 [==============================] - 0s 8ms/step - loss: 0.9250 - val_loss: 1.6935\n",
      "Epoch 63/100\n",
      "8/8 [==============================] - 0s 8ms/step - loss: 0.9042 - val_loss: 1.6866\n",
      "Epoch 64/100\n",
      "8/8 [==============================] - 0s 8ms/step - loss: 0.9120 - val_loss: 1.6791\n",
      "Epoch 65/100\n",
      "8/8 [==============================] - 0s 8ms/step - loss: 0.8965 - val_loss: 1.6530\n",
      "Epoch 66/100\n",
      "8/8 [==============================] - 0s 8ms/step - loss: 0.8791 - val_loss: 1.6845\n",
      "Epoch 67/100\n",
      "8/8 [==============================] - 0s 8ms/step - loss: 0.8754 - val_loss: 1.6843\n",
      "Epoch 68/100\n",
      "8/8 [==============================] - 0s 8ms/step - loss: 0.8545 - val_loss: 1.5795\n",
      "Epoch 69/100\n",
      "8/8 [==============================] - 0s 8ms/step - loss: 0.8483 - val_loss: 1.7294\n",
      "Epoch 70/100\n",
      "8/8 [==============================] - 0s 8ms/step - loss: 0.8512 - val_loss: 1.3975\n",
      "Epoch 71/100\n",
      "8/8 [==============================] - 0s 9ms/step - loss: 0.8475 - val_loss: 1.4970\n",
      "Epoch 72/100\n",
      "8/8 [==============================] - 0s 14ms/step - loss: 0.8138 - val_loss: 1.3776\n",
      "Epoch 73/100\n",
      "8/8 [==============================] - 0s 9ms/step - loss: 0.8299 - val_loss: 1.3239\n",
      "Epoch 74/100\n",
      "8/8 [==============================] - 0s 9ms/step - loss: 0.8083 - val_loss: 1.4752\n",
      "Epoch 75/100\n",
      "8/8 [==============================] - 0s 8ms/step - loss: 0.7843 - val_loss: 1.2980\n",
      "Epoch 76/100\n",
      "8/8 [==============================] - 0s 8ms/step - loss: 0.7960 - val_loss: 1.5000\n",
      "Epoch 77/100\n",
      "8/8 [==============================] - 0s 11ms/step - loss: 0.7914 - val_loss: 1.5122\n",
      "Epoch 78/100\n",
      "8/8 [==============================] - 0s 10ms/step - loss: 0.7542 - val_loss: 1.3862\n",
      "Epoch 79/100\n",
      "8/8 [==============================] - 0s 10ms/step - loss: 0.7569 - val_loss: 1.4274\n",
      "Epoch 80/100\n",
      "8/8 [==============================] - 0s 11ms/step - loss: 0.7393 - val_loss: 1.5410\n",
      "Epoch 81/100\n",
      "8/8 [==============================] - 0s 10ms/step - loss: 0.7683 - val_loss: 1.4417\n",
      "Epoch 82/100\n",
      "8/8 [==============================] - 0s 9ms/step - loss: 0.7415 - val_loss: 1.3937\n",
      "Epoch 83/100\n",
      "8/8 [==============================] - 0s 9ms/step - loss: 0.7360 - val_loss: 1.4306\n"
     ]
    },
    {
     "name": "stdout",
     "output_type": "stream",
     "text": [
      "Epoch 84/100\n",
      "8/8 [==============================] - 0s 10ms/step - loss: 0.7025 - val_loss: 1.2914\n",
      "Epoch 85/100\n",
      "8/8 [==============================] - 0s 10ms/step - loss: 0.7139 - val_loss: 1.3517\n",
      "Epoch 86/100\n",
      "8/8 [==============================] - 0s 11ms/step - loss: 0.7025 - val_loss: 1.5448\n",
      "Epoch 87/100\n",
      "8/8 [==============================] - 0s 10ms/step - loss: 0.6919 - val_loss: 1.3623\n",
      "Epoch 88/100\n",
      "8/8 [==============================] - 0s 9ms/step - loss: 0.6817 - val_loss: 1.4602\n",
      "Epoch 89/100\n",
      "8/8 [==============================] - 0s 10ms/step - loss: 0.6740 - val_loss: 1.4566\n",
      "Epoch 90/100\n",
      "8/8 [==============================] - 0s 10ms/step - loss: 0.6838 - val_loss: 1.5189\n",
      "Epoch 91/100\n",
      "8/8 [==============================] - 0s 13ms/step - loss: 0.6650 - val_loss: 1.1941\n",
      "Epoch 92/100\n",
      "8/8 [==============================] - 0s 15ms/step - loss: 0.6588 - val_loss: 1.3080\n",
      "Epoch 93/100\n",
      "8/8 [==============================] - 0s 12ms/step - loss: 0.6479 - val_loss: 1.4307\n",
      "Epoch 94/100\n",
      "8/8 [==============================] - 0s 13ms/step - loss: 0.6415 - val_loss: 1.2104\n",
      "Epoch 95/100\n",
      "8/8 [==============================] - 0s 12ms/step - loss: 0.6575 - val_loss: 1.3191\n",
      "Epoch 96/100\n",
      "8/8 [==============================] - 0s 8ms/step - loss: 0.6537 - val_loss: 1.2553\n",
      "Epoch 97/100\n",
      "8/8 [==============================] - 0s 9ms/step - loss: 0.6240 - val_loss: 1.1713\n",
      "Epoch 98/100\n",
      "8/8 [==============================] - 0s 9ms/step - loss: 0.6302 - val_loss: 1.3711\n",
      "Epoch 99/100\n",
      "8/8 [==============================] - 0s 9ms/step - loss: 0.6232 - val_loss: 1.2462\n",
      "Epoch 100/100\n",
      "8/8 [==============================] - 0s 11ms/step - loss: 0.6166 - val_loss: 1.2536\n"
     ]
    },
    {
     "data": {
      "text/plain": [
       "<keras.callbacks.History at 0x22ffa73bb50>"
      ]
     },
     "execution_count": 34,
     "metadata": {},
     "output_type": "execute_result"
    }
   ],
   "source": [
    "model.fit(X_train, y_train, epochs=100, validation_data=(X_test,y_test))"
   ]
  },
  {
   "cell_type": "code",
   "execution_count": 35,
   "metadata": {
    "execution": {
     "iopub.execute_input": "2021-10-14T07:05:16.015552Z",
     "iopub.status.busy": "2021-10-14T07:05:16.014986Z",
     "iopub.status.idle": "2021-10-14T07:05:16.025524Z",
     "shell.execute_reply": "2021-10-14T07:05:16.023383Z",
     "shell.execute_reply.started": "2021-10-14T07:05:16.015513Z"
    }
   },
   "outputs": [
    {
     "name": "stdout",
     "output_type": "stream",
     "text": [
      "Model: \"sequential\"\n",
      "_________________________________________________________________\n",
      "Layer (type)                 Output Shape              Param #   \n",
      "=================================================================\n",
      "dense (Dense)                (None, 30)                270       \n",
      "_________________________________________________________________\n",
      "dense_1 (Dense)              (None, 10)                310       \n",
      "_________________________________________________________________\n",
      "dense_2 (Dense)              (None, 1)                 11        \n",
      "=================================================================\n",
      "Total params: 591\n",
      "Trainable params: 591\n",
      "Non-trainable params: 0\n",
      "_________________________________________________________________\n"
     ]
    }
   ],
   "source": [
    "model.summary()"
   ]
  },
  {
   "cell_type": "code",
   "execution_count": 36,
   "metadata": {
    "execution": {
     "iopub.execute_input": "2021-10-14T07:05:49.690159Z",
     "iopub.status.busy": "2021-10-14T07:05:49.689448Z",
     "iopub.status.idle": "2021-10-14T07:05:49.694448Z",
     "shell.execute_reply": "2021-10-14T07:05:49.693769Z",
     "shell.execute_reply.started": "2021-10-14T07:05:49.690123Z"
    }
   },
   "outputs": [],
   "source": [
    "loss_df = pd.DataFrame(model.history.history)"
   ]
  },
  {
   "cell_type": "code",
   "execution_count": 37,
   "metadata": {
    "execution": {
     "iopub.execute_input": "2021-10-14T07:06:06.895496Z",
     "iopub.status.busy": "2021-10-14T07:06:06.894952Z",
     "iopub.status.idle": "2021-10-14T07:06:07.139178Z",
     "shell.execute_reply": "2021-10-14T07:06:07.138514Z",
     "shell.execute_reply.started": "2021-10-14T07:06:06.895461Z"
    }
   },
   "outputs": [
    {
     "data": {
      "text/plain": [
       "<AxesSubplot:>"
      ]
     },
     "execution_count": 37,
     "metadata": {},
     "output_type": "execute_result"
    },
    {
     "data": {
      "image/png": "[encoded data removed]",
      "text/plain": [
       "<Figure size 576x396 with 1 Axes>"
      ]
     },
     "metadata": {},
     "output_type": "display_data"
    }
   ],
   "source": [
    "loss_df.plot()"
   ]
  },
  {
   "cell_type": "markdown",
   "metadata": {},
   "source": [
    "# Model Evaluation"
   ]
  },
  {
   "cell_type": "code",
   "execution_count": 38,
   "metadata": {
    "execution": {
     "iopub.execute_input": "2021-10-14T07:08:36.354442Z",
     "iopub.status.busy": "2021-10-14T07:08:36.353885Z",
     "iopub.status.idle": "2021-10-14T07:08:36.406892Z",
     "shell.execute_reply": "2021-10-14T07:08:36.40624Z",
     "shell.execute_reply.started": "2021-10-14T07:08:36.354409Z"
    }
   },
   "outputs": [
    {
     "name": "stdout",
     "output_type": "stream",
     "text": [
      "2/2 [==============================] - 0s 4ms/step - loss: 1.2536\n"
     ]
    },
    {
     "data": {
      "text/plain": [
       "1.2536380290985107"
      ]
     },
     "execution_count": 38,
     "metadata": {},
     "output_type": "execute_result"
    }
   ],
   "source": [
    "model.evaluate(X_test, y_test)"
   ]
  },
  {
   "cell_type": "markdown",
   "metadata": {},
   "source": [
    "## model.predict() on X_test"
   ]
  },
  {
   "cell_type": "code",
   "execution_count": 39,
   "metadata": {
    "execution": {
     "iopub.execute_input": "2021-10-14T07:14:38.47071Z",
     "iopub.status.busy": "2021-10-14T07:14:38.470168Z",
     "iopub.status.idle": "2021-10-14T07:14:38.51459Z",
     "shell.execute_reply": "2021-10-14T07:14:38.513827Z",
     "shell.execute_reply.started": "2021-10-14T07:14:38.470673Z"
    }
   },
   "outputs": [],
   "source": [
    "train_pred = model.predict(X_train)\n",
    "# print(pred_train)"
   ]
  },
  {
   "cell_type": "markdown",
   "metadata": {},
   "source": [
    "## model.predict()  on X_train"
   ]
  },
  {
   "cell_type": "code",
   "execution_count": 40,
   "metadata": {
    "execution": {
     "iopub.execute_input": "2021-10-14T07:14:41.223504Z",
     "iopub.status.busy": "2021-10-14T07:14:41.222976Z",
     "iopub.status.idle": "2021-10-14T07:14:41.266837Z",
     "shell.execute_reply": "2021-10-14T07:14:41.266135Z",
     "shell.execute_reply.started": "2021-10-14T07:14:41.223468Z"
    }
   },
   "outputs": [],
   "source": [
    "test_pred = model.predict(X_test)"
   ]
  },
  {
   "cell_type": "code",
   "execution_count": 41,
   "metadata": {
    "execution": {
     "iopub.execute_input": "2021-10-14T07:14:41.37939Z",
     "iopub.status.busy": "2021-10-14T07:14:41.378877Z",
     "iopub.status.idle": "2021-10-14T07:14:41.382597Z",
     "shell.execute_reply": "2021-10-14T07:14:41.38196Z",
     "shell.execute_reply.started": "2021-10-14T07:14:41.37936Z"
    }
   },
   "outputs": [],
   "source": [
    "from sklearn.metrics import r2_score"
   ]
  },
  {
   "cell_type": "markdown",
   "metadata": {},
   "source": [
    "- R Squared : R-squared measures the strength of the relationship between your model and the dependent variable on a convenient 0 – 100% scale."
   ]
  },
  {
   "cell_type": "code",
   "execution_count": 42,
   "metadata": {
    "execution": {
     "iopub.execute_input": "2021-10-14T07:16:33.977525Z",
     "iopub.status.busy": "2021-10-14T07:16:33.976851Z",
     "iopub.status.idle": "2021-10-14T07:16:33.985297Z",
     "shell.execute_reply": "2021-10-14T07:16:33.984381Z",
     "shell.execute_reply.started": "2021-10-14T07:16:33.977491Z"
    }
   },
   "outputs": [
    {
     "name": "stdout",
     "output_type": "stream",
     "text": [
      "R Squared value of train dataL:  0.9778179788450994\n"
     ]
    }
   ],
   "source": [
    "r2_train = r2_score(y_train, train_pred)\n",
    "print(\"R Squared value of train dataL: \",r2_train)"
   ]
  },
  {
   "cell_type": "code",
   "execution_count": 43,
   "metadata": {
    "execution": {
     "iopub.execute_input": "2021-10-14T07:16:34.629868Z",
     "iopub.status.busy": "2021-10-14T07:16:34.628978Z",
     "iopub.status.idle": "2021-10-14T07:16:34.640789Z",
     "shell.execute_reply": "2021-10-14T07:16:34.635368Z",
     "shell.execute_reply.started": "2021-10-14T07:16:34.629825Z"
    }
   },
   "outputs": [
    {
     "name": "stdout",
     "output_type": "stream",
     "text": [
      "R Squared value of test data: 0.9422131626916928\n"
     ]
    }
   ],
   "source": [
    "r2_test = r2_score(y_test, test_pred)\n",
    "print(\"R Squared value of test data:\", r2_test)"
   ]
  },
  {
   "cell_type": "code",
   "execution_count": 44,
   "metadata": {
    "execution": {
     "iopub.execute_input": "2021-10-14T07:16:47.736358Z",
     "iopub.status.busy": "2021-10-14T07:16:47.735589Z",
     "iopub.status.idle": "2021-10-14T07:16:47.740282Z",
     "shell.execute_reply": "2021-10-14T07:16:47.739416Z",
     "shell.execute_reply.started": "2021-10-14T07:16:47.736317Z"
    }
   },
   "outputs": [],
   "source": [
    "diff_r2_scores = r2_train - r2_test"
   ]
  },
  {
   "cell_type": "code",
   "execution_count": 45,
   "metadata": {
    "execution": {
     "iopub.execute_input": "2021-10-14T07:17:27.069606Z",
     "iopub.status.busy": "2021-10-14T07:17:27.069067Z",
     "iopub.status.idle": "2021-10-14T07:17:27.074249Z",
     "shell.execute_reply": "2021-10-14T07:17:27.073472Z",
     "shell.execute_reply.started": "2021-10-14T07:17:27.06957Z"
    }
   },
   "outputs": [
    {
     "name": "stdout",
     "output_type": "stream",
     "text": [
      "Difference between two scores:  0.04\n"
     ]
    }
   ],
   "source": [
    "print(\"Difference between two scores: \", diff_r2_scores.round(2))"
   ]
  },
  {
   "cell_type": "code",
   "execution_count": null,
   "metadata": {},
   "outputs": [],
   "source": []
  }
 ],
 "metadata": {
  "kernelspec": {
   "display_name": "Python 3 (ipykernel)",
   "language": "python",
   "name": "python3"
  },
  "language_info": {
   "codemirror_mode": {
    "name": "ipython",
    "version": 3
   },
   "file_extension": ".py",
   "mimetype": "text/x-python",
   "name": "python",
   "nbconvert_exporter": "python",
   "pygments_lexer": "ipython3",
   "version": "3.8.5"
  }
 },
 "nbformat": 4,
 "nbformat_minor": 4
}
