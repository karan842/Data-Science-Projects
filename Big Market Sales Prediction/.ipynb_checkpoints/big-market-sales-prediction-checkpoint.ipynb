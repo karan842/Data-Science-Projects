{
 "cells": [
  {
   "cell_type": "markdown",
   "metadata": {},
   "source": [
    "# Big Market Sales Prediction"
   ]
  },
  {
   "cell_type": "markdown",
   "metadata": {},
   "source": [
    "# Importing all essentials"
   ]
  },
  {
   "cell_type": "code",
   "execution_count": 1,
   "metadata": {
    "execution": {
     "iopub.execute_input": "2021-10-05T07:33:19.073486Z",
     "iopub.status.busy": "2021-10-05T07:33:19.073216Z",
     "iopub.status.idle": "2021-10-05T07:33:19.198504Z",
     "shell.execute_reply": "2021-10-05T07:33:19.197819Z",
     "shell.execute_reply.started": "2021-10-05T07:33:19.073458Z"
    }
   },
   "outputs": [],
   "source": [
    "import numpy as np\n",
    "import pandas as pd\n",
    "import matplotlib.pyplot as plt\n",
    "import seaborn as sns\n",
    "import warnings\n",
    "sns.set_style('whitegrid')\n",
    "warnings.filterwarnings('ignore')"
   ]
  },
  {
   "cell_type": "markdown",
   "metadata": {},
   "source": [
    "# Data Analysis and Collection"
   ]
  },
  {
   "cell_type": "code",
   "execution_count": 2,
   "metadata": {
    "execution": {
     "iopub.execute_input": "2021-10-05T07:33:19.200419Z",
     "iopub.status.busy": "2021-10-05T07:33:19.200091Z",
     "iopub.status.idle": "2021-10-05T07:33:19.276278Z",
     "shell.execute_reply": "2021-10-05T07:33:19.275611Z",
     "shell.execute_reply.started": "2021-10-05T07:33:19.200382Z"
    }
   },
   "outputs": [
    {
     "data": {
      "text/html": [
       "<div>\n",
       "<style scoped>\n",
       "    .dataframe tbody tr th:only-of-type {\n",
       "        vertical-align: middle;\n",
       "    }\n",
       "\n",
       "    .dataframe tbody tr th {\n",
       "        vertical-align: top;\n",
       "    }\n",
       "\n",
       "    .dataframe thead th {\n",
       "        text-align: right;\n",
       "    }\n",
       "</style>\n",
       "<table border=\"1\" class=\"dataframe\">\n",
       "  <thead>\n",
       "    <tr style=\"text-align: right;\">\n",
       "      <th></th>\n",
       "      <th>Item_Identifier</th>\n",
       "      <th>Item_Weight</th>\n",
       "      <th>Item_Fat_Content</th>\n",
       "      <th>Item_Visibility</th>\n",
       "      <th>Item_Type</th>\n",
       "      <th>Item_MRP</th>\n",
       "      <th>Outlet_Identifier</th>\n",
       "      <th>Outlet_Establishment_Year</th>\n",
       "      <th>Outlet_Size</th>\n",
       "      <th>Outlet_Location_Type</th>\n",
       "      <th>Outlet_Type</th>\n",
       "      <th>Item_Outlet_Sales</th>\n",
       "    </tr>\n",
       "  </thead>\n",
       "  <tbody>\n",
       "    <tr>\n",
       "      <th>0</th>\n",
       "      <td>FDA15</td>\n",
       "      <td>9.30</td>\n",
       "      <td>Low Fat</td>\n",
       "      <td>0.016047</td>\n",
       "      <td>Dairy</td>\n",
       "      <td>249.8092</td>\n",
       "      <td>OUT049</td>\n",
       "      <td>1999</td>\n",
       "      <td>Medium</td>\n",
       "      <td>Tier 1</td>\n",
       "      <td>Supermarket Type1</td>\n",
       "      <td>3735.1380</td>\n",
       "    </tr>\n",
       "    <tr>\n",
       "      <th>1</th>\n",
       "      <td>DRC01</td>\n",
       "      <td>5.92</td>\n",
       "      <td>Regular</td>\n",
       "      <td>0.019278</td>\n",
       "      <td>Soft Drinks</td>\n",
       "      <td>48.2692</td>\n",
       "      <td>OUT018</td>\n",
       "      <td>2009</td>\n",
       "      <td>Medium</td>\n",
       "      <td>Tier 3</td>\n",
       "      <td>Supermarket Type2</td>\n",
       "      <td>443.4228</td>\n",
       "    </tr>\n",
       "    <tr>\n",
       "      <th>2</th>\n",
       "      <td>FDN15</td>\n",
       "      <td>17.50</td>\n",
       "      <td>Low Fat</td>\n",
       "      <td>0.016760</td>\n",
       "      <td>Meat</td>\n",
       "      <td>141.6180</td>\n",
       "      <td>OUT049</td>\n",
       "      <td>1999</td>\n",
       "      <td>Medium</td>\n",
       "      <td>Tier 1</td>\n",
       "      <td>Supermarket Type1</td>\n",
       "      <td>2097.2700</td>\n",
       "    </tr>\n",
       "    <tr>\n",
       "      <th>3</th>\n",
       "      <td>FDX07</td>\n",
       "      <td>19.20</td>\n",
       "      <td>Regular</td>\n",
       "      <td>0.000000</td>\n",
       "      <td>Fruits and Vegetables</td>\n",
       "      <td>182.0950</td>\n",
       "      <td>OUT010</td>\n",
       "      <td>1998</td>\n",
       "      <td>NaN</td>\n",
       "      <td>Tier 3</td>\n",
       "      <td>Grocery Store</td>\n",
       "      <td>732.3800</td>\n",
       "    </tr>\n",
       "    <tr>\n",
       "      <th>4</th>\n",
       "      <td>NCD19</td>\n",
       "      <td>8.93</td>\n",
       "      <td>Low Fat</td>\n",
       "      <td>0.000000</td>\n",
       "      <td>Household</td>\n",
       "      <td>53.8614</td>\n",
       "      <td>OUT013</td>\n",
       "      <td>1987</td>\n",
       "      <td>High</td>\n",
       "      <td>Tier 3</td>\n",
       "      <td>Supermarket Type1</td>\n",
       "      <td>994.7052</td>\n",
       "    </tr>\n",
       "  </tbody>\n",
       "</table>\n",
       "</div>"
      ],
      "text/plain": [
       "  Item_Identifier  Item_Weight Item_Fat_Content  Item_Visibility  \\\n",
       "0           FDA15         9.30          Low Fat         0.016047   \n",
       "1           DRC01         5.92          Regular         0.019278   \n",
       "2           FDN15        17.50          Low Fat         0.016760   \n",
       "3           FDX07        19.20          Regular         0.000000   \n",
       "4           NCD19         8.93          Low Fat         0.000000   \n",
       "\n",
       "               Item_Type  Item_MRP Outlet_Identifier  \\\n",
       "0                  Dairy  249.8092            OUT049   \n",
       "1            Soft Drinks   48.2692            OUT018   \n",
       "2                   Meat  141.6180            OUT049   \n",
       "3  Fruits and Vegetables  182.0950            OUT010   \n",
       "4              Household   53.8614            OUT013   \n",
       "\n",
       "   Outlet_Establishment_Year Outlet_Size Outlet_Location_Type  \\\n",
       "0                       1999      Medium               Tier 1   \n",
       "1                       2009      Medium               Tier 3   \n",
       "2                       1999      Medium               Tier 1   \n",
       "3                       1998         NaN               Tier 3   \n",
       "4                       1987        High               Tier 3   \n",
       "\n",
       "         Outlet_Type  Item_Outlet_Sales  \n",
       "0  Supermarket Type1          3735.1380  \n",
       "1  Supermarket Type2           443.4228  \n",
       "2  Supermarket Type1          2097.2700  \n",
       "3      Grocery Store           732.3800  \n",
       "4  Supermarket Type1           994.7052  "
      ]
     },
     "execution_count": 2,
     "metadata": {},
     "output_type": "execute_result"
    }
   ],
   "source": [
    "df = pd.read_csv('bigmarket.csv')\n",
    "df.head()"
   ]
  },
  {
   "cell_type": "code",
   "execution_count": 3,
   "metadata": {
    "execution": {
     "iopub.execute_input": "2021-10-05T07:33:19.27917Z",
     "iopub.status.busy": "2021-10-05T07:33:19.278946Z",
     "iopub.status.idle": "2021-10-05T07:33:19.287993Z",
     "shell.execute_reply": "2021-10-05T07:33:19.287274Z",
     "shell.execute_reply.started": "2021-10-05T07:33:19.279146Z"
    }
   },
   "outputs": [
    {
     "data": {
      "text/plain": [
       "(8523, 12)"
      ]
     },
     "execution_count": 3,
     "metadata": {},
     "output_type": "execute_result"
    }
   ],
   "source": [
    "df.shape"
   ]
  },
  {
   "cell_type": "code",
   "execution_count": 4,
   "metadata": {
    "execution": {
     "iopub.execute_input": "2021-10-05T07:33:19.291647Z",
     "iopub.status.busy": "2021-10-05T07:33:19.291449Z",
     "iopub.status.idle": "2021-10-05T07:33:19.318548Z",
     "shell.execute_reply": "2021-10-05T07:33:19.317811Z",
     "shell.execute_reply.started": "2021-10-05T07:33:19.291625Z"
    }
   },
   "outputs": [
    {
     "name": "stdout",
     "output_type": "stream",
     "text": [
      "<class 'pandas.core.frame.DataFrame'>\n",
      "RangeIndex: 8523 entries, 0 to 8522\n",
      "Data columns (total 12 columns):\n",
      " #   Column                     Non-Null Count  Dtype  \n",
      "---  ------                     --------------  -----  \n",
      " 0   Item_Identifier            8523 non-null   object \n",
      " 1   Item_Weight                7060 non-null   float64\n",
      " 2   Item_Fat_Content           8523 non-null   object \n",
      " 3   Item_Visibility            8523 non-null   float64\n",
      " 4   Item_Type                  8523 non-null   object \n",
      " 5   Item_MRP                   8523 non-null   float64\n",
      " 6   Outlet_Identifier          8523 non-null   object \n",
      " 7   Outlet_Establishment_Year  8523 non-null   int64  \n",
      " 8   Outlet_Size                6113 non-null   object \n",
      " 9   Outlet_Location_Type       8523 non-null   object \n",
      " 10  Outlet_Type                8523 non-null   object \n",
      " 11  Item_Outlet_Sales          8523 non-null   float64\n",
      "dtypes: float64(4), int64(1), object(7)\n",
      "memory usage: 799.2+ KB\n"
     ]
    }
   ],
   "source": [
    "df.info()"
   ]
  },
  {
   "cell_type": "markdown",
   "metadata": {},
   "source": [
    "Categorical Features:\n",
    "- Item_Identifier\n",
    "- Item_Fat_Content\n",
    "- Item_Type\n",
    "- Outlet_Indentifier\n",
    "- Outlet_Size\n",
    "- Outlet_Location-Type\n",
    "- Outlet_Type"
   ]
  },
  {
   "cell_type": "code",
   "execution_count": 5,
   "metadata": {
    "execution": {
     "iopub.execute_input": "2021-10-05T07:33:19.321647Z",
     "iopub.status.busy": "2021-10-05T07:33:19.321448Z",
     "iopub.status.idle": "2021-10-05T07:33:19.338309Z",
     "shell.execute_reply": "2021-10-05T07:33:19.337537Z",
     "shell.execute_reply.started": "2021-10-05T07:33:19.321624Z"
    }
   },
   "outputs": [
    {
     "data": {
      "text/plain": [
       "Item_Identifier                 0\n",
       "Item_Weight                  1463\n",
       "Item_Fat_Content                0\n",
       "Item_Visibility                 0\n",
       "Item_Type                       0\n",
       "Item_MRP                        0\n",
       "Outlet_Identifier               0\n",
       "Outlet_Establishment_Year       0\n",
       "Outlet_Size                  2410\n",
       "Outlet_Location_Type            0\n",
       "Outlet_Type                     0\n",
       "Item_Outlet_Sales               0\n",
       "dtype: int64"
      ]
     },
     "execution_count": 5,
     "metadata": {},
     "output_type": "execute_result"
    }
   ],
   "source": [
    "# checking for missing values\n",
    "df.isnull().sum()"
   ]
  },
  {
   "cell_type": "markdown",
   "metadata": {},
   "source": [
    "Handling Missing Values\n",
    "\n",
    "- MEAN -> AVERAGE\n",
    "- MODE -> MORE REPEATED VALUE"
   ]
  },
  {
   "cell_type": "code",
   "execution_count": 6,
   "metadata": {
    "execution": {
     "iopub.execute_input": "2021-10-05T07:33:19.340018Z",
     "iopub.status.busy": "2021-10-05T07:33:19.339368Z",
     "iopub.status.idle": "2021-10-05T07:33:19.345915Z",
     "shell.execute_reply": "2021-10-05T07:33:19.345076Z",
     "shell.execute_reply.started": "2021-10-05T07:33:19.339984Z"
    }
   },
   "outputs": [
    {
     "data": {
      "text/plain": [
       "12.857645184136183"
      ]
     },
     "execution_count": 6,
     "metadata": {},
     "output_type": "execute_result"
    }
   ],
   "source": [
    "df['Item_Weight'].mean()"
   ]
  },
  {
   "cell_type": "code",
   "execution_count": 7,
   "metadata": {
    "execution": {
     "iopub.execute_input": "2021-10-05T07:33:19.348007Z",
     "iopub.status.busy": "2021-10-05T07:33:19.347192Z",
     "iopub.status.idle": "2021-10-05T07:33:19.354847Z",
     "shell.execute_reply": "2021-10-05T07:33:19.354051Z",
     "shell.execute_reply.started": "2021-10-05T07:33:19.34797Z"
    }
   },
   "outputs": [],
   "source": [
    "# filling missing values in \"Item-Weight\" with MEAN VALUE\n",
    "df['Item_Weight'].fillna(df['Item_Weight'].mean(), inplace=True)"
   ]
  },
  {
   "cell_type": "code",
   "execution_count": 8,
   "metadata": {
    "execution": {
     "iopub.execute_input": "2021-10-05T07:33:19.356882Z",
     "iopub.status.busy": "2021-10-05T07:33:19.356071Z",
     "iopub.status.idle": "2021-10-05T07:33:19.367421Z",
     "shell.execute_reply": "2021-10-05T07:33:19.366468Z",
     "shell.execute_reply.started": "2021-10-05T07:33:19.356844Z"
    }
   },
   "outputs": [
    {
     "data": {
      "text/plain": [
       "0    Medium\n",
       "dtype: object"
      ]
     },
     "execution_count": 8,
     "metadata": {},
     "output_type": "execute_result"
    }
   ],
   "source": [
    "# Mode of \"Outlet_Size\" column\n",
    "df['Outlet_Size'].mode()"
   ]
  },
  {
   "cell_type": "code",
   "execution_count": 9,
   "metadata": {
    "execution": {
     "iopub.execute_input": "2021-10-05T07:33:19.369164Z",
     "iopub.status.busy": "2021-10-05T07:33:19.36871Z",
     "iopub.status.idle": "2021-10-05T07:33:19.404986Z",
     "shell.execute_reply": "2021-10-05T07:33:19.404269Z",
     "shell.execute_reply.started": "2021-10-05T07:33:19.369129Z"
    }
   },
   "outputs": [],
   "source": [
    "# filling the missing values in \"Outlet_Size\" column with Mode\n",
    "mode_of_Outlet_size = df.pivot_table(values='Outlet_Size', columns='Outlet_Type', aggfunc=(lambda x: x.mode()[0]))"
   ]
  },
  {
   "cell_type": "code",
   "execution_count": 10,
   "metadata": {
    "execution": {
     "iopub.execute_input": "2021-10-05T07:33:19.408161Z",
     "iopub.status.busy": "2021-10-05T07:33:19.407951Z",
     "iopub.status.idle": "2021-10-05T07:33:19.415026Z",
     "shell.execute_reply": "2021-10-05T07:33:19.414206Z",
     "shell.execute_reply.started": "2021-10-05T07:33:19.408133Z"
    }
   },
   "outputs": [
    {
     "name": "stdout",
     "output_type": "stream",
     "text": [
      "Outlet_Type Grocery Store Supermarket Type1 Supermarket Type2  \\\n",
      "Outlet_Size         Small             Small            Medium   \n",
      "\n",
      "Outlet_Type Supermarket Type3  \n",
      "Outlet_Size            Medium  \n"
     ]
    }
   ],
   "source": [
    "print(mode_of_Outlet_size)"
   ]
  },
  {
   "cell_type": "code",
   "execution_count": 11,
   "metadata": {
    "execution": {
     "iopub.execute_input": "2021-10-05T07:33:19.417149Z",
     "iopub.status.busy": "2021-10-05T07:33:19.416611Z",
     "iopub.status.idle": "2021-10-05T07:33:19.424162Z",
     "shell.execute_reply": "2021-10-05T07:33:19.423492Z",
     "shell.execute_reply.started": "2021-10-05T07:33:19.4171Z"
    }
   },
   "outputs": [],
   "source": [
    "miss_values = df['Outlet_Size'].isnull()"
   ]
  },
  {
   "cell_type": "code",
   "execution_count": 12,
   "metadata": {
    "execution": {
     "iopub.execute_input": "2021-10-05T07:33:19.427271Z",
     "iopub.status.busy": "2021-10-05T07:33:19.427012Z",
     "iopub.status.idle": "2021-10-05T07:33:19.434863Z",
     "shell.execute_reply": "2021-10-05T07:33:19.434034Z",
     "shell.execute_reply.started": "2021-10-05T07:33:19.427238Z"
    }
   },
   "outputs": [
    {
     "name": "stdout",
     "output_type": "stream",
     "text": [
      "0       False\n",
      "1       False\n",
      "2       False\n",
      "3        True\n",
      "4       False\n",
      "        ...  \n",
      "8518    False\n",
      "8519     True\n",
      "8520    False\n",
      "8521    False\n",
      "8522    False\n",
      "Name: Outlet_Size, Length: 8523, dtype: bool\n"
     ]
    }
   ],
   "source": [
    "print(miss_values)"
   ]
  },
  {
   "cell_type": "code",
   "execution_count": 13,
   "metadata": {
    "execution": {
     "iopub.execute_input": "2021-10-05T07:33:19.436539Z",
     "iopub.status.busy": "2021-10-05T07:33:19.436271Z",
     "iopub.status.idle": "2021-10-05T07:33:19.534003Z",
     "shell.execute_reply": "2021-10-05T07:33:19.533393Z",
     "shell.execute_reply.started": "2021-10-05T07:33:19.436507Z"
    }
   },
   "outputs": [],
   "source": [
    "df.loc[miss_values, 'Outlet_Size'] = df.loc[miss_values, 'Outlet_Type'].apply(lambda x:mode_of_Outlet_size[x])"
   ]
  },
  {
   "cell_type": "code",
   "execution_count": 14,
   "metadata": {
    "execution": {
     "iopub.execute_input": "2021-10-05T07:33:19.535456Z",
     "iopub.status.busy": "2021-10-05T07:33:19.535211Z",
     "iopub.status.idle": "2021-10-05T07:33:19.55075Z",
     "shell.execute_reply": "2021-10-05T07:33:19.549715Z",
     "shell.execute_reply.started": "2021-10-05T07:33:19.535425Z"
    }
   },
   "outputs": [
    {
     "data": {
      "text/plain": [
       "Item_Identifier              0\n",
       "Item_Weight                  0\n",
       "Item_Fat_Content             0\n",
       "Item_Visibility              0\n",
       "Item_Type                    0\n",
       "Item_MRP                     0\n",
       "Outlet_Identifier            0\n",
       "Outlet_Establishment_Year    0\n",
       "Outlet_Size                  0\n",
       "Outlet_Location_Type         0\n",
       "Outlet_Type                  0\n",
       "Item_Outlet_Sales            0\n",
       "dtype: int64"
      ]
     },
     "execution_count": 14,
     "metadata": {},
     "output_type": "execute_result"
    }
   ],
   "source": [
    "#checking for missing values\n",
    "df.isnull().sum()"
   ]
  },
  {
   "cell_type": "markdown",
   "metadata": {},
   "source": [
    "# Data Analysis"
   ]
  },
  {
   "cell_type": "code",
   "execution_count": 15,
   "metadata": {
    "execution": {
     "iopub.execute_input": "2021-10-05T07:33:19.552559Z",
     "iopub.status.busy": "2021-10-05T07:33:19.551802Z",
     "iopub.status.idle": "2021-10-05T07:33:19.582529Z",
     "shell.execute_reply": "2021-10-05T07:33:19.581662Z",
     "shell.execute_reply.started": "2021-10-05T07:33:19.552523Z"
    }
   },
   "outputs": [
    {
     "data": {
      "text/html": [
       "<div>\n",
       "<style scoped>\n",
       "    .dataframe tbody tr th:only-of-type {\n",
       "        vertical-align: middle;\n",
       "    }\n",
       "\n",
       "    .dataframe tbody tr th {\n",
       "        vertical-align: top;\n",
       "    }\n",
       "\n",
       "    .dataframe thead th {\n",
       "        text-align: right;\n",
       "    }\n",
       "</style>\n",
       "<table border=\"1\" class=\"dataframe\">\n",
       "  <thead>\n",
       "    <tr style=\"text-align: right;\">\n",
       "      <th></th>\n",
       "      <th>Item_Weight</th>\n",
       "      <th>Item_Visibility</th>\n",
       "      <th>Item_MRP</th>\n",
       "      <th>Outlet_Establishment_Year</th>\n",
       "      <th>Item_Outlet_Sales</th>\n",
       "    </tr>\n",
       "  </thead>\n",
       "  <tbody>\n",
       "    <tr>\n",
       "      <th>count</th>\n",
       "      <td>8523.000000</td>\n",
       "      <td>8523.000000</td>\n",
       "      <td>8523.000000</td>\n",
       "      <td>8523.000000</td>\n",
       "      <td>8523.000000</td>\n",
       "    </tr>\n",
       "    <tr>\n",
       "      <th>mean</th>\n",
       "      <td>12.857645</td>\n",
       "      <td>0.066132</td>\n",
       "      <td>140.992782</td>\n",
       "      <td>1997.831867</td>\n",
       "      <td>2181.288914</td>\n",
       "    </tr>\n",
       "    <tr>\n",
       "      <th>std</th>\n",
       "      <td>4.226124</td>\n",
       "      <td>0.051598</td>\n",
       "      <td>62.275067</td>\n",
       "      <td>8.371760</td>\n",
       "      <td>1706.499616</td>\n",
       "    </tr>\n",
       "    <tr>\n",
       "      <th>min</th>\n",
       "      <td>4.555000</td>\n",
       "      <td>0.000000</td>\n",
       "      <td>31.290000</td>\n",
       "      <td>1985.000000</td>\n",
       "      <td>33.290000</td>\n",
       "    </tr>\n",
       "    <tr>\n",
       "      <th>25%</th>\n",
       "      <td>9.310000</td>\n",
       "      <td>0.026989</td>\n",
       "      <td>93.826500</td>\n",
       "      <td>1987.000000</td>\n",
       "      <td>834.247400</td>\n",
       "    </tr>\n",
       "    <tr>\n",
       "      <th>50%</th>\n",
       "      <td>12.857645</td>\n",
       "      <td>0.053931</td>\n",
       "      <td>143.012800</td>\n",
       "      <td>1999.000000</td>\n",
       "      <td>1794.331000</td>\n",
       "    </tr>\n",
       "    <tr>\n",
       "      <th>75%</th>\n",
       "      <td>16.000000</td>\n",
       "      <td>0.094585</td>\n",
       "      <td>185.643700</td>\n",
       "      <td>2004.000000</td>\n",
       "      <td>3101.296400</td>\n",
       "    </tr>\n",
       "    <tr>\n",
       "      <th>max</th>\n",
       "      <td>21.350000</td>\n",
       "      <td>0.328391</td>\n",
       "      <td>266.888400</td>\n",
       "      <td>2009.000000</td>\n",
       "      <td>13086.964800</td>\n",
       "    </tr>\n",
       "  </tbody>\n",
       "</table>\n",
       "</div>"
      ],
      "text/plain": [
       "       Item_Weight  Item_Visibility     Item_MRP  Outlet_Establishment_Year  \\\n",
       "count  8523.000000      8523.000000  8523.000000                8523.000000   \n",
       "mean     12.857645         0.066132   140.992782                1997.831867   \n",
       "std       4.226124         0.051598    62.275067                   8.371760   \n",
       "min       4.555000         0.000000    31.290000                1985.000000   \n",
       "25%       9.310000         0.026989    93.826500                1987.000000   \n",
       "50%      12.857645         0.053931   143.012800                1999.000000   \n",
       "75%      16.000000         0.094585   185.643700                2004.000000   \n",
       "max      21.350000         0.328391   266.888400                2009.000000   \n",
       "\n",
       "       Item_Outlet_Sales  \n",
       "count        8523.000000  \n",
       "mean         2181.288914  \n",
       "std          1706.499616  \n",
       "min            33.290000  \n",
       "25%           834.247400  \n",
       "50%          1794.331000  \n",
       "75%          3101.296400  \n",
       "max         13086.964800  "
      ]
     },
     "execution_count": 15,
     "metadata": {},
     "output_type": "execute_result"
    }
   ],
   "source": [
    "df.describe()"
   ]
  },
  {
   "cell_type": "code",
   "execution_count": 16,
   "metadata": {
    "execution": {
     "iopub.execute_input": "2021-10-05T07:33:19.58405Z",
     "iopub.status.busy": "2021-10-05T07:33:19.583805Z",
     "iopub.status.idle": "2021-10-05T07:33:20.056832Z",
     "shell.execute_reply": "2021-10-05T07:33:20.05605Z",
     "shell.execute_reply.started": "2021-10-05T07:33:19.58402Z"
    }
   },
   "outputs": [
    {
     "data": {
      "image/png": "[encoded data removed]",
      "text/plain": [
       "<Figure size 432x432 with 1 Axes>"
      ]
     },
     "metadata": {},
     "output_type": "display_data"
    }
   ],
   "source": [
    "# Item_Weight distribution\n",
    "plt.figure(figsize=(6,6))\n",
    "sns.distplot(df['Item_Weight'])\n",
    "plt.show()"
   ]
  },
  {
   "cell_type": "code",
   "execution_count": 17,
   "metadata": {
    "execution": {
     "iopub.execute_input": "2021-10-05T07:33:20.058462Z",
     "iopub.status.busy": "2021-10-05T07:33:20.058215Z",
     "iopub.status.idle": "2021-10-05T07:33:20.430817Z",
     "shell.execute_reply": "2021-10-05T07:33:20.430146Z",
     "shell.execute_reply.started": "2021-10-05T07:33:20.058429Z"
    }
   },
   "outputs": [
    {
     "data": {
      "image/png": "[encoded data removed]",
      "text/plain": [
       "<Figure size 432x432 with 1 Axes>"
      ]
     },
     "metadata": {},
     "output_type": "display_data"
    }
   ],
   "source": [
    "# Item Visibility distribution\n",
    "plt.figure(figsize=(6,6))\n",
    "sns.distplot(df['Item_Visibility'])\n",
    "plt.show()"
   ]
  },
  {
   "cell_type": "code",
   "execution_count": 18,
   "metadata": {
    "execution": {
     "iopub.execute_input": "2021-10-05T07:33:20.43236Z",
     "iopub.status.busy": "2021-10-05T07:33:20.432082Z",
     "iopub.status.idle": "2021-10-05T07:33:20.75714Z",
     "shell.execute_reply": "2021-10-05T07:33:20.756463Z",
     "shell.execute_reply.started": "2021-10-05T07:33:20.432326Z"
    }
   },
   "outputs": [
    {
     "data": {
      "image/png": "[encoded data removed]",
      "text/plain": [
       "<Figure size 432x432 with 1 Axes>"
      ]
     },
     "metadata": {},
     "output_type": "display_data"
    }
   ],
   "source": [
    "# Item MRP distribution\n",
    "plt.figure(figsize=(6,6))\n",
    "sns.distplot(df['Item_MRP'])\n",
    "plt.show()"
   ]
  },
  {
   "cell_type": "code",
   "execution_count": 19,
   "metadata": {
    "execution": {
     "iopub.execute_input": "2021-10-05T07:33:20.758507Z",
     "iopub.status.busy": "2021-10-05T07:33:20.75826Z",
     "iopub.status.idle": "2021-10-05T07:33:21.141737Z",
     "shell.execute_reply": "2021-10-05T07:33:21.141082Z",
     "shell.execute_reply.started": "2021-10-05T07:33:20.758472Z"
    }
   },
   "outputs": [
    {
     "data": {
      "image/png": "[encoded data removed]",
      "text/plain": [
       "<Figure size 432x432 with 1 Axes>"
      ]
     },
     "metadata": {},
     "output_type": "display_data"
    }
   ],
   "source": [
    "# Item_Outlet_Sales distribution\n",
    "plt.figure(figsize=(6,6))\n",
    "sns.distplot(df['Item_Outlet_Sales'])\n",
    "plt.show()"
   ]
  },
  {
   "cell_type": "code",
   "execution_count": 20,
   "metadata": {
    "execution": {
     "iopub.execute_input": "2021-10-05T07:33:21.143362Z",
     "iopub.status.busy": "2021-10-05T07:33:21.142958Z",
     "iopub.status.idle": "2021-10-05T07:33:21.393998Z",
     "shell.execute_reply": "2021-10-05T07:33:21.393272Z",
     "shell.execute_reply.started": "2021-10-05T07:33:21.143324Z"
    }
   },
   "outputs": [
    {
     "data": {
      "image/png": "[encoded data removed]",
      "text/plain": [
       "<Figure size 432x432 with 1 Axes>"
      ]
     },
     "metadata": {},
     "output_type": "display_data"
    }
   ],
   "source": [
    "# Outlet_Establishment_Year column\n",
    "plt.figure(figsize=(6,6))\n",
    "sns.countplot(x='Outlet_Establishment_Year', data=df)\n",
    "plt.show()"
   ]
  },
  {
   "cell_type": "code",
   "execution_count": 21,
   "metadata": {
    "execution": {
     "iopub.execute_input": "2021-10-05T07:33:21.395631Z",
     "iopub.status.busy": "2021-10-05T07:33:21.395397Z",
     "iopub.status.idle": "2021-10-05T07:33:21.597232Z",
     "shell.execute_reply": "2021-10-05T07:33:21.596573Z",
     "shell.execute_reply.started": "2021-10-05T07:33:21.3956Z"
    }
   },
   "outputs": [
    {
     "data": {
      "image/png": "[encoded data removed]",
      "text/plain": [
       "<Figure size 432x432 with 1 Axes>"
      ]
     },
     "metadata": {},
     "output_type": "display_data"
    }
   ],
   "source": [
    "# Item_Fat_Content column\n",
    "plt.figure(figsize=(6,6))\n",
    "sns.countplot(x='Item_Fat_Content', data=df)\n",
    "plt.show()"
   ]
  },
  {
   "cell_type": "code",
   "execution_count": 22,
   "metadata": {
    "execution": {
     "iopub.execute_input": "2021-10-05T07:33:21.598766Z",
     "iopub.status.busy": "2021-10-05T07:33:21.598512Z",
     "iopub.status.idle": "2021-10-05T07:33:21.946313Z",
     "shell.execute_reply": "2021-10-05T07:33:21.945537Z",
     "shell.execute_reply.started": "2021-10-05T07:33:21.598735Z"
    }
   },
   "outputs": [
    {
     "data": {
      "image/png": "[encoded data removed]",
      "text/plain": [
       "<Figure size 2160x432 with 1 Axes>"
      ]
     },
     "metadata": {},
     "output_type": "display_data"
    }
   ],
   "source": [
    "# Item_Type column\n",
    "plt.figure(figsize=(30,6))\n",
    "sns.countplot(x='Item_Type', data=df)\n",
    "plt.show()"
   ]
  },
  {
   "cell_type": "code",
   "execution_count": 23,
   "metadata": {
    "execution": {
     "iopub.execute_input": "2021-10-05T07:33:21.947944Z",
     "iopub.status.busy": "2021-10-05T07:33:21.947588Z",
     "iopub.status.idle": "2021-10-05T07:33:22.140917Z",
     "shell.execute_reply": "2021-10-05T07:33:22.140208Z",
     "shell.execute_reply.started": "2021-10-05T07:33:21.947904Z"
    }
   },
   "outputs": [
    {
     "data": {
      "image/png": "[encoded data removed]",
      "text/plain": [
       "<Figure size 432x432 with 1 Axes>"
      ]
     },
     "metadata": {},
     "output_type": "display_data"
    }
   ],
   "source": [
    "# Outlet_Size column\n",
    "plt.figure(figsize=(6,6))\n",
    "sns.countplot(x='Outlet_Size', data=df)\n",
    "plt.show()"
   ]
  },
  {
   "cell_type": "markdown",
   "metadata": {},
   "source": [
    "# Data Pre=Processing"
   ]
  },
  {
   "cell_type": "code",
   "execution_count": 24,
   "metadata": {
    "execution": {
     "iopub.execute_input": "2021-10-05T07:33:22.142695Z",
     "iopub.status.busy": "2021-10-05T07:33:22.142418Z",
     "iopub.status.idle": "2021-10-05T07:33:22.162889Z",
     "shell.execute_reply": "2021-10-05T07:33:22.161987Z",
     "shell.execute_reply.started": "2021-10-05T07:33:22.142646Z"
    }
   },
   "outputs": [
    {
     "data": {
      "text/html": [
       "<div>\n",
       "<style scoped>\n",
       "    .dataframe tbody tr th:only-of-type {\n",
       "        vertical-align: middle;\n",
       "    }\n",
       "\n",
       "    .dataframe tbody tr th {\n",
       "        vertical-align: top;\n",
       "    }\n",
       "\n",
       "    .dataframe thead th {\n",
       "        text-align: right;\n",
       "    }\n",
       "</style>\n",
       "<table border=\"1\" class=\"dataframe\">\n",
       "  <thead>\n",
       "    <tr style=\"text-align: right;\">\n",
       "      <th></th>\n",
       "      <th>Item_Identifier</th>\n",
       "      <th>Item_Weight</th>\n",
       "      <th>Item_Fat_Content</th>\n",
       "      <th>Item_Visibility</th>\n",
       "      <th>Item_Type</th>\n",
       "      <th>Item_MRP</th>\n",
       "      <th>Outlet_Identifier</th>\n",
       "      <th>Outlet_Establishment_Year</th>\n",
       "      <th>Outlet_Size</th>\n",
       "      <th>Outlet_Location_Type</th>\n",
       "      <th>Outlet_Type</th>\n",
       "      <th>Item_Outlet_Sales</th>\n",
       "    </tr>\n",
       "  </thead>\n",
       "  <tbody>\n",
       "    <tr>\n",
       "      <th>0</th>\n",
       "      <td>FDA15</td>\n",
       "      <td>9.30</td>\n",
       "      <td>Low Fat</td>\n",
       "      <td>0.016047</td>\n",
       "      <td>Dairy</td>\n",
       "      <td>249.8092</td>\n",
       "      <td>OUT049</td>\n",
       "      <td>1999</td>\n",
       "      <td>Medium</td>\n",
       "      <td>Tier 1</td>\n",
       "      <td>Supermarket Type1</td>\n",
       "      <td>3735.1380</td>\n",
       "    </tr>\n",
       "    <tr>\n",
       "      <th>1</th>\n",
       "      <td>DRC01</td>\n",
       "      <td>5.92</td>\n",
       "      <td>Regular</td>\n",
       "      <td>0.019278</td>\n",
       "      <td>Soft Drinks</td>\n",
       "      <td>48.2692</td>\n",
       "      <td>OUT018</td>\n",
       "      <td>2009</td>\n",
       "      <td>Medium</td>\n",
       "      <td>Tier 3</td>\n",
       "      <td>Supermarket Type2</td>\n",
       "      <td>443.4228</td>\n",
       "    </tr>\n",
       "    <tr>\n",
       "      <th>2</th>\n",
       "      <td>FDN15</td>\n",
       "      <td>17.50</td>\n",
       "      <td>Low Fat</td>\n",
       "      <td>0.016760</td>\n",
       "      <td>Meat</td>\n",
       "      <td>141.6180</td>\n",
       "      <td>OUT049</td>\n",
       "      <td>1999</td>\n",
       "      <td>Medium</td>\n",
       "      <td>Tier 1</td>\n",
       "      <td>Supermarket Type1</td>\n",
       "      <td>2097.2700</td>\n",
       "    </tr>\n",
       "    <tr>\n",
       "      <th>3</th>\n",
       "      <td>FDX07</td>\n",
       "      <td>19.20</td>\n",
       "      <td>Regular</td>\n",
       "      <td>0.000000</td>\n",
       "      <td>Fruits and Vegetables</td>\n",
       "      <td>182.0950</td>\n",
       "      <td>OUT010</td>\n",
       "      <td>1998</td>\n",
       "      <td>Small</td>\n",
       "      <td>Tier 3</td>\n",
       "      <td>Grocery Store</td>\n",
       "      <td>732.3800</td>\n",
       "    </tr>\n",
       "    <tr>\n",
       "      <th>4</th>\n",
       "      <td>NCD19</td>\n",
       "      <td>8.93</td>\n",
       "      <td>Low Fat</td>\n",
       "      <td>0.000000</td>\n",
       "      <td>Household</td>\n",
       "      <td>53.8614</td>\n",
       "      <td>OUT013</td>\n",
       "      <td>1987</td>\n",
       "      <td>High</td>\n",
       "      <td>Tier 3</td>\n",
       "      <td>Supermarket Type1</td>\n",
       "      <td>994.7052</td>\n",
       "    </tr>\n",
       "  </tbody>\n",
       "</table>\n",
       "</div>"
      ],
      "text/plain": [
       "  Item_Identifier  Item_Weight Item_Fat_Content  Item_Visibility  \\\n",
       "0           FDA15         9.30          Low Fat         0.016047   \n",
       "1           DRC01         5.92          Regular         0.019278   \n",
       "2           FDN15        17.50          Low Fat         0.016760   \n",
       "3           FDX07        19.20          Regular         0.000000   \n",
       "4           NCD19         8.93          Low Fat         0.000000   \n",
       "\n",
       "               Item_Type  Item_MRP Outlet_Identifier  \\\n",
       "0                  Dairy  249.8092            OUT049   \n",
       "1            Soft Drinks   48.2692            OUT018   \n",
       "2                   Meat  141.6180            OUT049   \n",
       "3  Fruits and Vegetables  182.0950            OUT010   \n",
       "4              Household   53.8614            OUT013   \n",
       "\n",
       "   Outlet_Establishment_Year Outlet_Size Outlet_Location_Type  \\\n",
       "0                       1999      Medium               Tier 1   \n",
       "1                       2009      Medium               Tier 3   \n",
       "2                       1999      Medium               Tier 1   \n",
       "3                       1998       Small               Tier 3   \n",
       "4                       1987        High               Tier 3   \n",
       "\n",
       "         Outlet_Type  Item_Outlet_Sales  \n",
       "0  Supermarket Type1          3735.1380  \n",
       "1  Supermarket Type2           443.4228  \n",
       "2  Supermarket Type1          2097.2700  \n",
       "3      Grocery Store           732.3800  \n",
       "4  Supermarket Type1           994.7052  "
      ]
     },
     "execution_count": 24,
     "metadata": {},
     "output_type": "execute_result"
    }
   ],
   "source": [
    "df.head()"
   ]
  },
  {
   "cell_type": "code",
   "execution_count": 25,
   "metadata": {
    "execution": {
     "iopub.execute_input": "2021-10-05T07:33:22.165409Z",
     "iopub.status.busy": "2021-10-05T07:33:22.164996Z",
     "iopub.status.idle": "2021-10-05T07:33:22.175641Z",
     "shell.execute_reply": "2021-10-05T07:33:22.174739Z",
     "shell.execute_reply.started": "2021-10-05T07:33:22.165371Z"
    }
   },
   "outputs": [
    {
     "data": {
      "text/plain": [
       "Low Fat    5089\n",
       "Regular    2889\n",
       "LF          316\n",
       "reg         117\n",
       "low fat     112\n",
       "Name: Item_Fat_Content, dtype: int64"
      ]
     },
     "execution_count": 25,
     "metadata": {},
     "output_type": "execute_result"
    }
   ],
   "source": [
    "df['Item_Fat_Content'].value_counts()"
   ]
  },
  {
   "cell_type": "code",
   "execution_count": 26,
   "metadata": {
    "execution": {
     "iopub.execute_input": "2021-10-05T07:33:22.177899Z",
     "iopub.status.busy": "2021-10-05T07:33:22.177042Z",
     "iopub.status.idle": "2021-10-05T07:33:22.18792Z",
     "shell.execute_reply": "2021-10-05T07:33:22.187205Z",
     "shell.execute_reply.started": "2021-10-05T07:33:22.177858Z"
    }
   },
   "outputs": [],
   "source": [
    "df.replace({'Item_Fat_Content':{'low fat':'Low Fat', 'LF':'Low Fat', 'reg':'Regular'}},inplace=True)"
   ]
  },
  {
   "cell_type": "code",
   "execution_count": 27,
   "metadata": {
    "execution": {
     "iopub.execute_input": "2021-10-05T07:33:22.189699Z",
     "iopub.status.busy": "2021-10-05T07:33:22.189247Z",
     "iopub.status.idle": "2021-10-05T07:33:22.200475Z",
     "shell.execute_reply": "2021-10-05T07:33:22.199559Z",
     "shell.execute_reply.started": "2021-10-05T07:33:22.189563Z"
    }
   },
   "outputs": [
    {
     "data": {
      "text/plain": [
       "Low Fat    5517\n",
       "Regular    3006\n",
       "Name: Item_Fat_Content, dtype: int64"
      ]
     },
     "execution_count": 27,
     "metadata": {},
     "output_type": "execute_result"
    }
   ],
   "source": [
    "df['Item_Fat_Content'].value_counts()"
   ]
  },
  {
   "cell_type": "markdown",
   "metadata": {},
   "source": [
    "### Label Encoding"
   ]
  },
  {
   "cell_type": "code",
   "execution_count": 28,
   "metadata": {
    "execution": {
     "iopub.execute_input": "2021-10-05T07:33:22.206418Z",
     "iopub.status.busy": "2021-10-05T07:33:22.206219Z",
     "iopub.status.idle": "2021-10-05T07:33:22.210138Z",
     "shell.execute_reply": "2021-10-05T07:33:22.209039Z",
     "shell.execute_reply.started": "2021-10-05T07:33:22.206396Z"
    }
   },
   "outputs": [],
   "source": [
    "from sklearn.preprocessing import LabelEncoder"
   ]
  },
  {
   "cell_type": "code",
   "execution_count": 29,
   "metadata": {
    "execution": {
     "iopub.execute_input": "2021-10-05T07:33:22.211908Z",
     "iopub.status.busy": "2021-10-05T07:33:22.211582Z",
     "iopub.status.idle": "2021-10-05T07:33:22.218275Z",
     "shell.execute_reply": "2021-10-05T07:33:22.217396Z",
     "shell.execute_reply.started": "2021-10-05T07:33:22.211872Z"
    }
   },
   "outputs": [],
   "source": [
    "encoder = LabelEncoder()"
   ]
  },
  {
   "cell_type": "code",
   "execution_count": 30,
   "metadata": {
    "execution": {
     "iopub.execute_input": "2021-10-05T07:33:22.220192Z",
     "iopub.status.busy": "2021-10-05T07:33:22.219896Z",
     "iopub.status.idle": "2021-10-05T07:33:22.250079Z",
     "shell.execute_reply": "2021-10-05T07:33:22.249398Z",
     "shell.execute_reply.started": "2021-10-05T07:33:22.220151Z"
    }
   },
   "outputs": [],
   "source": [
    "df['Item_Identifier'] = encoder.fit_transform(df['Item_Identifier'])\n",
    "\n",
    "df['Item_Fat_Content'] = encoder.fit_transform(df['Item_Fat_Content'])\n",
    "\n",
    "df['Item_Type'] = encoder.fit_transform(df['Item_Type'])\n",
    "\n",
    "df['Outlet_Identifier'] = encoder.fit_transform(df['Outlet_Identifier'])\n",
    "\n",
    "df['Outlet_Size'] = encoder.fit_transform(df['Outlet_Size'])\n",
    "\n",
    "df['Outlet_Location_Type'] = encoder.fit_transform(df['Outlet_Location_Type'])\n",
    "\n",
    "df['Outlet_Type'] = encoder.fit_transform(df['Outlet_Type'])"
   ]
  },
  {
   "cell_type": "code",
   "execution_count": 31,
   "metadata": {
    "execution": {
     "iopub.execute_input": "2021-10-05T07:33:22.253294Z",
     "iopub.status.busy": "2021-10-05T07:33:22.253058Z",
     "iopub.status.idle": "2021-10-05T07:33:22.273937Z",
     "shell.execute_reply": "2021-10-05T07:33:22.272919Z",
     "shell.execute_reply.started": "2021-10-05T07:33:22.25327Z"
    }
   },
   "outputs": [
    {
     "data": {
      "text/html": [
       "<div>\n",
       "<style scoped>\n",
       "    .dataframe tbody tr th:only-of-type {\n",
       "        vertical-align: middle;\n",
       "    }\n",
       "\n",
       "    .dataframe tbody tr th {\n",
       "        vertical-align: top;\n",
       "    }\n",
       "\n",
       "    .dataframe thead th {\n",
       "        text-align: right;\n",
       "    }\n",
       "</style>\n",
       "<table border=\"1\" class=\"dataframe\">\n",
       "  <thead>\n",
       "    <tr style=\"text-align: right;\">\n",
       "      <th></th>\n",
       "      <th>Item_Identifier</th>\n",
       "      <th>Item_Weight</th>\n",
       "      <th>Item_Fat_Content</th>\n",
       "      <th>Item_Visibility</th>\n",
       "      <th>Item_Type</th>\n",
       "      <th>Item_MRP</th>\n",
       "      <th>Outlet_Identifier</th>\n",
       "      <th>Outlet_Establishment_Year</th>\n",
       "      <th>Outlet_Size</th>\n",
       "      <th>Outlet_Location_Type</th>\n",
       "      <th>Outlet_Type</th>\n",
       "      <th>Item_Outlet_Sales</th>\n",
       "    </tr>\n",
       "  </thead>\n",
       "  <tbody>\n",
       "    <tr>\n",
       "      <th>0</th>\n",
       "      <td>156</td>\n",
       "      <td>9.30</td>\n",
       "      <td>0</td>\n",
       "      <td>0.016047</td>\n",
       "      <td>4</td>\n",
       "      <td>249.8092</td>\n",
       "      <td>9</td>\n",
       "      <td>1999</td>\n",
       "      <td>1</td>\n",
       "      <td>0</td>\n",
       "      <td>1</td>\n",
       "      <td>3735.1380</td>\n",
       "    </tr>\n",
       "    <tr>\n",
       "      <th>1</th>\n",
       "      <td>8</td>\n",
       "      <td>5.92</td>\n",
       "      <td>1</td>\n",
       "      <td>0.019278</td>\n",
       "      <td>14</td>\n",
       "      <td>48.2692</td>\n",
       "      <td>3</td>\n",
       "      <td>2009</td>\n",
       "      <td>1</td>\n",
       "      <td>2</td>\n",
       "      <td>2</td>\n",
       "      <td>443.4228</td>\n",
       "    </tr>\n",
       "    <tr>\n",
       "      <th>2</th>\n",
       "      <td>662</td>\n",
       "      <td>17.50</td>\n",
       "      <td>0</td>\n",
       "      <td>0.016760</td>\n",
       "      <td>10</td>\n",
       "      <td>141.6180</td>\n",
       "      <td>9</td>\n",
       "      <td>1999</td>\n",
       "      <td>1</td>\n",
       "      <td>0</td>\n",
       "      <td>1</td>\n",
       "      <td>2097.2700</td>\n",
       "    </tr>\n",
       "    <tr>\n",
       "      <th>3</th>\n",
       "      <td>1121</td>\n",
       "      <td>19.20</td>\n",
       "      <td>1</td>\n",
       "      <td>0.000000</td>\n",
       "      <td>6</td>\n",
       "      <td>182.0950</td>\n",
       "      <td>0</td>\n",
       "      <td>1998</td>\n",
       "      <td>2</td>\n",
       "      <td>2</td>\n",
       "      <td>0</td>\n",
       "      <td>732.3800</td>\n",
       "    </tr>\n",
       "    <tr>\n",
       "      <th>4</th>\n",
       "      <td>1297</td>\n",
       "      <td>8.93</td>\n",
       "      <td>0</td>\n",
       "      <td>0.000000</td>\n",
       "      <td>9</td>\n",
       "      <td>53.8614</td>\n",
       "      <td>1</td>\n",
       "      <td>1987</td>\n",
       "      <td>0</td>\n",
       "      <td>2</td>\n",
       "      <td>1</td>\n",
       "      <td>994.7052</td>\n",
       "    </tr>\n",
       "  </tbody>\n",
       "</table>\n",
       "</div>"
      ],
      "text/plain": [
       "   Item_Identifier  Item_Weight  Item_Fat_Content  Item_Visibility  Item_Type  \\\n",
       "0              156         9.30                 0         0.016047          4   \n",
       "1                8         5.92                 1         0.019278         14   \n",
       "2              662        17.50                 0         0.016760         10   \n",
       "3             1121        19.20                 1         0.000000          6   \n",
       "4             1297         8.93                 0         0.000000          9   \n",
       "\n",
       "   Item_MRP  Outlet_Identifier  Outlet_Establishment_Year  Outlet_Size  \\\n",
       "0  249.8092                  9                       1999            1   \n",
       "1   48.2692                  3                       2009            1   \n",
       "2  141.6180                  9                       1999            1   \n",
       "3  182.0950                  0                       1998            2   \n",
       "4   53.8614                  1                       1987            0   \n",
       "\n",
       "   Outlet_Location_Type  Outlet_Type  Item_Outlet_Sales  \n",
       "0                     0            1          3735.1380  \n",
       "1                     2            2           443.4228  \n",
       "2                     0            1          2097.2700  \n",
       "3                     2            0           732.3800  \n",
       "4                     2            1           994.7052  "
      ]
     },
     "execution_count": 31,
     "metadata": {},
     "output_type": "execute_result"
    }
   ],
   "source": [
    "df.head()"
   ]
  },
  {
   "cell_type": "markdown",
   "metadata": {},
   "source": [
    "# Splitting features and Target"
   ]
  },
  {
   "cell_type": "code",
   "execution_count": 32,
   "metadata": {
    "execution": {
     "iopub.execute_input": "2021-10-05T07:33:22.275737Z",
     "iopub.status.busy": "2021-10-05T07:33:22.275316Z",
     "iopub.status.idle": "2021-10-05T07:33:22.284704Z",
     "shell.execute_reply": "2021-10-05T07:33:22.283811Z",
     "shell.execute_reply.started": "2021-10-05T07:33:22.2757Z"
    }
   },
   "outputs": [],
   "source": [
    "X = df.iloc[:,:-1].values\n",
    "y = df.iloc[:,-1].values"
   ]
  },
  {
   "cell_type": "code",
   "execution_count": 33,
   "metadata": {
    "execution": {
     "iopub.execute_input": "2021-10-05T07:33:22.286589Z",
     "iopub.status.busy": "2021-10-05T07:33:22.286273Z",
     "iopub.status.idle": "2021-10-05T07:33:22.294171Z",
     "shell.execute_reply": "2021-10-05T07:33:22.293157Z",
     "shell.execute_reply.started": "2021-10-05T07:33:22.286533Z"
    }
   },
   "outputs": [
    {
     "name": "stdout",
     "output_type": "stream",
     "text": [
      "[[1.560e+02 9.300e+00 0.000e+00 ... 1.000e+00 0.000e+00 1.000e+00]\n",
      " [8.000e+00 5.920e+00 1.000e+00 ... 1.000e+00 2.000e+00 2.000e+00]\n",
      " [6.620e+02 1.750e+01 0.000e+00 ... 1.000e+00 0.000e+00 1.000e+00]\n",
      " ...\n",
      " [1.357e+03 1.060e+01 0.000e+00 ... 2.000e+00 1.000e+00 1.000e+00]\n",
      " [6.810e+02 7.210e+00 1.000e+00 ... 1.000e+00 2.000e+00 2.000e+00]\n",
      " [5.000e+01 1.480e+01 0.000e+00 ... 2.000e+00 0.000e+00 1.000e+00]]\n"
     ]
    }
   ],
   "source": [
    "print(X)"
   ]
  },
  {
   "cell_type": "code",
   "execution_count": 34,
   "metadata": {
    "execution": {
     "iopub.execute_input": "2021-10-05T07:33:22.296207Z",
     "iopub.status.busy": "2021-10-05T07:33:22.29591Z",
     "iopub.status.idle": "2021-10-05T07:33:22.302325Z",
     "shell.execute_reply": "2021-10-05T07:33:22.301518Z",
     "shell.execute_reply.started": "2021-10-05T07:33:22.296173Z"
    }
   },
   "outputs": [
    {
     "name": "stdout",
     "output_type": "stream",
     "text": [
      "[3735.138   443.4228 2097.27   ... 1193.1136 1845.5976  765.67  ]\n"
     ]
    }
   ],
   "source": [
    "print(y)"
   ]
  },
  {
   "cell_type": "markdown",
   "metadata": {},
   "source": [
    "# Splitting into Train Test Split"
   ]
  },
  {
   "cell_type": "code",
   "execution_count": 35,
   "metadata": {
    "execution": {
     "iopub.execute_input": "2021-10-05T07:33:22.304249Z",
     "iopub.status.busy": "2021-10-05T07:33:22.303694Z",
     "iopub.status.idle": "2021-10-05T07:33:22.351422Z",
     "shell.execute_reply": "2021-10-05T07:33:22.350774Z",
     "shell.execute_reply.started": "2021-10-05T07:33:22.304214Z"
    }
   },
   "outputs": [],
   "source": [
    "from sklearn.model_selection import train_test_split\n",
    "X_train, X_test, y_train, y_test = train_test_split(X,y, test_size=0.2, random_state=0)"
   ]
  },
  {
   "cell_type": "code",
   "execution_count": 36,
   "metadata": {
    "execution": {
     "iopub.execute_input": "2021-10-05T07:33:22.352776Z",
     "iopub.status.busy": "2021-10-05T07:33:22.352525Z",
     "iopub.status.idle": "2021-10-05T07:33:22.357839Z",
     "shell.execute_reply": "2021-10-05T07:33:22.356822Z",
     "shell.execute_reply.started": "2021-10-05T07:33:22.352744Z"
    }
   },
   "outputs": [
    {
     "name": "stdout",
     "output_type": "stream",
     "text": [
      "(8523, 11) (6818, 11) (1705, 11)\n"
     ]
    }
   ],
   "source": [
    "print(X.shape, X_train.shape, X_test.shape)"
   ]
  },
  {
   "cell_type": "markdown",
   "metadata": {},
   "source": [
    "# Training Algortihm"
   ]
  },
  {
   "cell_type": "code",
   "execution_count": 37,
   "metadata": {
    "execution": {
     "iopub.execute_input": "2021-10-05T07:33:22.359773Z",
     "iopub.status.busy": "2021-10-05T07:33:22.359253Z",
     "iopub.status.idle": "2021-10-05T07:33:22.364898Z",
     "shell.execute_reply": "2021-10-05T07:33:22.364076Z",
     "shell.execute_reply.started": "2021-10-05T07:33:22.359719Z"
    }
   },
   "outputs": [],
   "source": [
    "from tensorflow.keras.models import Sequential\n",
    "from tensorflow.keras.layers import Dense"
   ]
  },
  {
   "cell_type": "code",
   "execution_count": 38,
   "metadata": {
    "execution": {
     "iopub.execute_input": "2021-10-05T07:34:56.066883Z",
     "iopub.status.busy": "2021-10-05T07:34:56.06661Z",
     "iopub.status.idle": "2021-10-05T07:34:56.086533Z",
     "shell.execute_reply": "2021-10-05T07:34:56.085786Z",
     "shell.execute_reply.started": "2021-10-05T07:34:56.066854Z"
    }
   },
   "outputs": [],
   "source": [
    "model = Sequential()\n",
    "\n",
    "model.add(Dense(20, activation='relu'))\n",
    "model.add(Dense(10, activation='relu'))\n",
    "model.add(Dense(5, activation='relu'))\n",
    "\n",
    "model.add(Dense(1)) # output layer\n",
    "\n",
    "model.compile(optimizer='rmsprop', loss='mse')"
   ]
  },
  {
   "cell_type": "code",
   "execution_count": 39,
   "metadata": {
    "execution": {
     "iopub.execute_input": "2021-10-05T07:34:56.706664Z",
     "iopub.status.busy": "2021-10-05T07:34:56.705953Z",
     "iopub.status.idle": "2021-10-05T07:35:18.563725Z",
     "shell.execute_reply": "2021-10-05T07:35:18.563058Z",
     "shell.execute_reply.started": "2021-10-05T07:34:56.706625Z"
    }
   },
   "outputs": [
    {
     "name": "stdout",
     "output_type": "stream",
     "text": [
      "Epoch 1/50\n",
      "214/214 [==============================] - 3s 2ms/step - loss: 3803528.5919\n",
      "Epoch 2/50\n",
      "214/214 [==============================] - 0s 2ms/step - loss: 2864129.6198\n",
      "Epoch 3/50\n",
      "214/214 [==============================] - 1s 2ms/step - loss: 2837252.8488\n",
      "Epoch 4/50\n",
      "214/214 [==============================] - 1s 2ms/step - loss: 2748086.5302\n",
      "Epoch 5/50\n",
      "214/214 [==============================] - 0s 2ms/step - loss: 2389358.7651\n",
      "Epoch 6/50\n",
      "214/214 [==============================] - 0s 2ms/step - loss: 2397730.6826\n",
      "Epoch 7/50\n",
      "214/214 [==============================] - 0s 2ms/step - loss: 2215295.0570\n",
      "Epoch 8/50\n",
      "214/214 [==============================] - 0s 2ms/step - loss: 2043277.4430\n",
      "Epoch 9/50\n",
      "214/214 [==============================] - 0s 2ms/step - loss: 1983365.8198\n",
      "Epoch 10/50\n",
      "214/214 [==============================] - 0s 2ms/step - loss: 1962997.1012\n",
      "Epoch 11/50\n",
      "214/214 [==============================] - 0s 2ms/step - loss: 1922940.2157\n",
      "Epoch 12/50\n",
      "214/214 [==============================] - 0s 2ms/step - loss: 1999876.3453\n",
      "Epoch 13/50\n",
      "214/214 [==============================] - 0s 2ms/step - loss: 1836026.0506\n",
      "Epoch 14/50\n",
      "214/214 [==============================] - 0s 2ms/step - loss: 1947659.9547\n",
      "Epoch 15/50\n",
      "214/214 [==============================] - 0s 2ms/step - loss: 1873761.8064\n",
      "Epoch 16/50\n",
      "214/214 [==============================] - 0s 2ms/step - loss: 1967243.1134\n",
      "Epoch 17/50\n",
      "214/214 [==============================] - 0s 2ms/step - loss: 1975822.3669\n",
      "Epoch 18/50\n",
      "214/214 [==============================] - 0s 2ms/step - loss: 1954519.0744\n",
      "Epoch 19/50\n",
      "214/214 [==============================] - 0s 2ms/step - loss: 1957266.0860\n",
      "Epoch 20/50\n",
      "214/214 [==============================] - 0s 2ms/step - loss: 1883643.0302\n",
      "Epoch 21/50\n",
      "214/214 [==============================] - 0s 2ms/step - loss: 1840704.6262\n",
      "Epoch 22/50\n",
      "214/214 [==============================] - 0s 2ms/step - loss: 1833936.0093\n",
      "Epoch 23/50\n",
      "214/214 [==============================] - 0s 2ms/step - loss: 1880524.2134\n",
      "Epoch 24/50\n",
      "214/214 [==============================] - 0s 2ms/step - loss: 1881409.8314\n",
      "Epoch 25/50\n",
      "214/214 [==============================] - 0s 2ms/step - loss: 1820747.6105\n",
      "Epoch 26/50\n",
      "214/214 [==============================] - 0s 2ms/step - loss: 1832158.0733\n",
      "Epoch 27/50\n",
      "214/214 [==============================] - 0s 2ms/step - loss: 1925484.2250\n",
      "Epoch 28/50\n",
      "214/214 [==============================] - 0s 2ms/step - loss: 1834015.2535\n",
      "Epoch 29/50\n",
      "214/214 [==============================] - 1s 3ms/step - loss: 1825340.7744\n",
      "Epoch 30/50\n",
      "214/214 [==============================] - 0s 2ms/step - loss: 1816072.0413\n",
      "Epoch 31/50\n",
      "214/214 [==============================] - 0s 2ms/step - loss: 1776600.3465\n",
      "Epoch 32/50\n",
      "214/214 [==============================] - 0s 2ms/step - loss: 1876321.3442\n",
      "Epoch 33/50\n",
      "214/214 [==============================] - 0s 2ms/step - loss: 1819908.9674\n",
      "Epoch 34/50\n",
      "214/214 [==============================] - 0s 2ms/step - loss: 1840206.2849\n",
      "Epoch 35/50\n",
      "214/214 [==============================] - 0s 2ms/step - loss: 1764919.8570\n",
      "Epoch 36/50\n",
      "214/214 [==============================] - 0s 2ms/step - loss: 1783327.9552\n",
      "Epoch 37/50\n",
      "214/214 [==============================] - 1s 3ms/step - loss: 1715598.4523\n",
      "Epoch 38/50\n",
      "214/214 [==============================] - 1s 3ms/step - loss: 1678151.6977\n",
      "Epoch 39/50\n",
      "214/214 [==============================] - 0s 2ms/step - loss: 1737761.9273\n",
      "Epoch 40/50\n",
      "214/214 [==============================] - 0s 2ms/step - loss: 1675623.9875\n",
      "Epoch 41/50\n",
      "214/214 [==============================] - 1s 2ms/step - loss: 1699064.4831\n",
      "Epoch 42/50\n",
      "214/214 [==============================] - 0s 2ms/step - loss: 1685363.2645\n",
      "Epoch 43/50\n",
      "214/214 [==============================] - 1s 3ms/step - loss: 1695143.1907\n",
      "Epoch 44/50\n",
      "214/214 [==============================] - 1s 3ms/step - loss: 1704447.8634\n",
      "Epoch 45/50\n",
      "214/214 [==============================] - 0s 2ms/step - loss: 1609021.3698\n",
      "Epoch 46/50\n",
      "214/214 [==============================] - 0s 2ms/step - loss: 1703765.8948\n",
      "Epoch 47/50\n",
      "214/214 [==============================] - 0s 2ms/step - loss: 1658088.1012\n",
      "Epoch 48/50\n",
      "214/214 [==============================] - 0s 2ms/step - loss: 1696245.6326\n",
      "Epoch 49/50\n",
      "214/214 [==============================] - 0s 2ms/step - loss: 1644097.3384\n",
      "Epoch 50/50\n",
      "214/214 [==============================] - 0s 2ms/step - loss: 1578299.9663\n"
     ]
    },
    {
     "data": {
      "text/plain": [
       "<tensorflow.python.keras.callbacks.History at 0x1fccfc2dc10>"
      ]
     },
     "execution_count": 39,
     "metadata": {},
     "output_type": "execute_result"
    }
   ],
   "source": [
    "model.fit(x = X_train, y = y_train, epochs=50)"
   ]
  },
  {
   "cell_type": "code",
   "execution_count": 40,
   "metadata": {
    "execution": {
     "iopub.execute_input": "2021-10-05T07:35:18.566467Z",
     "iopub.status.busy": "2021-10-05T07:35:18.56627Z",
     "iopub.status.idle": "2021-10-05T07:35:18.574786Z",
     "shell.execute_reply": "2021-10-05T07:35:18.574038Z",
     "shell.execute_reply.started": "2021-10-05T07:35:18.566444Z"
    }
   },
   "outputs": [
    {
     "name": "stdout",
     "output_type": "stream",
     "text": [
      "Model: \"sequential\"\n",
      "_________________________________________________________________\n",
      "Layer (type)                 Output Shape              Param #   \n",
      "=================================================================\n",
      "dense (Dense)                (None, 20)                240       \n",
      "_________________________________________________________________\n",
      "dense_1 (Dense)              (None, 10)                210       \n",
      "_________________________________________________________________\n",
      "dense_2 (Dense)              (None, 5)                 55        \n",
      "_________________________________________________________________\n",
      "dense_3 (Dense)              (None, 1)                 6         \n",
      "=================================================================\n",
      "Total params: 511\n",
      "Trainable params: 511\n",
      "Non-trainable params: 0\n",
      "_________________________________________________________________\n"
     ]
    }
   ],
   "source": [
    "model.summary()"
   ]
  },
  {
   "cell_type": "code",
   "execution_count": 41,
   "metadata": {
    "execution": {
     "iopub.execute_input": "2021-10-05T07:35:18.578245Z",
     "iopub.status.busy": "2021-10-05T07:35:18.577896Z",
     "iopub.status.idle": "2021-10-05T07:35:18.583437Z",
     "shell.execute_reply": "2021-10-05T07:35:18.582439Z",
     "shell.execute_reply.started": "2021-10-05T07:35:18.578102Z"
    }
   },
   "outputs": [],
   "source": [
    "loss_df = pd.DataFrame(model.history.history)"
   ]
  },
  {
   "cell_type": "code",
   "execution_count": 42,
   "metadata": {
    "execution": {
     "iopub.execute_input": "2021-10-05T07:35:18.586411Z",
     "iopub.status.busy": "2021-10-05T07:35:18.585266Z",
     "iopub.status.idle": "2021-10-05T07:35:18.602331Z",
     "shell.execute_reply": "2021-10-05T07:35:18.601267Z",
     "shell.execute_reply.started": "2021-10-05T07:35:18.586375Z"
    }
   },
   "outputs": [
    {
     "data": {
      "text/html": [
       "<div>\n",
       "<style scoped>\n",
       "    .dataframe tbody tr th:only-of-type {\n",
       "        vertical-align: middle;\n",
       "    }\n",
       "\n",
       "    .dataframe tbody tr th {\n",
       "        vertical-align: top;\n",
       "    }\n",
       "\n",
       "    .dataframe thead th {\n",
       "        text-align: right;\n",
       "    }\n",
       "</style>\n",
       "<table border=\"1\" class=\"dataframe\">\n",
       "  <thead>\n",
       "    <tr style=\"text-align: right;\">\n",
       "      <th></th>\n",
       "      <th>loss</th>\n",
       "    </tr>\n",
       "  </thead>\n",
       "  <tbody>\n",
       "    <tr>\n",
       "      <th>0</th>\n",
       "      <td>3288654.750</td>\n",
       "    </tr>\n",
       "    <tr>\n",
       "      <th>1</th>\n",
       "      <td>2863846.750</td>\n",
       "    </tr>\n",
       "    <tr>\n",
       "      <th>2</th>\n",
       "      <td>2755334.500</td>\n",
       "    </tr>\n",
       "    <tr>\n",
       "      <th>3</th>\n",
       "      <td>2621030.250</td>\n",
       "    </tr>\n",
       "    <tr>\n",
       "      <th>4</th>\n",
       "      <td>2464633.750</td>\n",
       "    </tr>\n",
       "    <tr>\n",
       "      <th>5</th>\n",
       "      <td>2275816.500</td>\n",
       "    </tr>\n",
       "    <tr>\n",
       "      <th>6</th>\n",
       "      <td>2110273.000</td>\n",
       "    </tr>\n",
       "    <tr>\n",
       "      <th>7</th>\n",
       "      <td>1999052.875</td>\n",
       "    </tr>\n",
       "    <tr>\n",
       "      <th>8</th>\n",
       "      <td>1952608.000</td>\n",
       "    </tr>\n",
       "    <tr>\n",
       "      <th>9</th>\n",
       "      <td>1935252.875</td>\n",
       "    </tr>\n",
       "    <tr>\n",
       "      <th>10</th>\n",
       "      <td>1932021.750</td>\n",
       "    </tr>\n",
       "    <tr>\n",
       "      <th>11</th>\n",
       "      <td>1921188.250</td>\n",
       "    </tr>\n",
       "    <tr>\n",
       "      <th>12</th>\n",
       "      <td>1917158.125</td>\n",
       "    </tr>\n",
       "    <tr>\n",
       "      <th>13</th>\n",
       "      <td>1914101.375</td>\n",
       "    </tr>\n",
       "    <tr>\n",
       "      <th>14</th>\n",
       "      <td>1906629.000</td>\n",
       "    </tr>\n",
       "    <tr>\n",
       "      <th>15</th>\n",
       "      <td>1896898.000</td>\n",
       "    </tr>\n",
       "    <tr>\n",
       "      <th>16</th>\n",
       "      <td>1894647.500</td>\n",
       "    </tr>\n",
       "    <tr>\n",
       "      <th>17</th>\n",
       "      <td>1893497.375</td>\n",
       "    </tr>\n",
       "    <tr>\n",
       "      <th>18</th>\n",
       "      <td>1882295.125</td>\n",
       "    </tr>\n",
       "    <tr>\n",
       "      <th>19</th>\n",
       "      <td>1875134.500</td>\n",
       "    </tr>\n",
       "    <tr>\n",
       "      <th>20</th>\n",
       "      <td>1871613.875</td>\n",
       "    </tr>\n",
       "    <tr>\n",
       "      <th>21</th>\n",
       "      <td>1860044.500</td>\n",
       "    </tr>\n",
       "    <tr>\n",
       "      <th>22</th>\n",
       "      <td>1858927.875</td>\n",
       "    </tr>\n",
       "    <tr>\n",
       "      <th>23</th>\n",
       "      <td>1852845.750</td>\n",
       "    </tr>\n",
       "    <tr>\n",
       "      <th>24</th>\n",
       "      <td>1848509.875</td>\n",
       "    </tr>\n",
       "    <tr>\n",
       "      <th>25</th>\n",
       "      <td>1837633.625</td>\n",
       "    </tr>\n",
       "    <tr>\n",
       "      <th>26</th>\n",
       "      <td>1829382.750</td>\n",
       "    </tr>\n",
       "    <tr>\n",
       "      <th>27</th>\n",
       "      <td>1822435.250</td>\n",
       "    </tr>\n",
       "    <tr>\n",
       "      <th>28</th>\n",
       "      <td>1818384.750</td>\n",
       "    </tr>\n",
       "    <tr>\n",
       "      <th>29</th>\n",
       "      <td>1810866.375</td>\n",
       "    </tr>\n",
       "    <tr>\n",
       "      <th>30</th>\n",
       "      <td>1799296.750</td>\n",
       "    </tr>\n",
       "    <tr>\n",
       "      <th>31</th>\n",
       "      <td>1795064.625</td>\n",
       "    </tr>\n",
       "    <tr>\n",
       "      <th>32</th>\n",
       "      <td>1782541.500</td>\n",
       "    </tr>\n",
       "    <tr>\n",
       "      <th>33</th>\n",
       "      <td>1774027.000</td>\n",
       "    </tr>\n",
       "    <tr>\n",
       "      <th>34</th>\n",
       "      <td>1764012.250</td>\n",
       "    </tr>\n",
       "    <tr>\n",
       "      <th>35</th>\n",
       "      <td>1756607.375</td>\n",
       "    </tr>\n",
       "    <tr>\n",
       "      <th>36</th>\n",
       "      <td>1744947.375</td>\n",
       "    </tr>\n",
       "    <tr>\n",
       "      <th>37</th>\n",
       "      <td>1729995.250</td>\n",
       "    </tr>\n",
       "    <tr>\n",
       "      <th>38</th>\n",
       "      <td>1719055.375</td>\n",
       "    </tr>\n",
       "    <tr>\n",
       "      <th>39</th>\n",
       "      <td>1707521.750</td>\n",
       "    </tr>\n",
       "    <tr>\n",
       "      <th>40</th>\n",
       "      <td>1694152.125</td>\n",
       "    </tr>\n",
       "    <tr>\n",
       "      <th>41</th>\n",
       "      <td>1684453.125</td>\n",
       "    </tr>\n",
       "    <tr>\n",
       "      <th>42</th>\n",
       "      <td>1672295.500</td>\n",
       "    </tr>\n",
       "    <tr>\n",
       "      <th>43</th>\n",
       "      <td>1660038.125</td>\n",
       "    </tr>\n",
       "    <tr>\n",
       "      <th>44</th>\n",
       "      <td>1646492.250</td>\n",
       "    </tr>\n",
       "    <tr>\n",
       "      <th>45</th>\n",
       "      <td>1639009.750</td>\n",
       "    </tr>\n",
       "    <tr>\n",
       "      <th>46</th>\n",
       "      <td>1623640.000</td>\n",
       "    </tr>\n",
       "    <tr>\n",
       "      <th>47</th>\n",
       "      <td>1611208.875</td>\n",
       "    </tr>\n",
       "    <tr>\n",
       "      <th>48</th>\n",
       "      <td>1598716.375</td>\n",
       "    </tr>\n",
       "    <tr>\n",
       "      <th>49</th>\n",
       "      <td>1585104.750</td>\n",
       "    </tr>\n",
       "  </tbody>\n",
       "</table>\n",
       "</div>"
      ],
      "text/plain": [
       "           loss\n",
       "0   3288654.750\n",
       "1   2863846.750\n",
       "2   2755334.500\n",
       "3   2621030.250\n",
       "4   2464633.750\n",
       "5   2275816.500\n",
       "6   2110273.000\n",
       "7   1999052.875\n",
       "8   1952608.000\n",
       "9   1935252.875\n",
       "10  1932021.750\n",
       "11  1921188.250\n",
       "12  1917158.125\n",
       "13  1914101.375\n",
       "14  1906629.000\n",
       "15  1896898.000\n",
       "16  1894647.500\n",
       "17  1893497.375\n",
       "18  1882295.125\n",
       "19  1875134.500\n",
       "20  1871613.875\n",
       "21  1860044.500\n",
       "22  1858927.875\n",
       "23  1852845.750\n",
       "24  1848509.875\n",
       "25  1837633.625\n",
       "26  1829382.750\n",
       "27  1822435.250\n",
       "28  1818384.750\n",
       "29  1810866.375\n",
       "30  1799296.750\n",
       "31  1795064.625\n",
       "32  1782541.500\n",
       "33  1774027.000\n",
       "34  1764012.250\n",
       "35  1756607.375\n",
       "36  1744947.375\n",
       "37  1729995.250\n",
       "38  1719055.375\n",
       "39  1707521.750\n",
       "40  1694152.125\n",
       "41  1684453.125\n",
       "42  1672295.500\n",
       "43  1660038.125\n",
       "44  1646492.250\n",
       "45  1639009.750\n",
       "46  1623640.000\n",
       "47  1611208.875\n",
       "48  1598716.375\n",
       "49  1585104.750"
      ]
     },
     "execution_count": 42,
     "metadata": {},
     "output_type": "execute_result"
    }
   ],
   "source": [
    "loss_df"
   ]
  },
  {
   "cell_type": "code",
   "execution_count": 43,
   "metadata": {
    "execution": {
     "iopub.execute_input": "2021-10-05T07:35:18.604424Z",
     "iopub.status.busy": "2021-10-05T07:35:18.60384Z",
     "iopub.status.idle": "2021-10-05T07:35:18.874953Z",
     "shell.execute_reply": "2021-10-05T07:35:18.87429Z",
     "shell.execute_reply.started": "2021-10-05T07:35:18.604387Z"
    }
   },
   "outputs": [
    {
     "data": {
      "text/plain": [
       "<AxesSubplot:>"
      ]
     },
     "execution_count": 43,
     "metadata": {},
     "output_type": "execute_result"
    },
    {
     "data": {
      "image/png": "[encoded data removed]",
      "text/plain": [
       "<Figure size 432x288 with 1 Axes>"
      ]
     },
     "metadata": {},
     "output_type": "display_data"
    }
   ],
   "source": [
    "loss_df.plot()"
   ]
  },
  {
   "cell_type": "markdown",
   "metadata": {},
   "source": [
    "From above graph we can say that loss of our model decreasing significantly."
   ]
  },
  {
   "cell_type": "markdown",
   "metadata": {},
   "source": [
    "# Model Evaluation"
   ]
  },
  {
   "cell_type": "code",
   "execution_count": 44,
   "metadata": {
    "execution": {
     "iopub.execute_input": "2021-10-05T07:35:27.531022Z",
     "iopub.status.busy": "2021-10-05T07:35:27.530764Z",
     "iopub.status.idle": "2021-10-05T07:35:27.679007Z",
     "shell.execute_reply": "2021-10-05T07:35:27.678289Z",
     "shell.execute_reply.started": "2021-10-05T07:35:27.530992Z"
    }
   },
   "outputs": [
    {
     "name": "stdout",
     "output_type": "stream",
     "text": [
      "1586802.0\n"
     ]
    }
   ],
   "source": [
    "# Model evaluation on test data\n",
    "test_eval = model.evaluate(X_test, y_test, verbose=0)\n",
    "print(test_eval)"
   ]
  },
  {
   "cell_type": "code",
   "execution_count": 45,
   "metadata": {
    "execution": {
     "iopub.execute_input": "2021-10-05T07:35:28.815774Z",
     "iopub.status.busy": "2021-10-05T07:35:28.815505Z",
     "iopub.status.idle": "2021-10-05T07:35:29.049878Z",
     "shell.execute_reply": "2021-10-05T07:35:29.048326Z",
     "shell.execute_reply.started": "2021-10-05T07:35:28.815747Z"
    }
   },
   "outputs": [
    {
     "name": "stdout",
     "output_type": "stream",
     "text": [
      "1581519.75\n"
     ]
    }
   ],
   "source": [
    "# model evaluation on train set\n",
    "train_eval = model.evaluate(X_train, y_train, verbose=0)\n",
    "print(train_eval)"
   ]
  },
  {
   "cell_type": "code",
   "execution_count": 46,
   "metadata": {
    "execution": {
     "iopub.execute_input": "2021-10-05T07:35:33.256866Z",
     "iopub.status.busy": "2021-10-05T07:35:33.256605Z",
     "iopub.status.idle": "2021-10-05T07:35:33.262387Z",
     "shell.execute_reply": "2021-10-05T07:35:33.261357Z",
     "shell.execute_reply.started": "2021-10-05T07:35:33.256837Z"
    }
   },
   "outputs": [
    {
     "name": "stdout",
     "output_type": "stream",
     "text": [
      "-5282.25\n"
     ]
    }
   ],
   "source": [
    "# Checking difference between train_eval and test_eval\n",
    "model_diff = train_eval - test_eval\n",
    "print(model_diff)"
   ]
  },
  {
   "cell_type": "code",
   "execution_count": 47,
   "metadata": {
    "execution": {
     "iopub.execute_input": "2021-10-05T07:43:39.259824Z",
     "iopub.status.busy": "2021-10-05T07:43:39.259059Z",
     "iopub.status.idle": "2021-10-05T07:43:39.42901Z",
     "shell.execute_reply": "2021-10-05T07:43:39.428267Z",
     "shell.execute_reply.started": "2021-10-05T07:43:39.259786Z"
    }
   },
   "outputs": [],
   "source": [
    "# Train prediction on test data\n",
    "train_prediction = model.predict(X_train)"
   ]
  },
  {
   "cell_type": "code",
   "execution_count": 48,
   "metadata": {
    "execution": {
     "iopub.execute_input": "2021-10-05T07:43:41.927489Z",
     "iopub.status.busy": "2021-10-05T07:43:41.927223Z",
     "iopub.status.idle": "2021-10-05T07:43:42.001595Z",
     "shell.execute_reply": "2021-10-05T07:43:42.000904Z",
     "shell.execute_reply.started": "2021-10-05T07:43:41.927462Z"
    }
   },
   "outputs": [],
   "source": [
    "# Test prediction on test data\n",
    "test_prediction = model.predict(X_test)"
   ]
  },
  {
   "cell_type": "code",
   "execution_count": 49,
   "metadata": {
    "execution": {
     "iopub.execute_input": "2021-10-05T07:44:03.228771Z",
     "iopub.status.busy": "2021-10-05T07:44:03.228227Z",
     "iopub.status.idle": "2021-10-05T07:44:03.233969Z",
     "shell.execute_reply": "2021-10-05T07:44:03.233205Z",
     "shell.execute_reply.started": "2021-10-05T07:44:03.228734Z"
    }
   },
   "outputs": [
    {
     "name": "stdout",
     "output_type": "stream",
     "text": [
      "[[2454.343 ]\n",
      " [ 772.9771]\n",
      " [ 815.3194]\n",
      " ...\n",
      " [ 971.5914]\n",
      " [1760.6007]\n",
      " [3041.2664]]\n"
     ]
    }
   ],
   "source": [
    "print(train_prediction)"
   ]
  },
  {
   "cell_type": "code",
   "execution_count": 50,
   "metadata": {
    "execution": {
     "iopub.execute_input": "2021-10-05T07:44:06.444354Z",
     "iopub.status.busy": "2021-10-05T07:44:06.443817Z",
     "iopub.status.idle": "2021-10-05T07:44:06.449385Z",
     "shell.execute_reply": "2021-10-05T07:44:06.448516Z",
     "shell.execute_reply.started": "2021-10-05T07:44:06.444317Z"
    }
   },
   "outputs": [
    {
     "name": "stdout",
     "output_type": "stream",
     "text": [
      "[[2460.3855 ]\n",
      " [1474.0889 ]\n",
      " [1335.0764 ]\n",
      " ...\n",
      " [3781.911  ]\n",
      " [ 189.39674]\n",
      " [4570.452  ]]\n"
     ]
    }
   ],
   "source": [
    "print(test_prediction)"
   ]
  },
  {
   "cell_type": "code",
   "execution_count": 51,
   "metadata": {
    "execution": {
     "iopub.execute_input": "2021-10-05T07:44:41.566773Z",
     "iopub.status.busy": "2021-10-05T07:44:41.566513Z",
     "iopub.status.idle": "2021-10-05T07:44:41.572248Z",
     "shell.execute_reply": "2021-10-05T07:44:41.571453Z",
     "shell.execute_reply.started": "2021-10-05T07:44:41.566745Z"
    }
   },
   "outputs": [],
   "source": [
    "# R Squared : R-squared measures the strength of the relationship between your model and the dependent variable on a convenient 0 – 100% scale.\n",
    "from sklearn.metrics import r2_score\n",
    "r2_train = r2_score(y_train, train_prediction)"
   ]
  },
  {
   "cell_type": "code",
   "execution_count": 52,
   "metadata": {
    "execution": {
     "iopub.execute_input": "2021-10-05T07:45:04.913467Z",
     "iopub.status.busy": "2021-10-05T07:45:04.913202Z",
     "iopub.status.idle": "2021-10-05T07:45:04.918678Z",
     "shell.execute_reply": "2021-10-05T07:45:04.917759Z",
     "shell.execute_reply.started": "2021-10-05T07:45:04.913439Z"
    }
   },
   "outputs": [
    {
     "name": "stdout",
     "output_type": "stream",
     "text": [
      "R squared value of train data: 0.4561501172260748\n"
     ]
    }
   ],
   "source": [
    "print('R squared value of train data:', r2_train)"
   ]
  },
  {
   "cell_type": "code",
   "execution_count": 53,
   "metadata": {
    "execution": {
     "iopub.execute_input": "2021-10-05T07:45:33.808901Z",
     "iopub.status.busy": "2021-10-05T07:45:33.808642Z",
     "iopub.status.idle": "2021-10-05T07:45:33.814198Z",
     "shell.execute_reply": "2021-10-05T07:45:33.813252Z",
     "shell.execute_reply.started": "2021-10-05T07:45:33.808875Z"
    }
   },
   "outputs": [],
   "source": [
    "r2_test = r2_score(y_test, test_prediction)"
   ]
  },
  {
   "cell_type": "code",
   "execution_count": 54,
   "metadata": {
    "execution": {
     "iopub.execute_input": "2021-10-05T07:45:53.788699Z",
     "iopub.status.busy": "2021-10-05T07:45:53.788151Z",
     "iopub.status.idle": "2021-10-05T07:45:53.793972Z",
     "shell.execute_reply": "2021-10-05T07:45:53.793005Z",
     "shell.execute_reply.started": "2021-10-05T07:45:53.788652Z"
    }
   },
   "outputs": [
    {
     "name": "stdout",
     "output_type": "stream",
     "text": [
      "R squared value of test data: 0.4578482545374828\n"
     ]
    }
   ],
   "source": [
    "print('R squared value of test data:',r2_test)"
   ]
  }
 ],
 "metadata": {
  "kernelspec": {
   "display_name": "Python 3 (ipykernel)",
   "language": "python",
   "name": "python3"
  },
  "language_info": {
   "codemirror_mode": {
    "name": "ipython",
    "version": 3
   },
   "file_extension": ".py",
   "mimetype": "text/x-python",
   "name": "python",
   "nbconvert_exporter": "python",
   "pygments_lexer": "ipython3",
   "version": "3.8.5"
  }
 },
 "nbformat": 4,
 "nbformat_minor": 4
}
